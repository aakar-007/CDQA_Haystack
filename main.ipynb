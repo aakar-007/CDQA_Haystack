{
  "nbformat": 4,
  "nbformat_minor": 0,
  "metadata": {
    "colab": {
      "name": "Copy of QA_Haystack.ipynb",
      "provenance": [],
      "collapsed_sections": [
        "O7tzf8zYh-sl",
        "3HwUAOvgc7hQ",
        "P96uhCR_c_Mz",
        "bVK82Mqba1xx",
        "oCs6cVYxeBgJ"
      ]
    },
    "kernelspec": {
      "display_name": "Python 3",
      "name": "python3"
    },
    "language_info": {
      "name": "python"
    },
    "widgets": {
      "application/vnd.jupyter.widget-state+json": {
        "c8d2acec06e14563accb23774e2066e1": {
          "model_module": "@jupyter-widgets/controls",
          "model_name": "HBoxModel",
          "model_module_version": "1.5.0",
          "state": {
            "_view_name": "HBoxView",
            "_dom_classes": [],
            "_model_name": "HBoxModel",
            "_view_module": "@jupyter-widgets/controls",
            "_model_module_version": "1.5.0",
            "_view_count": null,
            "_view_module_version": "1.5.0",
            "box_style": "",
            "layout": "IPY_MODEL_acd84a6183ee4e26a764021e93753160",
            "_model_module": "@jupyter-widgets/controls",
            "children": [
              "IPY_MODEL_45320c1939fb4768b070cdca32415d6e",
              "IPY_MODEL_2908a3fa16434aeebd34f7b9e274147e",
              "IPY_MODEL_31429da8c0114d0ebab457afc1139327"
            ]
          }
        },
        "acd84a6183ee4e26a764021e93753160": {
          "model_module": "@jupyter-widgets/base",
          "model_name": "LayoutModel",
          "model_module_version": "1.2.0",
          "state": {
            "_view_name": "LayoutView",
            "grid_template_rows": null,
            "right": null,
            "justify_content": null,
            "_view_module": "@jupyter-widgets/base",
            "overflow": null,
            "_model_module_version": "1.2.0",
            "_view_count": null,
            "flex_flow": null,
            "width": null,
            "min_width": null,
            "border": null,
            "align_items": null,
            "bottom": null,
            "_model_module": "@jupyter-widgets/base",
            "top": null,
            "grid_column": null,
            "overflow_y": null,
            "overflow_x": null,
            "grid_auto_flow": null,
            "grid_area": null,
            "grid_template_columns": null,
            "flex": null,
            "_model_name": "LayoutModel",
            "justify_items": null,
            "grid_row": null,
            "max_height": null,
            "align_content": null,
            "visibility": null,
            "align_self": null,
            "height": null,
            "min_height": null,
            "padding": null,
            "grid_auto_rows": null,
            "grid_gap": null,
            "max_width": null,
            "order": null,
            "_view_module_version": "1.2.0",
            "grid_template_areas": null,
            "object_position": null,
            "object_fit": null,
            "grid_auto_columns": null,
            "margin": null,
            "display": null,
            "left": null
          }
        },
        "45320c1939fb4768b070cdca32415d6e": {
          "model_module": "@jupyter-widgets/controls",
          "model_name": "HTMLModel",
          "model_module_version": "1.5.0",
          "state": {
            "_view_name": "HTMLView",
            "style": "IPY_MODEL_8be5157b799b4d34ba7332d280f2b955",
            "_dom_classes": [],
            "description": "",
            "_model_name": "HTMLModel",
            "placeholder": "​",
            "_view_module": "@jupyter-widgets/controls",
            "_model_module_version": "1.5.0",
            "value": "Create embeddings: 100%",
            "_view_count": null,
            "_view_module_version": "1.5.0",
            "description_tooltip": null,
            "_model_module": "@jupyter-widgets/controls",
            "layout": "IPY_MODEL_cecb9cdb6730446097e9944fca0879fd"
          }
        },
        "2908a3fa16434aeebd34f7b9e274147e": {
          "model_module": "@jupyter-widgets/controls",
          "model_name": "FloatProgressModel",
          "model_module_version": "1.5.0",
          "state": {
            "_view_name": "ProgressView",
            "style": "IPY_MODEL_7271d3506d7644798dc71ff25e652cb7",
            "_dom_classes": [],
            "description": "",
            "_model_name": "FloatProgressModel",
            "bar_style": "",
            "max": 48,
            "_view_module": "@jupyter-widgets/controls",
            "_model_module_version": "1.5.0",
            "value": 48,
            "_view_count": null,
            "_view_module_version": "1.5.0",
            "orientation": "horizontal",
            "min": 0,
            "description_tooltip": null,
            "_model_module": "@jupyter-widgets/controls",
            "layout": "IPY_MODEL_1caa5711228b4a6b80c7639a25beedb0"
          }
        },
        "31429da8c0114d0ebab457afc1139327": {
          "model_module": "@jupyter-widgets/controls",
          "model_name": "HTMLModel",
          "model_module_version": "1.5.0",
          "state": {
            "_view_name": "HTMLView",
            "style": "IPY_MODEL_95a6e626e14741edac6330c3fb4251d8",
            "_dom_classes": [],
            "description": "",
            "_model_name": "HTMLModel",
            "placeholder": "​",
            "_view_module": "@jupyter-widgets/controls",
            "_model_module_version": "1.5.0",
            "value": " 48/48 [00:01&lt;00:00, 41.77 Docs/s]",
            "_view_count": null,
            "_view_module_version": "1.5.0",
            "description_tooltip": null,
            "_model_module": "@jupyter-widgets/controls",
            "layout": "IPY_MODEL_71cc4ff92118452ea185914733b45112"
          }
        },
        "8be5157b799b4d34ba7332d280f2b955": {
          "model_module": "@jupyter-widgets/controls",
          "model_name": "DescriptionStyleModel",
          "model_module_version": "1.5.0",
          "state": {
            "_view_name": "StyleView",
            "_model_name": "DescriptionStyleModel",
            "description_width": "",
            "_view_module": "@jupyter-widgets/base",
            "_model_module_version": "1.5.0",
            "_view_count": null,
            "_view_module_version": "1.2.0",
            "_model_module": "@jupyter-widgets/controls"
          }
        },
        "cecb9cdb6730446097e9944fca0879fd": {
          "model_module": "@jupyter-widgets/base",
          "model_name": "LayoutModel",
          "model_module_version": "1.2.0",
          "state": {
            "_view_name": "LayoutView",
            "grid_template_rows": null,
            "right": null,
            "justify_content": null,
            "_view_module": "@jupyter-widgets/base",
            "overflow": null,
            "_model_module_version": "1.2.0",
            "_view_count": null,
            "flex_flow": null,
            "width": null,
            "min_width": null,
            "border": null,
            "align_items": null,
            "bottom": null,
            "_model_module": "@jupyter-widgets/base",
            "top": null,
            "grid_column": null,
            "overflow_y": null,
            "overflow_x": null,
            "grid_auto_flow": null,
            "grid_area": null,
            "grid_template_columns": null,
            "flex": null,
            "_model_name": "LayoutModel",
            "justify_items": null,
            "grid_row": null,
            "max_height": null,
            "align_content": null,
            "visibility": null,
            "align_self": null,
            "height": null,
            "min_height": null,
            "padding": null,
            "grid_auto_rows": null,
            "grid_gap": null,
            "max_width": null,
            "order": null,
            "_view_module_version": "1.2.0",
            "grid_template_areas": null,
            "object_position": null,
            "object_fit": null,
            "grid_auto_columns": null,
            "margin": null,
            "display": null,
            "left": null
          }
        },
        "7271d3506d7644798dc71ff25e652cb7": {
          "model_module": "@jupyter-widgets/controls",
          "model_name": "ProgressStyleModel",
          "model_module_version": "1.5.0",
          "state": {
            "_view_name": "StyleView",
            "_model_name": "ProgressStyleModel",
            "description_width": "",
            "_view_module": "@jupyter-widgets/base",
            "_model_module_version": "1.5.0",
            "_view_count": null,
            "_view_module_version": "1.2.0",
            "bar_color": null,
            "_model_module": "@jupyter-widgets/controls"
          }
        },
        "1caa5711228b4a6b80c7639a25beedb0": {
          "model_module": "@jupyter-widgets/base",
          "model_name": "LayoutModel",
          "model_module_version": "1.2.0",
          "state": {
            "_view_name": "LayoutView",
            "grid_template_rows": null,
            "right": null,
            "justify_content": null,
            "_view_module": "@jupyter-widgets/base",
            "overflow": null,
            "_model_module_version": "1.2.0",
            "_view_count": null,
            "flex_flow": null,
            "width": null,
            "min_width": null,
            "border": null,
            "align_items": null,
            "bottom": null,
            "_model_module": "@jupyter-widgets/base",
            "top": null,
            "grid_column": null,
            "overflow_y": null,
            "overflow_x": null,
            "grid_auto_flow": null,
            "grid_area": null,
            "grid_template_columns": null,
            "flex": null,
            "_model_name": "LayoutModel",
            "justify_items": null,
            "grid_row": null,
            "max_height": null,
            "align_content": null,
            "visibility": null,
            "align_self": null,
            "height": null,
            "min_height": null,
            "padding": null,
            "grid_auto_rows": null,
            "grid_gap": null,
            "max_width": null,
            "order": null,
            "_view_module_version": "1.2.0",
            "grid_template_areas": null,
            "object_position": null,
            "object_fit": null,
            "grid_auto_columns": null,
            "margin": null,
            "display": null,
            "left": null
          }
        },
        "95a6e626e14741edac6330c3fb4251d8": {
          "model_module": "@jupyter-widgets/controls",
          "model_name": "DescriptionStyleModel",
          "model_module_version": "1.5.0",
          "state": {
            "_view_name": "StyleView",
            "_model_name": "DescriptionStyleModel",
            "description_width": "",
            "_view_module": "@jupyter-widgets/base",
            "_model_module_version": "1.5.0",
            "_view_count": null,
            "_view_module_version": "1.2.0",
            "_model_module": "@jupyter-widgets/controls"
          }
        },
        "71cc4ff92118452ea185914733b45112": {
          "model_module": "@jupyter-widgets/base",
          "model_name": "LayoutModel",
          "model_module_version": "1.2.0",
          "state": {
            "_view_name": "LayoutView",
            "grid_template_rows": null,
            "right": null,
            "justify_content": null,
            "_view_module": "@jupyter-widgets/base",
            "overflow": null,
            "_model_module_version": "1.2.0",
            "_view_count": null,
            "flex_flow": null,
            "width": null,
            "min_width": null,
            "border": null,
            "align_items": null,
            "bottom": null,
            "_model_module": "@jupyter-widgets/base",
            "top": null,
            "grid_column": null,
            "overflow_y": null,
            "overflow_x": null,
            "grid_auto_flow": null,
            "grid_area": null,
            "grid_template_columns": null,
            "flex": null,
            "_model_name": "LayoutModel",
            "justify_items": null,
            "grid_row": null,
            "max_height": null,
            "align_content": null,
            "visibility": null,
            "align_self": null,
            "height": null,
            "min_height": null,
            "padding": null,
            "grid_auto_rows": null,
            "grid_gap": null,
            "max_width": null,
            "order": null,
            "_view_module_version": "1.2.0",
            "grid_template_areas": null,
            "object_position": null,
            "object_fit": null,
            "grid_auto_columns": null,
            "margin": null,
            "display": null,
            "left": null
          }
        },
        "da19e69331d44ba19795ab6722b0936a": {
          "model_module": "@jupyter-widgets/controls",
          "model_name": "HBoxModel",
          "model_module_version": "1.5.0",
          "state": {
            "_view_name": "HBoxView",
            "_dom_classes": [],
            "_model_name": "HBoxModel",
            "_view_module": "@jupyter-widgets/controls",
            "_model_module_version": "1.5.0",
            "_view_count": null,
            "_view_module_version": "1.5.0",
            "box_style": "",
            "layout": "IPY_MODEL_88e6f8e2b985450d9dcd688b751b349a",
            "_model_module": "@jupyter-widgets/controls",
            "children": [
              "IPY_MODEL_359b3af5b8ae4cd499d0a38eea1c73e8",
              "IPY_MODEL_76cdbca99bcf4869b2537d2a092efa15",
              "IPY_MODEL_2579baaacece46b8895cdd3829ba9f55"
            ]
          }
        },
        "88e6f8e2b985450d9dcd688b751b349a": {
          "model_module": "@jupyter-widgets/base",
          "model_name": "LayoutModel",
          "model_module_version": "1.2.0",
          "state": {
            "_view_name": "LayoutView",
            "grid_template_rows": null,
            "right": null,
            "justify_content": null,
            "_view_module": "@jupyter-widgets/base",
            "overflow": null,
            "_model_module_version": "1.2.0",
            "_view_count": null,
            "flex_flow": null,
            "width": null,
            "min_width": null,
            "border": null,
            "align_items": null,
            "bottom": null,
            "_model_module": "@jupyter-widgets/base",
            "top": null,
            "grid_column": null,
            "overflow_y": null,
            "overflow_x": null,
            "grid_auto_flow": null,
            "grid_area": null,
            "grid_template_columns": null,
            "flex": null,
            "_model_name": "LayoutModel",
            "justify_items": null,
            "grid_row": null,
            "max_height": null,
            "align_content": null,
            "visibility": null,
            "align_self": null,
            "height": null,
            "min_height": null,
            "padding": null,
            "grid_auto_rows": null,
            "grid_gap": null,
            "max_width": null,
            "order": null,
            "_view_module_version": "1.2.0",
            "grid_template_areas": null,
            "object_position": null,
            "object_fit": null,
            "grid_auto_columns": null,
            "margin": null,
            "display": null,
            "left": null
          }
        },
        "359b3af5b8ae4cd499d0a38eea1c73e8": {
          "model_module": "@jupyter-widgets/controls",
          "model_name": "HTMLModel",
          "model_module_version": "1.5.0",
          "state": {
            "_view_name": "HTMLView",
            "style": "IPY_MODEL_7abf4c309e7e479bb502255018e95137",
            "_dom_classes": [],
            "description": "",
            "_model_name": "HTMLModel",
            "placeholder": "​",
            "_view_module": "@jupyter-widgets/controls",
            "_model_module_version": "1.5.0",
            "value": "Downloading: 100%",
            "_view_count": null,
            "_view_module_version": "1.5.0",
            "description_tooltip": null,
            "_model_module": "@jupyter-widgets/controls",
            "layout": "IPY_MODEL_7d9f8ef13e45470089c6c08f0175adfe"
          }
        },
        "76cdbca99bcf4869b2537d2a092efa15": {
          "model_module": "@jupyter-widgets/controls",
          "model_name": "FloatProgressModel",
          "model_module_version": "1.5.0",
          "state": {
            "_view_name": "ProgressView",
            "style": "IPY_MODEL_95f5c1609531492ea98b69bdea39aa99",
            "_dom_classes": [],
            "description": "",
            "_model_name": "FloatProgressModel",
            "bar_style": "success",
            "max": 715,
            "_view_module": "@jupyter-widgets/controls",
            "_model_module_version": "1.5.0",
            "value": 715,
            "_view_count": null,
            "_view_module_version": "1.5.0",
            "orientation": "horizontal",
            "min": 0,
            "description_tooltip": null,
            "_model_module": "@jupyter-widgets/controls",
            "layout": "IPY_MODEL_5b27befceac7406ab0b36fb6f5724cea"
          }
        },
        "2579baaacece46b8895cdd3829ba9f55": {
          "model_module": "@jupyter-widgets/controls",
          "model_name": "HTMLModel",
          "model_module_version": "1.5.0",
          "state": {
            "_view_name": "HTMLView",
            "style": "IPY_MODEL_7c6b357108c1418bbb9d45bc97bfa1bc",
            "_dom_classes": [],
            "description": "",
            "_model_name": "HTMLModel",
            "placeholder": "​",
            "_view_module": "@jupyter-widgets/controls",
            "_model_module_version": "1.5.0",
            "value": " 715/715 [00:00&lt;00:00, 14.8kB/s]",
            "_view_count": null,
            "_view_module_version": "1.5.0",
            "description_tooltip": null,
            "_model_module": "@jupyter-widgets/controls",
            "layout": "IPY_MODEL_92401f06eb8241cfbdce9bd7fb4aa674"
          }
        },
        "7abf4c309e7e479bb502255018e95137": {
          "model_module": "@jupyter-widgets/controls",
          "model_name": "DescriptionStyleModel",
          "model_module_version": "1.5.0",
          "state": {
            "_view_name": "StyleView",
            "_model_name": "DescriptionStyleModel",
            "description_width": "",
            "_view_module": "@jupyter-widgets/base",
            "_model_module_version": "1.5.0",
            "_view_count": null,
            "_view_module_version": "1.2.0",
            "_model_module": "@jupyter-widgets/controls"
          }
        },
        "7d9f8ef13e45470089c6c08f0175adfe": {
          "model_module": "@jupyter-widgets/base",
          "model_name": "LayoutModel",
          "model_module_version": "1.2.0",
          "state": {
            "_view_name": "LayoutView",
            "grid_template_rows": null,
            "right": null,
            "justify_content": null,
            "_view_module": "@jupyter-widgets/base",
            "overflow": null,
            "_model_module_version": "1.2.0",
            "_view_count": null,
            "flex_flow": null,
            "width": null,
            "min_width": null,
            "border": null,
            "align_items": null,
            "bottom": null,
            "_model_module": "@jupyter-widgets/base",
            "top": null,
            "grid_column": null,
            "overflow_y": null,
            "overflow_x": null,
            "grid_auto_flow": null,
            "grid_area": null,
            "grid_template_columns": null,
            "flex": null,
            "_model_name": "LayoutModel",
            "justify_items": null,
            "grid_row": null,
            "max_height": null,
            "align_content": null,
            "visibility": null,
            "align_self": null,
            "height": null,
            "min_height": null,
            "padding": null,
            "grid_auto_rows": null,
            "grid_gap": null,
            "max_width": null,
            "order": null,
            "_view_module_version": "1.2.0",
            "grid_template_areas": null,
            "object_position": null,
            "object_fit": null,
            "grid_auto_columns": null,
            "margin": null,
            "display": null,
            "left": null
          }
        },
        "95f5c1609531492ea98b69bdea39aa99": {
          "model_module": "@jupyter-widgets/controls",
          "model_name": "ProgressStyleModel",
          "model_module_version": "1.5.0",
          "state": {
            "_view_name": "StyleView",
            "_model_name": "ProgressStyleModel",
            "description_width": "",
            "_view_module": "@jupyter-widgets/base",
            "_model_module_version": "1.5.0",
            "_view_count": null,
            "_view_module_version": "1.2.0",
            "bar_color": null,
            "_model_module": "@jupyter-widgets/controls"
          }
        },
        "5b27befceac7406ab0b36fb6f5724cea": {
          "model_module": "@jupyter-widgets/base",
          "model_name": "LayoutModel",
          "model_module_version": "1.2.0",
          "state": {
            "_view_name": "LayoutView",
            "grid_template_rows": null,
            "right": null,
            "justify_content": null,
            "_view_module": "@jupyter-widgets/base",
            "overflow": null,
            "_model_module_version": "1.2.0",
            "_view_count": null,
            "flex_flow": null,
            "width": null,
            "min_width": null,
            "border": null,
            "align_items": null,
            "bottom": null,
            "_model_module": "@jupyter-widgets/base",
            "top": null,
            "grid_column": null,
            "overflow_y": null,
            "overflow_x": null,
            "grid_auto_flow": null,
            "grid_area": null,
            "grid_template_columns": null,
            "flex": null,
            "_model_name": "LayoutModel",
            "justify_items": null,
            "grid_row": null,
            "max_height": null,
            "align_content": null,
            "visibility": null,
            "align_self": null,
            "height": null,
            "min_height": null,
            "padding": null,
            "grid_auto_rows": null,
            "grid_gap": null,
            "max_width": null,
            "order": null,
            "_view_module_version": "1.2.0",
            "grid_template_areas": null,
            "object_position": null,
            "object_fit": null,
            "grid_auto_columns": null,
            "margin": null,
            "display": null,
            "left": null
          }
        },
        "7c6b357108c1418bbb9d45bc97bfa1bc": {
          "model_module": "@jupyter-widgets/controls",
          "model_name": "DescriptionStyleModel",
          "model_module_version": "1.5.0",
          "state": {
            "_view_name": "StyleView",
            "_model_name": "DescriptionStyleModel",
            "description_width": "",
            "_view_module": "@jupyter-widgets/base",
            "_model_module_version": "1.5.0",
            "_view_count": null,
            "_view_module_version": "1.2.0",
            "_model_module": "@jupyter-widgets/controls"
          }
        },
        "92401f06eb8241cfbdce9bd7fb4aa674": {
          "model_module": "@jupyter-widgets/base",
          "model_name": "LayoutModel",
          "model_module_version": "1.2.0",
          "state": {
            "_view_name": "LayoutView",
            "grid_template_rows": null,
            "right": null,
            "justify_content": null,
            "_view_module": "@jupyter-widgets/base",
            "overflow": null,
            "_model_module_version": "1.2.0",
            "_view_count": null,
            "flex_flow": null,
            "width": null,
            "min_width": null,
            "border": null,
            "align_items": null,
            "bottom": null,
            "_model_module": "@jupyter-widgets/base",
            "top": null,
            "grid_column": null,
            "overflow_y": null,
            "overflow_x": null,
            "grid_auto_flow": null,
            "grid_area": null,
            "grid_template_columns": null,
            "flex": null,
            "_model_name": "LayoutModel",
            "justify_items": null,
            "grid_row": null,
            "max_height": null,
            "align_content": null,
            "visibility": null,
            "align_self": null,
            "height": null,
            "min_height": null,
            "padding": null,
            "grid_auto_rows": null,
            "grid_gap": null,
            "max_width": null,
            "order": null,
            "_view_module_version": "1.2.0",
            "grid_template_areas": null,
            "object_position": null,
            "object_fit": null,
            "grid_auto_columns": null,
            "margin": null,
            "display": null,
            "left": null
          }
        },
        "f490b726309945c593a90e9cc71af745": {
          "model_module": "@jupyter-widgets/controls",
          "model_name": "HBoxModel",
          "model_module_version": "1.5.0",
          "state": {
            "_view_name": "HBoxView",
            "_dom_classes": [],
            "_model_name": "HBoxModel",
            "_view_module": "@jupyter-widgets/controls",
            "_model_module_version": "1.5.0",
            "_view_count": null,
            "_view_module_version": "1.5.0",
            "box_style": "",
            "layout": "IPY_MODEL_960064aae0014b708fc36d06b73eb119",
            "_model_module": "@jupyter-widgets/controls",
            "children": [
              "IPY_MODEL_08d6d6b98e8d47e4a06170be80c457b1",
              "IPY_MODEL_18c159d0a75148dd892d8992e5bc57c0",
              "IPY_MODEL_cfd73ea6a72941c4a66655124784f000"
            ]
          }
        },
        "960064aae0014b708fc36d06b73eb119": {
          "model_module": "@jupyter-widgets/base",
          "model_name": "LayoutModel",
          "model_module_version": "1.2.0",
          "state": {
            "_view_name": "LayoutView",
            "grid_template_rows": null,
            "right": null,
            "justify_content": null,
            "_view_module": "@jupyter-widgets/base",
            "overflow": null,
            "_model_module_version": "1.2.0",
            "_view_count": null,
            "flex_flow": null,
            "width": null,
            "min_width": null,
            "border": null,
            "align_items": null,
            "bottom": null,
            "_model_module": "@jupyter-widgets/base",
            "top": null,
            "grid_column": null,
            "overflow_y": null,
            "overflow_x": null,
            "grid_auto_flow": null,
            "grid_area": null,
            "grid_template_columns": null,
            "flex": null,
            "_model_name": "LayoutModel",
            "justify_items": null,
            "grid_row": null,
            "max_height": null,
            "align_content": null,
            "visibility": null,
            "align_self": null,
            "height": null,
            "min_height": null,
            "padding": null,
            "grid_auto_rows": null,
            "grid_gap": null,
            "max_width": null,
            "order": null,
            "_view_module_version": "1.2.0",
            "grid_template_areas": null,
            "object_position": null,
            "object_fit": null,
            "grid_auto_columns": null,
            "margin": null,
            "display": null,
            "left": null
          }
        },
        "08d6d6b98e8d47e4a06170be80c457b1": {
          "model_module": "@jupyter-widgets/controls",
          "model_name": "HTMLModel",
          "model_module_version": "1.5.0",
          "state": {
            "_view_name": "HTMLView",
            "style": "IPY_MODEL_4fb2e79b8dfb465fa332e245244891fc",
            "_dom_classes": [],
            "description": "",
            "_model_name": "HTMLModel",
            "placeholder": "​",
            "_view_module": "@jupyter-widgets/controls",
            "_model_module_version": "1.5.0",
            "value": "Downloading: 100%",
            "_view_count": null,
            "_view_module_version": "1.5.0",
            "description_tooltip": null,
            "_model_module": "@jupyter-widgets/controls",
            "layout": "IPY_MODEL_dc9c95225fba4e7c95e53b70776d5cf6"
          }
        },
        "18c159d0a75148dd892d8992e5bc57c0": {
          "model_module": "@jupyter-widgets/controls",
          "model_name": "FloatProgressModel",
          "model_module_version": "1.5.0",
          "state": {
            "_view_name": "ProgressView",
            "style": "IPY_MODEL_62eb854fa07a424fb9f9f3022375a54d",
            "_dom_classes": [],
            "description": "",
            "_model_name": "FloatProgressModel",
            "bar_style": "success",
            "max": 890431403,
            "_view_module": "@jupyter-widgets/controls",
            "_model_module_version": "1.5.0",
            "value": 890431403,
            "_view_count": null,
            "_view_module_version": "1.5.0",
            "orientation": "horizontal",
            "min": 0,
            "description_tooltip": null,
            "_model_module": "@jupyter-widgets/controls",
            "layout": "IPY_MODEL_4f7efbdfb5d14effa1031ab8f682f51a"
          }
        },
        "cfd73ea6a72941c4a66655124784f000": {
          "model_module": "@jupyter-widgets/controls",
          "model_name": "HTMLModel",
          "model_module_version": "1.5.0",
          "state": {
            "_view_name": "HTMLView",
            "style": "IPY_MODEL_add50f9bdc5e446f91b4e4c8b1cb6fa6",
            "_dom_classes": [],
            "description": "",
            "_model_name": "HTMLModel",
            "placeholder": "​",
            "_view_module": "@jupyter-widgets/controls",
            "_model_module_version": "1.5.0",
            "value": " 890M/890M [00:30&lt;00:00, 32.7MB/s]",
            "_view_count": null,
            "_view_module_version": "1.5.0",
            "description_tooltip": null,
            "_model_module": "@jupyter-widgets/controls",
            "layout": "IPY_MODEL_c1b11f7c36f341988e1a273836ea0fae"
          }
        },
        "4fb2e79b8dfb465fa332e245244891fc": {
          "model_module": "@jupyter-widgets/controls",
          "model_name": "DescriptionStyleModel",
          "model_module_version": "1.5.0",
          "state": {
            "_view_name": "StyleView",
            "_model_name": "DescriptionStyleModel",
            "description_width": "",
            "_view_module": "@jupyter-widgets/base",
            "_model_module_version": "1.5.0",
            "_view_count": null,
            "_view_module_version": "1.2.0",
            "_model_module": "@jupyter-widgets/controls"
          }
        },
        "dc9c95225fba4e7c95e53b70776d5cf6": {
          "model_module": "@jupyter-widgets/base",
          "model_name": "LayoutModel",
          "model_module_version": "1.2.0",
          "state": {
            "_view_name": "LayoutView",
            "grid_template_rows": null,
            "right": null,
            "justify_content": null,
            "_view_module": "@jupyter-widgets/base",
            "overflow": null,
            "_model_module_version": "1.2.0",
            "_view_count": null,
            "flex_flow": null,
            "width": null,
            "min_width": null,
            "border": null,
            "align_items": null,
            "bottom": null,
            "_model_module": "@jupyter-widgets/base",
            "top": null,
            "grid_column": null,
            "overflow_y": null,
            "overflow_x": null,
            "grid_auto_flow": null,
            "grid_area": null,
            "grid_template_columns": null,
            "flex": null,
            "_model_name": "LayoutModel",
            "justify_items": null,
            "grid_row": null,
            "max_height": null,
            "align_content": null,
            "visibility": null,
            "align_self": null,
            "height": null,
            "min_height": null,
            "padding": null,
            "grid_auto_rows": null,
            "grid_gap": null,
            "max_width": null,
            "order": null,
            "_view_module_version": "1.2.0",
            "grid_template_areas": null,
            "object_position": null,
            "object_fit": null,
            "grid_auto_columns": null,
            "margin": null,
            "display": null,
            "left": null
          }
        },
        "62eb854fa07a424fb9f9f3022375a54d": {
          "model_module": "@jupyter-widgets/controls",
          "model_name": "ProgressStyleModel",
          "model_module_version": "1.5.0",
          "state": {
            "_view_name": "StyleView",
            "_model_name": "ProgressStyleModel",
            "description_width": "",
            "_view_module": "@jupyter-widgets/base",
            "_model_module_version": "1.5.0",
            "_view_count": null,
            "_view_module_version": "1.2.0",
            "bar_color": null,
            "_model_module": "@jupyter-widgets/controls"
          }
        },
        "4f7efbdfb5d14effa1031ab8f682f51a": {
          "model_module": "@jupyter-widgets/base",
          "model_name": "LayoutModel",
          "model_module_version": "1.2.0",
          "state": {
            "_view_name": "LayoutView",
            "grid_template_rows": null,
            "right": null,
            "justify_content": null,
            "_view_module": "@jupyter-widgets/base",
            "overflow": null,
            "_model_module_version": "1.2.0",
            "_view_count": null,
            "flex_flow": null,
            "width": null,
            "min_width": null,
            "border": null,
            "align_items": null,
            "bottom": null,
            "_model_module": "@jupyter-widgets/base",
            "top": null,
            "grid_column": null,
            "overflow_y": null,
            "overflow_x": null,
            "grid_auto_flow": null,
            "grid_area": null,
            "grid_template_columns": null,
            "flex": null,
            "_model_name": "LayoutModel",
            "justify_items": null,
            "grid_row": null,
            "max_height": null,
            "align_content": null,
            "visibility": null,
            "align_self": null,
            "height": null,
            "min_height": null,
            "padding": null,
            "grid_auto_rows": null,
            "grid_gap": null,
            "max_width": null,
            "order": null,
            "_view_module_version": "1.2.0",
            "grid_template_areas": null,
            "object_position": null,
            "object_fit": null,
            "grid_auto_columns": null,
            "margin": null,
            "display": null,
            "left": null
          }
        },
        "add50f9bdc5e446f91b4e4c8b1cb6fa6": {
          "model_module": "@jupyter-widgets/controls",
          "model_name": "DescriptionStyleModel",
          "model_module_version": "1.5.0",
          "state": {
            "_view_name": "StyleView",
            "_model_name": "DescriptionStyleModel",
            "description_width": "",
            "_view_module": "@jupyter-widgets/base",
            "_model_module_version": "1.5.0",
            "_view_count": null,
            "_view_module_version": "1.2.0",
            "_model_module": "@jupyter-widgets/controls"
          }
        },
        "c1b11f7c36f341988e1a273836ea0fae": {
          "model_module": "@jupyter-widgets/base",
          "model_name": "LayoutModel",
          "model_module_version": "1.2.0",
          "state": {
            "_view_name": "LayoutView",
            "grid_template_rows": null,
            "right": null,
            "justify_content": null,
            "_view_module": "@jupyter-widgets/base",
            "overflow": null,
            "_model_module_version": "1.2.0",
            "_view_count": null,
            "flex_flow": null,
            "width": null,
            "min_width": null,
            "border": null,
            "align_items": null,
            "bottom": null,
            "_model_module": "@jupyter-widgets/base",
            "top": null,
            "grid_column": null,
            "overflow_y": null,
            "overflow_x": null,
            "grid_auto_flow": null,
            "grid_area": null,
            "grid_template_columns": null,
            "flex": null,
            "_model_name": "LayoutModel",
            "justify_items": null,
            "grid_row": null,
            "max_height": null,
            "align_content": null,
            "visibility": null,
            "align_self": null,
            "height": null,
            "min_height": null,
            "padding": null,
            "grid_auto_rows": null,
            "grid_gap": null,
            "max_width": null,
            "order": null,
            "_view_module_version": "1.2.0",
            "grid_template_areas": null,
            "object_position": null,
            "object_fit": null,
            "grid_auto_columns": null,
            "margin": null,
            "display": null,
            "left": null
          }
        },
        "d8199a40fa4245bfb8a917d58f13d340": {
          "model_module": "@jupyter-widgets/controls",
          "model_name": "HBoxModel",
          "model_module_version": "1.5.0",
          "state": {
            "_view_name": "HBoxView",
            "_dom_classes": [],
            "_model_name": "HBoxModel",
            "_view_module": "@jupyter-widgets/controls",
            "_model_module_version": "1.5.0",
            "_view_count": null,
            "_view_module_version": "1.5.0",
            "box_style": "",
            "layout": "IPY_MODEL_67f03f524fd24d9283e6924fff8740cb",
            "_model_module": "@jupyter-widgets/controls",
            "children": [
              "IPY_MODEL_40fa718e20214e9cb3df0ea1a26a2e03",
              "IPY_MODEL_d39e0750623a465d97a07caa21594b12",
              "IPY_MODEL_d54c7d0e962048c5b3e1dcb1379ffef2"
            ]
          }
        },
        "67f03f524fd24d9283e6924fff8740cb": {
          "model_module": "@jupyter-widgets/base",
          "model_name": "LayoutModel",
          "model_module_version": "1.2.0",
          "state": {
            "_view_name": "LayoutView",
            "grid_template_rows": null,
            "right": null,
            "justify_content": null,
            "_view_module": "@jupyter-widgets/base",
            "overflow": null,
            "_model_module_version": "1.2.0",
            "_view_count": null,
            "flex_flow": null,
            "width": null,
            "min_width": null,
            "border": null,
            "align_items": null,
            "bottom": null,
            "_model_module": "@jupyter-widgets/base",
            "top": null,
            "grid_column": null,
            "overflow_y": null,
            "overflow_x": null,
            "grid_auto_flow": null,
            "grid_area": null,
            "grid_template_columns": null,
            "flex": null,
            "_model_name": "LayoutModel",
            "justify_items": null,
            "grid_row": null,
            "max_height": null,
            "align_content": null,
            "visibility": null,
            "align_self": null,
            "height": null,
            "min_height": null,
            "padding": null,
            "grid_auto_rows": null,
            "grid_gap": null,
            "max_width": null,
            "order": null,
            "_view_module_version": "1.2.0",
            "grid_template_areas": null,
            "object_position": null,
            "object_fit": null,
            "grid_auto_columns": null,
            "margin": null,
            "display": null,
            "left": null
          }
        },
        "40fa718e20214e9cb3df0ea1a26a2e03": {
          "model_module": "@jupyter-widgets/controls",
          "model_name": "HTMLModel",
          "model_module_version": "1.5.0",
          "state": {
            "_view_name": "HTMLView",
            "style": "IPY_MODEL_1ca8796d0ddc48d18e929208d358de7d",
            "_dom_classes": [],
            "description": "",
            "_model_name": "HTMLModel",
            "placeholder": "​",
            "_view_module": "@jupyter-widgets/controls",
            "_model_module_version": "1.5.0",
            "value": "Downloading: 100%",
            "_view_count": null,
            "_view_module_version": "1.5.0",
            "description_tooltip": null,
            "_model_module": "@jupyter-widgets/controls",
            "layout": "IPY_MODEL_244f37ed459f4609976251cff4b0ce6d"
          }
        },
        "d39e0750623a465d97a07caa21594b12": {
          "model_module": "@jupyter-widgets/controls",
          "model_name": "FloatProgressModel",
          "model_module_version": "1.5.0",
          "state": {
            "_view_name": "ProgressView",
            "style": "IPY_MODEL_e18f3c16ec274983b335c393c28d3bea",
            "_dom_classes": [],
            "description": "",
            "_model_name": "FloatProgressModel",
            "bar_style": "success",
            "max": 760289,
            "_view_module": "@jupyter-widgets/controls",
            "_model_module_version": "1.5.0",
            "value": 760289,
            "_view_count": null,
            "_view_module_version": "1.5.0",
            "orientation": "horizontal",
            "min": 0,
            "description_tooltip": null,
            "_model_module": "@jupyter-widgets/controls",
            "layout": "IPY_MODEL_2eaa5d0d5c5e45c7a1955691513a7445"
          }
        },
        "d54c7d0e962048c5b3e1dcb1379ffef2": {
          "model_module": "@jupyter-widgets/controls",
          "model_name": "HTMLModel",
          "model_module_version": "1.5.0",
          "state": {
            "_view_name": "HTMLView",
            "style": "IPY_MODEL_f4aaa90057f14618b6419a6a79535be7",
            "_dom_classes": [],
            "description": "",
            "_model_name": "HTMLModel",
            "placeholder": "​",
            "_view_module": "@jupyter-widgets/controls",
            "_model_module_version": "1.5.0",
            "value": " 760k/760k [00:00&lt;00:00, 1.25MB/s]",
            "_view_count": null,
            "_view_module_version": "1.5.0",
            "description_tooltip": null,
            "_model_module": "@jupyter-widgets/controls",
            "layout": "IPY_MODEL_7c50e731606948488f1133ea740f48b5"
          }
        },
        "1ca8796d0ddc48d18e929208d358de7d": {
          "model_module": "@jupyter-widgets/controls",
          "model_name": "DescriptionStyleModel",
          "model_module_version": "1.5.0",
          "state": {
            "_view_name": "StyleView",
            "_model_name": "DescriptionStyleModel",
            "description_width": "",
            "_view_module": "@jupyter-widgets/base",
            "_model_module_version": "1.5.0",
            "_view_count": null,
            "_view_module_version": "1.2.0",
            "_model_module": "@jupyter-widgets/controls"
          }
        },
        "244f37ed459f4609976251cff4b0ce6d": {
          "model_module": "@jupyter-widgets/base",
          "model_name": "LayoutModel",
          "model_module_version": "1.2.0",
          "state": {
            "_view_name": "LayoutView",
            "grid_template_rows": null,
            "right": null,
            "justify_content": null,
            "_view_module": "@jupyter-widgets/base",
            "overflow": null,
            "_model_module_version": "1.2.0",
            "_view_count": null,
            "flex_flow": null,
            "width": null,
            "min_width": null,
            "border": null,
            "align_items": null,
            "bottom": null,
            "_model_module": "@jupyter-widgets/base",
            "top": null,
            "grid_column": null,
            "overflow_y": null,
            "overflow_x": null,
            "grid_auto_flow": null,
            "grid_area": null,
            "grid_template_columns": null,
            "flex": null,
            "_model_name": "LayoutModel",
            "justify_items": null,
            "grid_row": null,
            "max_height": null,
            "align_content": null,
            "visibility": null,
            "align_self": null,
            "height": null,
            "min_height": null,
            "padding": null,
            "grid_auto_rows": null,
            "grid_gap": null,
            "max_width": null,
            "order": null,
            "_view_module_version": "1.2.0",
            "grid_template_areas": null,
            "object_position": null,
            "object_fit": null,
            "grid_auto_columns": null,
            "margin": null,
            "display": null,
            "left": null
          }
        },
        "e18f3c16ec274983b335c393c28d3bea": {
          "model_module": "@jupyter-widgets/controls",
          "model_name": "ProgressStyleModel",
          "model_module_version": "1.5.0",
          "state": {
            "_view_name": "StyleView",
            "_model_name": "ProgressStyleModel",
            "description_width": "",
            "_view_module": "@jupyter-widgets/base",
            "_model_module_version": "1.5.0",
            "_view_count": null,
            "_view_module_version": "1.2.0",
            "bar_color": null,
            "_model_module": "@jupyter-widgets/controls"
          }
        },
        "2eaa5d0d5c5e45c7a1955691513a7445": {
          "model_module": "@jupyter-widgets/base",
          "model_name": "LayoutModel",
          "model_module_version": "1.2.0",
          "state": {
            "_view_name": "LayoutView",
            "grid_template_rows": null,
            "right": null,
            "justify_content": null,
            "_view_module": "@jupyter-widgets/base",
            "overflow": null,
            "_model_module_version": "1.2.0",
            "_view_count": null,
            "flex_flow": null,
            "width": null,
            "min_width": null,
            "border": null,
            "align_items": null,
            "bottom": null,
            "_model_module": "@jupyter-widgets/base",
            "top": null,
            "grid_column": null,
            "overflow_y": null,
            "overflow_x": null,
            "grid_auto_flow": null,
            "grid_area": null,
            "grid_template_columns": null,
            "flex": null,
            "_model_name": "LayoutModel",
            "justify_items": null,
            "grid_row": null,
            "max_height": null,
            "align_content": null,
            "visibility": null,
            "align_self": null,
            "height": null,
            "min_height": null,
            "padding": null,
            "grid_auto_rows": null,
            "grid_gap": null,
            "max_width": null,
            "order": null,
            "_view_module_version": "1.2.0",
            "grid_template_areas": null,
            "object_position": null,
            "object_fit": null,
            "grid_auto_columns": null,
            "margin": null,
            "display": null,
            "left": null
          }
        },
        "f4aaa90057f14618b6419a6a79535be7": {
          "model_module": "@jupyter-widgets/controls",
          "model_name": "DescriptionStyleModel",
          "model_module_version": "1.5.0",
          "state": {
            "_view_name": "StyleView",
            "_model_name": "DescriptionStyleModel",
            "description_width": "",
            "_view_module": "@jupyter-widgets/base",
            "_model_module_version": "1.5.0",
            "_view_count": null,
            "_view_module_version": "1.2.0",
            "_model_module": "@jupyter-widgets/controls"
          }
        },
        "7c50e731606948488f1133ea740f48b5": {
          "model_module": "@jupyter-widgets/base",
          "model_name": "LayoutModel",
          "model_module_version": "1.2.0",
          "state": {
            "_view_name": "LayoutView",
            "grid_template_rows": null,
            "right": null,
            "justify_content": null,
            "_view_module": "@jupyter-widgets/base",
            "overflow": null,
            "_model_module_version": "1.2.0",
            "_view_count": null,
            "flex_flow": null,
            "width": null,
            "min_width": null,
            "border": null,
            "align_items": null,
            "bottom": null,
            "_model_module": "@jupyter-widgets/base",
            "top": null,
            "grid_column": null,
            "overflow_y": null,
            "overflow_x": null,
            "grid_auto_flow": null,
            "grid_area": null,
            "grid_template_columns": null,
            "flex": null,
            "_model_name": "LayoutModel",
            "justify_items": null,
            "grid_row": null,
            "max_height": null,
            "align_content": null,
            "visibility": null,
            "align_self": null,
            "height": null,
            "min_height": null,
            "padding": null,
            "grid_auto_rows": null,
            "grid_gap": null,
            "max_width": null,
            "order": null,
            "_view_module_version": "1.2.0",
            "grid_template_areas": null,
            "object_position": null,
            "object_fit": null,
            "grid_auto_columns": null,
            "margin": null,
            "display": null,
            "left": null
          }
        },
        "207c741bd6c34196ba4d6042de1d8d0e": {
          "model_module": "@jupyter-widgets/controls",
          "model_name": "HBoxModel",
          "model_module_version": "1.5.0",
          "state": {
            "_view_name": "HBoxView",
            "_dom_classes": [],
            "_model_name": "HBoxModel",
            "_view_module": "@jupyter-widgets/controls",
            "_model_module_version": "1.5.0",
            "_view_count": null,
            "_view_module_version": "1.5.0",
            "box_style": "",
            "layout": "IPY_MODEL_d9d8a99fbc01430381a1e5e8ae9f06ee",
            "_model_module": "@jupyter-widgets/controls",
            "children": [
              "IPY_MODEL_8d18ded188874ec7b39f14de109fe1fb",
              "IPY_MODEL_08b2ab3fe78c45d48be16a1f3d3537a8",
              "IPY_MODEL_a84ec693b1a6437aaa11268bf818df22"
            ]
          }
        },
        "d9d8a99fbc01430381a1e5e8ae9f06ee": {
          "model_module": "@jupyter-widgets/base",
          "model_name": "LayoutModel",
          "model_module_version": "1.2.0",
          "state": {
            "_view_name": "LayoutView",
            "grid_template_rows": null,
            "right": null,
            "justify_content": null,
            "_view_module": "@jupyter-widgets/base",
            "overflow": null,
            "_model_module_version": "1.2.0",
            "_view_count": null,
            "flex_flow": null,
            "width": null,
            "min_width": null,
            "border": null,
            "align_items": null,
            "bottom": null,
            "_model_module": "@jupyter-widgets/base",
            "top": null,
            "grid_column": null,
            "overflow_y": null,
            "overflow_x": null,
            "grid_auto_flow": null,
            "grid_area": null,
            "grid_template_columns": null,
            "flex": null,
            "_model_name": "LayoutModel",
            "justify_items": null,
            "grid_row": null,
            "max_height": null,
            "align_content": null,
            "visibility": null,
            "align_self": null,
            "height": null,
            "min_height": null,
            "padding": null,
            "grid_auto_rows": null,
            "grid_gap": null,
            "max_width": null,
            "order": null,
            "_view_module_version": "1.2.0",
            "grid_template_areas": null,
            "object_position": null,
            "object_fit": null,
            "grid_auto_columns": null,
            "margin": null,
            "display": null,
            "left": null
          }
        },
        "8d18ded188874ec7b39f14de109fe1fb": {
          "model_module": "@jupyter-widgets/controls",
          "model_name": "HTMLModel",
          "model_module_version": "1.5.0",
          "state": {
            "_view_name": "HTMLView",
            "style": "IPY_MODEL_9477fc4868124b5eb3c50d18e771fb54",
            "_dom_classes": [],
            "description": "",
            "_model_name": "HTMLModel",
            "placeholder": "​",
            "_view_module": "@jupyter-widgets/controls",
            "_model_module_version": "1.5.0",
            "value": "Downloading: 100%",
            "_view_count": null,
            "_view_module_version": "1.5.0",
            "description_tooltip": null,
            "_model_module": "@jupyter-widgets/controls",
            "layout": "IPY_MODEL_17615c2223f14586ae635af50211a329"
          }
        },
        "08b2ab3fe78c45d48be16a1f3d3537a8": {
          "model_module": "@jupyter-widgets/controls",
          "model_name": "FloatProgressModel",
          "model_module_version": "1.5.0",
          "state": {
            "_view_name": "ProgressView",
            "style": "IPY_MODEL_ff1a318ea24a463da3569cbaba1a525a",
            "_dom_classes": [],
            "description": "",
            "_model_name": "FloatProgressModel",
            "bar_style": "success",
            "max": 156,
            "_view_module": "@jupyter-widgets/controls",
            "_model_module_version": "1.5.0",
            "value": 156,
            "_view_count": null,
            "_view_module_version": "1.5.0",
            "orientation": "horizontal",
            "min": 0,
            "description_tooltip": null,
            "_model_module": "@jupyter-widgets/controls",
            "layout": "IPY_MODEL_437a21ddcdb444fca4f0c4b13d19a46c"
          }
        },
        "a84ec693b1a6437aaa11268bf818df22": {
          "model_module": "@jupyter-widgets/controls",
          "model_name": "HTMLModel",
          "model_module_version": "1.5.0",
          "state": {
            "_view_name": "HTMLView",
            "style": "IPY_MODEL_3e70d506c1514815a445081d9a890a82",
            "_dom_classes": [],
            "description": "",
            "_model_name": "HTMLModel",
            "placeholder": "​",
            "_view_module": "@jupyter-widgets/controls",
            "_model_module_version": "1.5.0",
            "value": " 156/156 [00:00&lt;00:00, 3.17kB/s]",
            "_view_count": null,
            "_view_module_version": "1.5.0",
            "description_tooltip": null,
            "_model_module": "@jupyter-widgets/controls",
            "layout": "IPY_MODEL_88c19eb425e24428836a1312b3c463f7"
          }
        },
        "9477fc4868124b5eb3c50d18e771fb54": {
          "model_module": "@jupyter-widgets/controls",
          "model_name": "DescriptionStyleModel",
          "model_module_version": "1.5.0",
          "state": {
            "_view_name": "StyleView",
            "_model_name": "DescriptionStyleModel",
            "description_width": "",
            "_view_module": "@jupyter-widgets/base",
            "_model_module_version": "1.5.0",
            "_view_count": null,
            "_view_module_version": "1.2.0",
            "_model_module": "@jupyter-widgets/controls"
          }
        },
        "17615c2223f14586ae635af50211a329": {
          "model_module": "@jupyter-widgets/base",
          "model_name": "LayoutModel",
          "model_module_version": "1.2.0",
          "state": {
            "_view_name": "LayoutView",
            "grid_template_rows": null,
            "right": null,
            "justify_content": null,
            "_view_module": "@jupyter-widgets/base",
            "overflow": null,
            "_model_module_version": "1.2.0",
            "_view_count": null,
            "flex_flow": null,
            "width": null,
            "min_width": null,
            "border": null,
            "align_items": null,
            "bottom": null,
            "_model_module": "@jupyter-widgets/base",
            "top": null,
            "grid_column": null,
            "overflow_y": null,
            "overflow_x": null,
            "grid_auto_flow": null,
            "grid_area": null,
            "grid_template_columns": null,
            "flex": null,
            "_model_name": "LayoutModel",
            "justify_items": null,
            "grid_row": null,
            "max_height": null,
            "align_content": null,
            "visibility": null,
            "align_self": null,
            "height": null,
            "min_height": null,
            "padding": null,
            "grid_auto_rows": null,
            "grid_gap": null,
            "max_width": null,
            "order": null,
            "_view_module_version": "1.2.0",
            "grid_template_areas": null,
            "object_position": null,
            "object_fit": null,
            "grid_auto_columns": null,
            "margin": null,
            "display": null,
            "left": null
          }
        },
        "ff1a318ea24a463da3569cbaba1a525a": {
          "model_module": "@jupyter-widgets/controls",
          "model_name": "ProgressStyleModel",
          "model_module_version": "1.5.0",
          "state": {
            "_view_name": "StyleView",
            "_model_name": "ProgressStyleModel",
            "description_width": "",
            "_view_module": "@jupyter-widgets/base",
            "_model_module_version": "1.5.0",
            "_view_count": null,
            "_view_module_version": "1.2.0",
            "bar_color": null,
            "_model_module": "@jupyter-widgets/controls"
          }
        },
        "437a21ddcdb444fca4f0c4b13d19a46c": {
          "model_module": "@jupyter-widgets/base",
          "model_name": "LayoutModel",
          "model_module_version": "1.2.0",
          "state": {
            "_view_name": "LayoutView",
            "grid_template_rows": null,
            "right": null,
            "justify_content": null,
            "_view_module": "@jupyter-widgets/base",
            "overflow": null,
            "_model_module_version": "1.2.0",
            "_view_count": null,
            "flex_flow": null,
            "width": null,
            "min_width": null,
            "border": null,
            "align_items": null,
            "bottom": null,
            "_model_module": "@jupyter-widgets/base",
            "top": null,
            "grid_column": null,
            "overflow_y": null,
            "overflow_x": null,
            "grid_auto_flow": null,
            "grid_area": null,
            "grid_template_columns": null,
            "flex": null,
            "_model_name": "LayoutModel",
            "justify_items": null,
            "grid_row": null,
            "max_height": null,
            "align_content": null,
            "visibility": null,
            "align_self": null,
            "height": null,
            "min_height": null,
            "padding": null,
            "grid_auto_rows": null,
            "grid_gap": null,
            "max_width": null,
            "order": null,
            "_view_module_version": "1.2.0",
            "grid_template_areas": null,
            "object_position": null,
            "object_fit": null,
            "grid_auto_columns": null,
            "margin": null,
            "display": null,
            "left": null
          }
        },
        "3e70d506c1514815a445081d9a890a82": {
          "model_module": "@jupyter-widgets/controls",
          "model_name": "DescriptionStyleModel",
          "model_module_version": "1.5.0",
          "state": {
            "_view_name": "StyleView",
            "_model_name": "DescriptionStyleModel",
            "description_width": "",
            "_view_module": "@jupyter-widgets/base",
            "_model_module_version": "1.5.0",
            "_view_count": null,
            "_view_module_version": "1.2.0",
            "_model_module": "@jupyter-widgets/controls"
          }
        },
        "88c19eb425e24428836a1312b3c463f7": {
          "model_module": "@jupyter-widgets/base",
          "model_name": "LayoutModel",
          "model_module_version": "1.2.0",
          "state": {
            "_view_name": "LayoutView",
            "grid_template_rows": null,
            "right": null,
            "justify_content": null,
            "_view_module": "@jupyter-widgets/base",
            "overflow": null,
            "_model_module_version": "1.2.0",
            "_view_count": null,
            "flex_flow": null,
            "width": null,
            "min_width": null,
            "border": null,
            "align_items": null,
            "bottom": null,
            "_model_module": "@jupyter-widgets/base",
            "top": null,
            "grid_column": null,
            "overflow_y": null,
            "overflow_x": null,
            "grid_auto_flow": null,
            "grid_area": null,
            "grid_template_columns": null,
            "flex": null,
            "_model_name": "LayoutModel",
            "justify_items": null,
            "grid_row": null,
            "max_height": null,
            "align_content": null,
            "visibility": null,
            "align_self": null,
            "height": null,
            "min_height": null,
            "padding": null,
            "grid_auto_rows": null,
            "grid_gap": null,
            "max_width": null,
            "order": null,
            "_view_module_version": "1.2.0",
            "grid_template_areas": null,
            "object_position": null,
            "object_fit": null,
            "grid_auto_columns": null,
            "margin": null,
            "display": null,
            "left": null
          }
        },
        "874e1b06060145b68ac4496ce64f2ec9": {
          "model_module": "@jupyter-widgets/controls",
          "model_name": "HBoxModel",
          "model_module_version": "1.5.0",
          "state": {
            "_view_name": "HBoxView",
            "_dom_classes": [],
            "_model_name": "HBoxModel",
            "_view_module": "@jupyter-widgets/controls",
            "_model_module_version": "1.5.0",
            "_view_count": null,
            "_view_module_version": "1.5.0",
            "box_style": "",
            "layout": "IPY_MODEL_0299064465744b8084bd23daaec20c66",
            "_model_module": "@jupyter-widgets/controls",
            "children": [
              "IPY_MODEL_9f6c33d65dee4dd29af3d4037e8ea730",
              "IPY_MODEL_a97f5f2341cc40f181850780643baa1c",
              "IPY_MODEL_5574bb96a99b4f4480210a16e513b0ea"
            ]
          }
        },
        "0299064465744b8084bd23daaec20c66": {
          "model_module": "@jupyter-widgets/base",
          "model_name": "LayoutModel",
          "model_module_version": "1.2.0",
          "state": {
            "_view_name": "LayoutView",
            "grid_template_rows": null,
            "right": null,
            "justify_content": null,
            "_view_module": "@jupyter-widgets/base",
            "overflow": null,
            "_model_module_version": "1.2.0",
            "_view_count": null,
            "flex_flow": null,
            "width": null,
            "min_width": null,
            "border": null,
            "align_items": null,
            "bottom": null,
            "_model_module": "@jupyter-widgets/base",
            "top": null,
            "grid_column": null,
            "overflow_y": null,
            "overflow_x": null,
            "grid_auto_flow": null,
            "grid_area": null,
            "grid_template_columns": null,
            "flex": null,
            "_model_name": "LayoutModel",
            "justify_items": null,
            "grid_row": null,
            "max_height": null,
            "align_content": null,
            "visibility": null,
            "align_self": null,
            "height": null,
            "min_height": null,
            "padding": null,
            "grid_auto_rows": null,
            "grid_gap": null,
            "max_width": null,
            "order": null,
            "_view_module_version": "1.2.0",
            "grid_template_areas": null,
            "object_position": null,
            "object_fit": null,
            "grid_auto_columns": null,
            "margin": null,
            "display": null,
            "left": null
          }
        },
        "9f6c33d65dee4dd29af3d4037e8ea730": {
          "model_module": "@jupyter-widgets/controls",
          "model_name": "HTMLModel",
          "model_module_version": "1.5.0",
          "state": {
            "_view_name": "HTMLView",
            "style": "IPY_MODEL_61bb80b9fa1c411b9bd70746ebf0e282",
            "_dom_classes": [],
            "description": "",
            "_model_name": "HTMLModel",
            "placeholder": "​",
            "_view_module": "@jupyter-widgets/controls",
            "_model_module_version": "1.5.0",
            "value": "Downloading: 100%",
            "_view_count": null,
            "_view_module_version": "1.5.0",
            "description_tooltip": null,
            "_model_module": "@jupyter-widgets/controls",
            "layout": "IPY_MODEL_37860a7f062647678eb4ff19ad2ce6bd"
          }
        },
        "a97f5f2341cc40f181850780643baa1c": {
          "model_module": "@jupyter-widgets/controls",
          "model_name": "FloatProgressModel",
          "model_module_version": "1.5.0",
          "state": {
            "_view_name": "ProgressView",
            "style": "IPY_MODEL_466b076a65964a19a7c9e8d8e06acc0d",
            "_dom_classes": [],
            "description": "",
            "_model_name": "FloatProgressModel",
            "bar_style": "success",
            "max": 48,
            "_view_module": "@jupyter-widgets/controls",
            "_model_module_version": "1.5.0",
            "value": 48,
            "_view_count": null,
            "_view_module_version": "1.5.0",
            "orientation": "horizontal",
            "min": 0,
            "description_tooltip": null,
            "_model_module": "@jupyter-widgets/controls",
            "layout": "IPY_MODEL_e39405dae81943c4a5915a992fd67917"
          }
        },
        "5574bb96a99b4f4480210a16e513b0ea": {
          "model_module": "@jupyter-widgets/controls",
          "model_name": "HTMLModel",
          "model_module_version": "1.5.0",
          "state": {
            "_view_name": "HTMLView",
            "style": "IPY_MODEL_b3baed184a5b45139e66e3bacac773b0",
            "_dom_classes": [],
            "description": "",
            "_model_name": "HTMLModel",
            "placeholder": "​",
            "_view_module": "@jupyter-widgets/controls",
            "_model_module_version": "1.5.0",
            "value": " 48.0/48.0 [00:00&lt;00:00, 1.13kB/s]",
            "_view_count": null,
            "_view_module_version": "1.5.0",
            "description_tooltip": null,
            "_model_module": "@jupyter-widgets/controls",
            "layout": "IPY_MODEL_17fd542d230b47ad874eef92b08b4c8a"
          }
        },
        "61bb80b9fa1c411b9bd70746ebf0e282": {
          "model_module": "@jupyter-widgets/controls",
          "model_name": "DescriptionStyleModel",
          "model_module_version": "1.5.0",
          "state": {
            "_view_name": "StyleView",
            "_model_name": "DescriptionStyleModel",
            "description_width": "",
            "_view_module": "@jupyter-widgets/base",
            "_model_module_version": "1.5.0",
            "_view_count": null,
            "_view_module_version": "1.2.0",
            "_model_module": "@jupyter-widgets/controls"
          }
        },
        "37860a7f062647678eb4ff19ad2ce6bd": {
          "model_module": "@jupyter-widgets/base",
          "model_name": "LayoutModel",
          "model_module_version": "1.2.0",
          "state": {
            "_view_name": "LayoutView",
            "grid_template_rows": null,
            "right": null,
            "justify_content": null,
            "_view_module": "@jupyter-widgets/base",
            "overflow": null,
            "_model_module_version": "1.2.0",
            "_view_count": null,
            "flex_flow": null,
            "width": null,
            "min_width": null,
            "border": null,
            "align_items": null,
            "bottom": null,
            "_model_module": "@jupyter-widgets/base",
            "top": null,
            "grid_column": null,
            "overflow_y": null,
            "overflow_x": null,
            "grid_auto_flow": null,
            "grid_area": null,
            "grid_template_columns": null,
            "flex": null,
            "_model_name": "LayoutModel",
            "justify_items": null,
            "grid_row": null,
            "max_height": null,
            "align_content": null,
            "visibility": null,
            "align_self": null,
            "height": null,
            "min_height": null,
            "padding": null,
            "grid_auto_rows": null,
            "grid_gap": null,
            "max_width": null,
            "order": null,
            "_view_module_version": "1.2.0",
            "grid_template_areas": null,
            "object_position": null,
            "object_fit": null,
            "grid_auto_columns": null,
            "margin": null,
            "display": null,
            "left": null
          }
        },
        "466b076a65964a19a7c9e8d8e06acc0d": {
          "model_module": "@jupyter-widgets/controls",
          "model_name": "ProgressStyleModel",
          "model_module_version": "1.5.0",
          "state": {
            "_view_name": "StyleView",
            "_model_name": "ProgressStyleModel",
            "description_width": "",
            "_view_module": "@jupyter-widgets/base",
            "_model_module_version": "1.5.0",
            "_view_count": null,
            "_view_module_version": "1.2.0",
            "bar_color": null,
            "_model_module": "@jupyter-widgets/controls"
          }
        },
        "e39405dae81943c4a5915a992fd67917": {
          "model_module": "@jupyter-widgets/base",
          "model_name": "LayoutModel",
          "model_module_version": "1.2.0",
          "state": {
            "_view_name": "LayoutView",
            "grid_template_rows": null,
            "right": null,
            "justify_content": null,
            "_view_module": "@jupyter-widgets/base",
            "overflow": null,
            "_model_module_version": "1.2.0",
            "_view_count": null,
            "flex_flow": null,
            "width": null,
            "min_width": null,
            "border": null,
            "align_items": null,
            "bottom": null,
            "_model_module": "@jupyter-widgets/base",
            "top": null,
            "grid_column": null,
            "overflow_y": null,
            "overflow_x": null,
            "grid_auto_flow": null,
            "grid_area": null,
            "grid_template_columns": null,
            "flex": null,
            "_model_name": "LayoutModel",
            "justify_items": null,
            "grid_row": null,
            "max_height": null,
            "align_content": null,
            "visibility": null,
            "align_self": null,
            "height": null,
            "min_height": null,
            "padding": null,
            "grid_auto_rows": null,
            "grid_gap": null,
            "max_width": null,
            "order": null,
            "_view_module_version": "1.2.0",
            "grid_template_areas": null,
            "object_position": null,
            "object_fit": null,
            "grid_auto_columns": null,
            "margin": null,
            "display": null,
            "left": null
          }
        },
        "b3baed184a5b45139e66e3bacac773b0": {
          "model_module": "@jupyter-widgets/controls",
          "model_name": "DescriptionStyleModel",
          "model_module_version": "1.5.0",
          "state": {
            "_view_name": "StyleView",
            "_model_name": "DescriptionStyleModel",
            "description_width": "",
            "_view_module": "@jupyter-widgets/base",
            "_model_module_version": "1.5.0",
            "_view_count": null,
            "_view_module_version": "1.2.0",
            "_model_module": "@jupyter-widgets/controls"
          }
        },
        "17fd542d230b47ad874eef92b08b4c8a": {
          "model_module": "@jupyter-widgets/base",
          "model_name": "LayoutModel",
          "model_module_version": "1.2.0",
          "state": {
            "_view_name": "LayoutView",
            "grid_template_rows": null,
            "right": null,
            "justify_content": null,
            "_view_module": "@jupyter-widgets/base",
            "overflow": null,
            "_model_module_version": "1.2.0",
            "_view_count": null,
            "flex_flow": null,
            "width": null,
            "min_width": null,
            "border": null,
            "align_items": null,
            "bottom": null,
            "_model_module": "@jupyter-widgets/base",
            "top": null,
            "grid_column": null,
            "overflow_y": null,
            "overflow_x": null,
            "grid_auto_flow": null,
            "grid_area": null,
            "grid_template_columns": null,
            "flex": null,
            "_model_name": "LayoutModel",
            "justify_items": null,
            "grid_row": null,
            "max_height": null,
            "align_content": null,
            "visibility": null,
            "align_self": null,
            "height": null,
            "min_height": null,
            "padding": null,
            "grid_auto_rows": null,
            "grid_gap": null,
            "max_width": null,
            "order": null,
            "_view_module_version": "1.2.0",
            "grid_template_areas": null,
            "object_position": null,
            "object_fit": null,
            "grid_auto_columns": null,
            "margin": null,
            "display": null,
            "left": null
          }
        },
        "2a1efc2c5bf7433687bc9068293a885a": {
          "model_module": "@jupyter-widgets/controls",
          "model_name": "HBoxModel",
          "model_module_version": "1.5.0",
          "state": {
            "_view_name": "HBoxView",
            "_dom_classes": [],
            "_model_name": "HBoxModel",
            "_view_module": "@jupyter-widgets/controls",
            "_model_module_version": "1.5.0",
            "_view_count": null,
            "_view_module_version": "1.5.0",
            "box_style": "",
            "layout": "IPY_MODEL_6752c68658634c7f826aa57849a6e76b",
            "_model_module": "@jupyter-widgets/controls",
            "children": [
              "IPY_MODEL_6ea7d69a946f4f36bec718d526abdbbe",
              "IPY_MODEL_48118608d3ca4361bf7efee2d114ad13",
              "IPY_MODEL_0a3aba3fe6754b038cf833a02ed0d626"
            ]
          }
        },
        "6752c68658634c7f826aa57849a6e76b": {
          "model_module": "@jupyter-widgets/base",
          "model_name": "LayoutModel",
          "model_module_version": "1.2.0",
          "state": {
            "_view_name": "LayoutView",
            "grid_template_rows": null,
            "right": null,
            "justify_content": null,
            "_view_module": "@jupyter-widgets/base",
            "overflow": null,
            "_model_module_version": "1.2.0",
            "_view_count": null,
            "flex_flow": null,
            "width": null,
            "min_width": null,
            "border": null,
            "align_items": null,
            "bottom": null,
            "_model_module": "@jupyter-widgets/base",
            "top": null,
            "grid_column": null,
            "overflow_y": null,
            "overflow_x": null,
            "grid_auto_flow": null,
            "grid_area": null,
            "grid_template_columns": null,
            "flex": null,
            "_model_name": "LayoutModel",
            "justify_items": null,
            "grid_row": null,
            "max_height": null,
            "align_content": null,
            "visibility": null,
            "align_self": null,
            "height": null,
            "min_height": null,
            "padding": null,
            "grid_auto_rows": null,
            "grid_gap": null,
            "max_width": null,
            "order": null,
            "_view_module_version": "1.2.0",
            "grid_template_areas": null,
            "object_position": null,
            "object_fit": null,
            "grid_auto_columns": null,
            "margin": null,
            "display": null,
            "left": null
          }
        },
        "6ea7d69a946f4f36bec718d526abdbbe": {
          "model_module": "@jupyter-widgets/controls",
          "model_name": "HTMLModel",
          "model_module_version": "1.5.0",
          "state": {
            "_view_name": "HTMLView",
            "style": "IPY_MODEL_d10fb4cd0ee04b71ab875d2aa8ac9a69",
            "_dom_classes": [],
            "description": "",
            "_model_name": "HTMLModel",
            "placeholder": "​",
            "_view_module": "@jupyter-widgets/controls",
            "_model_module_version": "1.5.0",
            "value": "Downloading: 100%",
            "_view_count": null,
            "_view_module_version": "1.5.0",
            "description_tooltip": null,
            "_model_module": "@jupyter-widgets/controls",
            "layout": "IPY_MODEL_2f9f65277e444523815f7b74ba2087d5"
          }
        },
        "48118608d3ca4361bf7efee2d114ad13": {
          "model_module": "@jupyter-widgets/controls",
          "model_name": "FloatProgressModel",
          "model_module_version": "1.5.0",
          "state": {
            "_view_name": "ProgressView",
            "style": "IPY_MODEL_9309a2c5565649438231df95eba5f24a",
            "_dom_classes": [],
            "description": "",
            "_model_name": "FloatProgressModel",
            "bar_style": "success",
            "max": 1321,
            "_view_module": "@jupyter-widgets/controls",
            "_model_module_version": "1.5.0",
            "value": 1321,
            "_view_count": null,
            "_view_module_version": "1.5.0",
            "orientation": "horizontal",
            "min": 0,
            "description_tooltip": null,
            "_model_module": "@jupyter-widgets/controls",
            "layout": "IPY_MODEL_80979d7c2d80426e894cd73e726a8433"
          }
        },
        "0a3aba3fe6754b038cf833a02ed0d626": {
          "model_module": "@jupyter-widgets/controls",
          "model_name": "HTMLModel",
          "model_module_version": "1.5.0",
          "state": {
            "_view_name": "HTMLView",
            "style": "IPY_MODEL_812f7837b41940f6b7b5c24817f39754",
            "_dom_classes": [],
            "description": "",
            "_model_name": "HTMLModel",
            "placeholder": "​",
            "_view_module": "@jupyter-widgets/controls",
            "_model_module_version": "1.5.0",
            "value": " 1.32k/1.32k [00:00&lt;00:00, 23.2kB/s]",
            "_view_count": null,
            "_view_module_version": "1.5.0",
            "description_tooltip": null,
            "_model_module": "@jupyter-widgets/controls",
            "layout": "IPY_MODEL_c941e7b008aa420b9236efb6ac192f05"
          }
        },
        "d10fb4cd0ee04b71ab875d2aa8ac9a69": {
          "model_module": "@jupyter-widgets/controls",
          "model_name": "DescriptionStyleModel",
          "model_module_version": "1.5.0",
          "state": {
            "_view_name": "StyleView",
            "_model_name": "DescriptionStyleModel",
            "description_width": "",
            "_view_module": "@jupyter-widgets/base",
            "_model_module_version": "1.5.0",
            "_view_count": null,
            "_view_module_version": "1.2.0",
            "_model_module": "@jupyter-widgets/controls"
          }
        },
        "2f9f65277e444523815f7b74ba2087d5": {
          "model_module": "@jupyter-widgets/base",
          "model_name": "LayoutModel",
          "model_module_version": "1.2.0",
          "state": {
            "_view_name": "LayoutView",
            "grid_template_rows": null,
            "right": null,
            "justify_content": null,
            "_view_module": "@jupyter-widgets/base",
            "overflow": null,
            "_model_module_version": "1.2.0",
            "_view_count": null,
            "flex_flow": null,
            "width": null,
            "min_width": null,
            "border": null,
            "align_items": null,
            "bottom": null,
            "_model_module": "@jupyter-widgets/base",
            "top": null,
            "grid_column": null,
            "overflow_y": null,
            "overflow_x": null,
            "grid_auto_flow": null,
            "grid_area": null,
            "grid_template_columns": null,
            "flex": null,
            "_model_name": "LayoutModel",
            "justify_items": null,
            "grid_row": null,
            "max_height": null,
            "align_content": null,
            "visibility": null,
            "align_self": null,
            "height": null,
            "min_height": null,
            "padding": null,
            "grid_auto_rows": null,
            "grid_gap": null,
            "max_width": null,
            "order": null,
            "_view_module_version": "1.2.0",
            "grid_template_areas": null,
            "object_position": null,
            "object_fit": null,
            "grid_auto_columns": null,
            "margin": null,
            "display": null,
            "left": null
          }
        },
        "9309a2c5565649438231df95eba5f24a": {
          "model_module": "@jupyter-widgets/controls",
          "model_name": "ProgressStyleModel",
          "model_module_version": "1.5.0",
          "state": {
            "_view_name": "StyleView",
            "_model_name": "ProgressStyleModel",
            "description_width": "",
            "_view_module": "@jupyter-widgets/base",
            "_model_module_version": "1.5.0",
            "_view_count": null,
            "_view_module_version": "1.2.0",
            "bar_color": null,
            "_model_module": "@jupyter-widgets/controls"
          }
        },
        "80979d7c2d80426e894cd73e726a8433": {
          "model_module": "@jupyter-widgets/base",
          "model_name": "LayoutModel",
          "model_module_version": "1.2.0",
          "state": {
            "_view_name": "LayoutView",
            "grid_template_rows": null,
            "right": null,
            "justify_content": null,
            "_view_module": "@jupyter-widgets/base",
            "overflow": null,
            "_model_module_version": "1.2.0",
            "_view_count": null,
            "flex_flow": null,
            "width": null,
            "min_width": null,
            "border": null,
            "align_items": null,
            "bottom": null,
            "_model_module": "@jupyter-widgets/base",
            "top": null,
            "grid_column": null,
            "overflow_y": null,
            "overflow_x": null,
            "grid_auto_flow": null,
            "grid_area": null,
            "grid_template_columns": null,
            "flex": null,
            "_model_name": "LayoutModel",
            "justify_items": null,
            "grid_row": null,
            "max_height": null,
            "align_content": null,
            "visibility": null,
            "align_self": null,
            "height": null,
            "min_height": null,
            "padding": null,
            "grid_auto_rows": null,
            "grid_gap": null,
            "max_width": null,
            "order": null,
            "_view_module_version": "1.2.0",
            "grid_template_areas": null,
            "object_position": null,
            "object_fit": null,
            "grid_auto_columns": null,
            "margin": null,
            "display": null,
            "left": null
          }
        },
        "812f7837b41940f6b7b5c24817f39754": {
          "model_module": "@jupyter-widgets/controls",
          "model_name": "DescriptionStyleModel",
          "model_module_version": "1.5.0",
          "state": {
            "_view_name": "StyleView",
            "_model_name": "DescriptionStyleModel",
            "description_width": "",
            "_view_module": "@jupyter-widgets/base",
            "_model_module_version": "1.5.0",
            "_view_count": null,
            "_view_module_version": "1.2.0",
            "_model_module": "@jupyter-widgets/controls"
          }
        },
        "c941e7b008aa420b9236efb6ac192f05": {
          "model_module": "@jupyter-widgets/base",
          "model_name": "LayoutModel",
          "model_module_version": "1.2.0",
          "state": {
            "_view_name": "LayoutView",
            "grid_template_rows": null,
            "right": null,
            "justify_content": null,
            "_view_module": "@jupyter-widgets/base",
            "overflow": null,
            "_model_module_version": "1.2.0",
            "_view_count": null,
            "flex_flow": null,
            "width": null,
            "min_width": null,
            "border": null,
            "align_items": null,
            "bottom": null,
            "_model_module": "@jupyter-widgets/base",
            "top": null,
            "grid_column": null,
            "overflow_y": null,
            "overflow_x": null,
            "grid_auto_flow": null,
            "grid_area": null,
            "grid_template_columns": null,
            "flex": null,
            "_model_name": "LayoutModel",
            "justify_items": null,
            "grid_row": null,
            "max_height": null,
            "align_content": null,
            "visibility": null,
            "align_self": null,
            "height": null,
            "min_height": null,
            "padding": null,
            "grid_auto_rows": null,
            "grid_gap": null,
            "max_width": null,
            "order": null,
            "_view_module_version": "1.2.0",
            "grid_template_areas": null,
            "object_position": null,
            "object_fit": null,
            "grid_auto_columns": null,
            "margin": null,
            "display": null,
            "left": null
          }
        }
      }
    },
    "accelerator": "GPU"
  },
  "cells": [
    {
      "cell_type": "markdown",
      "metadata": {
        "id": "O7tzf8zYh-sl"
      },
      "source": [
        "# Installation"
      ]
    },
    {
      "cell_type": "code",
      "metadata": {
        "colab": {
          "base_uri": "https://localhost:8080/",
          "height": 1000
        },
        "id": "DW0od6Vn731r",
        "outputId": "76a0bb25-3a17-4b07-ce49-30c91840e39a"
      },
      "source": [
        "!pip install grpcio-tools==1.34.1\n",
        "!pip install git+https://github.com/deepset-ai/haystack.git\n",
        "!apt-get install poppler-utils "
      ],
      "execution_count": null,
      "outputs": [
        {
          "output_type": "stream",
          "name": "stdout",
          "text": [
            "Collecting grpcio-tools==1.34.1\n",
            "  Downloading grpcio_tools-1.34.1-cp37-cp37m-manylinux2014_x86_64.whl (2.5 MB)\n",
            "\u001b[K     |████████████████████████████████| 2.5 MB 5.2 MB/s \n",
            "\u001b[?25hRequirement already satisfied: grpcio>=1.34.1 in /usr/local/lib/python3.7/dist-packages (from grpcio-tools==1.34.1) (1.41.0)\n",
            "Requirement already satisfied: protobuf<4.0dev,>=3.5.0.post1 in /usr/local/lib/python3.7/dist-packages (from grpcio-tools==1.34.1) (3.17.3)\n",
            "Requirement already satisfied: setuptools in /usr/local/lib/python3.7/dist-packages (from grpcio-tools==1.34.1) (57.4.0)\n",
            "Requirement already satisfied: six>=1.5.2 in /usr/local/lib/python3.7/dist-packages (from grpcio>=1.34.1->grpcio-tools==1.34.1) (1.15.0)\n",
            "Installing collected packages: grpcio-tools\n",
            "Successfully installed grpcio-tools-1.34.1\n",
            "Collecting git+https://github.com/deepset-ai/haystack.git\n",
            "  Cloning https://github.com/deepset-ai/haystack.git to /tmp/pip-req-build-54ol6gaf\n",
            "  Running command git clone -q https://github.com/deepset-ai/haystack.git /tmp/pip-req-build-54ol6gaf\n",
            "Requirement already satisfied: setuptools in /usr/local/lib/python3.7/dist-packages (from farm-haystack==1.0.0rc1) (57.4.0)\n",
            "Requirement already satisfied: wheel in /usr/local/lib/python3.7/dist-packages (from farm-haystack==1.0.0rc1) (0.37.0)\n",
            "Requirement already satisfied: torch<1.10,>1.5 in /usr/local/lib/python3.7/dist-packages (from farm-haystack==1.0.0rc1) (1.9.0+cu111)\n",
            "Requirement already satisfied: tqdm in /usr/local/lib/python3.7/dist-packages (from farm-haystack==1.0.0rc1) (4.62.3)\n",
            "Requirement already satisfied: requests in /usr/local/lib/python3.7/dist-packages (from farm-haystack==1.0.0rc1) (2.23.0)\n",
            "Requirement already satisfied: scipy>=1.3.2 in /usr/local/lib/python3.7/dist-packages (from farm-haystack==1.0.0rc1) (1.4.1)\n",
            "Requirement already satisfied: sklearn in /usr/local/lib/python3.7/dist-packages (from farm-haystack==1.0.0rc1) (0.0)\n",
            "Collecting seqeval\n",
            "  Downloading seqeval-1.2.2.tar.gz (43 kB)\n",
            "\u001b[K     |████████████████████████████████| 43 kB 1.1 MB/s \n",
            "\u001b[?25hCollecting mlflow<=1.13.1\n",
            "  Downloading mlflow-1.13.1-py3-none-any.whl (14.1 MB)\n",
            "\u001b[K     |████████████████████████████████| 14.1 MB 30 kB/s \n",
            "\u001b[?25hCollecting transformers==4.7.0\n",
            "  Downloading transformers-4.7.0-py3-none-any.whl (2.5 MB)\n",
            "\u001b[K     |████████████████████████████████| 2.5 MB 35.0 MB/s \n",
            "\u001b[?25hRequirement already satisfied: dill in /usr/local/lib/python3.7/dist-packages (from farm-haystack==1.0.0rc1) (0.3.4)\n",
            "Requirement already satisfied: psutil in /usr/local/lib/python3.7/dist-packages (from farm-haystack==1.0.0rc1) (5.4.8)\n",
            "Collecting fastapi\n",
            "  Downloading fastapi-0.70.0-py3-none-any.whl (51 kB)\n",
            "\u001b[K     |████████████████████████████████| 51 kB 18 kB/s \n",
            "\u001b[?25hCollecting uvicorn\n",
            "  Downloading uvicorn-0.15.0-py3-none-any.whl (54 kB)\n",
            "\u001b[K     |████████████████████████████████| 54 kB 2.6 MB/s \n",
            "\u001b[?25hCollecting gunicorn\n",
            "  Downloading gunicorn-20.1.0-py3-none-any.whl (79 kB)\n",
            "\u001b[K     |████████████████████████████████| 79 kB 7.3 MB/s \n",
            "\u001b[?25hRequirement already satisfied: pandas in /usr/local/lib/python3.7/dist-packages (from farm-haystack==1.0.0rc1) (1.1.5)\n",
            "Collecting elasticsearch<=7.10,>=7.7\n",
            "  Downloading elasticsearch-7.10.0-py2.py3-none-any.whl (321 kB)\n",
            "\u001b[K     |████████████████████████████████| 321 kB 43.6 MB/s \n",
            "\u001b[?25hCollecting elastic-apm\n",
            "  Downloading elastic_apm-6.6.0-cp37-cp37m-manylinux_2_5_x86_64.manylinux1_x86_64.manylinux_2_12_x86_64.manylinux2010_x86_64.whl (348 kB)\n",
            "\u001b[K     |████████████████████████████████| 348 kB 36.8 MB/s \n",
            "\u001b[?25hCollecting tox\n",
            "  Downloading tox-3.24.4-py2.py3-none-any.whl (85 kB)\n",
            "\u001b[K     |████████████████████████████████| 85 kB 4.1 MB/s \n",
            "\u001b[?25hRequirement already satisfied: coverage in /usr/local/lib/python3.7/dist-packages (from farm-haystack==1.0.0rc1) (3.7.1)\n",
            "Collecting langdetect\n",
            "  Downloading langdetect-1.0.9.tar.gz (981 kB)\n",
            "\u001b[K     |████████████████████████████████| 981 kB 37.6 MB/s \n",
            "\u001b[?25hCollecting pytesseract==0.3.7\n",
            "  Downloading pytesseract-0.3.7.tar.gz (13 kB)\n",
            "Collecting pillow==8.3.2\n",
            "  Downloading Pillow-8.3.2-cp37-cp37m-manylinux_2_17_x86_64.manylinux2014_x86_64.whl (3.0 MB)\n",
            "\u001b[K     |████████████████████████████████| 3.0 MB 36.0 MB/s \n",
            "\u001b[?25hCollecting pdf2image==1.14.0\n",
            "  Downloading pdf2image-1.14.0-py3-none-any.whl (10 kB)\n",
            "Collecting sentence-transformers>=0.4.0\n",
            "  Downloading sentence-transformers-2.1.0.tar.gz (78 kB)\n",
            "\u001b[K     |████████████████████████████████| 78 kB 6.1 MB/s \n",
            "\u001b[?25hCollecting python-multipart\n",
            "  Downloading python-multipart-0.0.5.tar.gz (32 kB)\n",
            "Collecting python-docx\n",
            "  Downloading python-docx-0.8.11.tar.gz (5.6 MB)\n",
            "\u001b[K     |████████████████████████████████| 5.6 MB 34.7 MB/s \n",
            "\u001b[?25hRequirement already satisfied: sqlalchemy>=1.4.2 in /usr/local/lib/python3.7/dist-packages (from farm-haystack==1.0.0rc1) (1.4.25)\n",
            "Collecting sqlalchemy_utils\n",
            "  Downloading SQLAlchemy_Utils-0.37.9-py3-none-any.whl (100 kB)\n",
            "\u001b[K     |████████████████████████████████| 100 kB 9.3 MB/s \n",
            "\u001b[?25hCollecting faiss-cpu>=1.6.3\n",
            "  Downloading faiss_cpu-1.7.1.post2-cp37-cp37m-manylinux_2_17_x86_64.manylinux2014_x86_64.whl (8.4 MB)\n",
            "\u001b[K     |████████████████████████████████| 8.4 MB 11.7 MB/s \n",
            "\u001b[?25hCollecting tika\n",
            "  Downloading tika-1.24.tar.gz (28 kB)\n",
            "Collecting httptools\n",
            "  Downloading httptools-0.3.0-cp37-cp37m-manylinux_2_5_x86_64.manylinux1_x86_64.manylinux_2_12_x86_64.manylinux2010_x86_64.whl (402 kB)\n",
            "\u001b[K     |████████████████████████████████| 402 kB 46.3 MB/s \n",
            "\u001b[?25hRequirement already satisfied: nltk in /usr/local/lib/python3.7/dist-packages (from farm-haystack==1.0.0rc1) (3.2.5)\n",
            "Requirement already satisfied: more_itertools in /usr/local/lib/python3.7/dist-packages (from farm-haystack==1.0.0rc1) (8.10.0)\n",
            "Requirement already satisfied: networkx in /usr/local/lib/python3.7/dist-packages (from farm-haystack==1.0.0rc1) (2.6.3)\n",
            "Collecting pymilvus\n",
            "  Downloading pymilvus-1.1.2-py3-none-any.whl (56 kB)\n",
            "\u001b[K     |████████████████████████████████| 56 kB 3.1 MB/s \n",
            "\u001b[?25hCollecting SPARQLWrapper\n",
            "  Downloading SPARQLWrapper-1.8.5-py3-none-any.whl (26 kB)\n",
            "Collecting mmh3\n",
            "  Downloading mmh3-3.0.0-cp37-cp37m-manylinux2010_x86_64.whl (50 kB)\n",
            "\u001b[K     |████████████████████████████████| 50 kB 6.8 MB/s \n",
            "\u001b[?25hCollecting weaviate-client==2.5.0\n",
            "  Downloading weaviate_client-2.5.0-py3-none-any.whl (56 kB)\n",
            "\u001b[K     |████████████████████████████████| 56 kB 4.4 MB/s \n",
            "\u001b[?25hCollecting ray==1.5.0\n",
            "  Downloading ray-1.5.0-cp37-cp37m-manylinux2014_x86_64.whl (51.5 MB)\n",
            "\u001b[K     |████████████████████████████████| 51.5 MB 23 kB/s \n",
            "\u001b[?25hCollecting dataclasses-json\n",
            "  Downloading dataclasses_json-0.5.6-py3-none-any.whl (25 kB)\n",
            "Collecting quantulum3\n",
            "  Downloading quantulum3-0.7.9-py3-none-any.whl (10.7 MB)\n",
            "\u001b[K     |████████████████████████████████| 10.7 MB 23.5 MB/s \n",
            "\u001b[?25hCollecting psycopg2-binary\n",
            "  Downloading psycopg2_binary-2.9.1-cp37-cp37m-manylinux_2_17_x86_64.manylinux2014_x86_64.whl (3.4 MB)\n",
            "\u001b[K     |████████████████████████████████| 3.4 MB 33.8 MB/s \n",
            "\u001b[?25hCollecting uvloop==0.14\n",
            "  Downloading uvloop-0.14.0-cp37-cp37m-manylinux2010_x86_64.whl (3.8 MB)\n",
            "\u001b[K     |████████████████████████████████| 3.8 MB 33.1 MB/s \n",
            "\u001b[?25hRequirement already satisfied: prometheus-client>=0.7.1 in /usr/local/lib/python3.7/dist-packages (from ray==1.5.0->farm-haystack==1.0.0rc1) (0.11.0)\n",
            "Collecting redis>=3.5.0\n",
            "  Downloading redis-3.5.3-py2.py3-none-any.whl (72 kB)\n",
            "\u001b[K     |████████████████████████████████| 72 kB 511 kB/s \n",
            "\u001b[?25hCollecting aioredis\n",
            "  Downloading aioredis-2.0.0-py3-none-any.whl (69 kB)\n",
            "\u001b[K     |████████████████████████████████| 69 kB 7.4 MB/s \n",
            "\u001b[?25hCollecting opencensus\n",
            "  Downloading opencensus-0.8.0-py2.py3-none-any.whl (128 kB)\n",
            "\u001b[K     |████████████████████████████████| 128 kB 45.9 MB/s \n",
            "\u001b[?25hRequirement already satisfied: click>=7.0 in /usr/local/lib/python3.7/dist-packages (from ray==1.5.0->farm-haystack==1.0.0rc1) (7.1.2)\n",
            "Requirement already satisfied: jsonschema in /usr/local/lib/python3.7/dist-packages (from ray==1.5.0->farm-haystack==1.0.0rc1) (2.6.0)\n",
            "Collecting aiohttp\n",
            "  Downloading aiohttp-3.7.4.post0-cp37-cp37m-manylinux2014_x86_64.whl (1.3 MB)\n",
            "\u001b[K     |████████████████████████████████| 1.3 MB 46.4 MB/s \n",
            "\u001b[?25hRequirement already satisfied: grpcio>=1.28.1 in /usr/local/lib/python3.7/dist-packages (from ray==1.5.0->farm-haystack==1.0.0rc1) (1.41.0)\n",
            "Requirement already satisfied: protobuf>=3.15.3 in /usr/local/lib/python3.7/dist-packages (from ray==1.5.0->farm-haystack==1.0.0rc1) (3.17.3)\n",
            "Collecting pydantic>=1.8\n",
            "  Downloading pydantic-1.8.2-cp37-cp37m-manylinux2014_x86_64.whl (10.1 MB)\n",
            "\u001b[K     |████████████████████████████████| 10.1 MB 34.3 MB/s \n",
            "\u001b[?25hRequirement already satisfied: pyyaml in /usr/local/lib/python3.7/dist-packages (from ray==1.5.0->farm-haystack==1.0.0rc1) (3.13)\n",
            "Requirement already satisfied: numpy>=1.16 in /usr/local/lib/python3.7/dist-packages (from ray==1.5.0->farm-haystack==1.0.0rc1) (1.19.5)\n",
            "Requirement already satisfied: msgpack<2.0.0,>=1.0.0 in /usr/local/lib/python3.7/dist-packages (from ray==1.5.0->farm-haystack==1.0.0rc1) (1.0.2)\n",
            "Collecting colorama\n",
            "  Downloading colorama-0.4.4-py2.py3-none-any.whl (16 kB)\n",
            "Collecting aiohttp-cors\n",
            "  Downloading aiohttp_cors-0.7.0-py3-none-any.whl (27 kB)\n",
            "Collecting gpustat\n",
            "  Downloading gpustat-0.6.0.tar.gz (78 kB)\n",
            "\u001b[K     |████████████████████████████████| 78 kB 6.1 MB/s \n",
            "\u001b[?25hRequirement already satisfied: filelock in /usr/local/lib/python3.7/dist-packages (from ray==1.5.0->farm-haystack==1.0.0rc1) (3.3.0)\n",
            "Collecting py-spy>=0.2.0\n",
            "  Downloading py_spy-0.3.10-py2.py3-none-manylinux_2_5_x86_64.manylinux1_x86_64.whl (3.2 MB)\n",
            "\u001b[K     |████████████████████████████████| 3.2 MB 33.7 MB/s \n",
            "\u001b[?25hCollecting sacremoses\n",
            "  Downloading sacremoses-0.0.46-py3-none-any.whl (895 kB)\n",
            "\u001b[K     |████████████████████████████████| 895 kB 39.4 MB/s \n",
            "\u001b[?25hCollecting tokenizers<0.11,>=0.10.1\n",
            "  Downloading tokenizers-0.10.3-cp37-cp37m-manylinux_2_5_x86_64.manylinux1_x86_64.manylinux_2_12_x86_64.manylinux2010_x86_64.whl (3.3 MB)\n",
            "\u001b[K     |████████████████████████████████| 3.3 MB 36.1 MB/s \n",
            "\u001b[?25hRequirement already satisfied: importlib-metadata in /usr/local/lib/python3.7/dist-packages (from transformers==4.7.0->farm-haystack==1.0.0rc1) (4.8.1)\n",
            "Requirement already satisfied: regex!=2019.12.17 in /usr/local/lib/python3.7/dist-packages (from transformers==4.7.0->farm-haystack==1.0.0rc1) (2019.12.20)\n",
            "Requirement already satisfied: packaging in /usr/local/lib/python3.7/dist-packages (from transformers==4.7.0->farm-haystack==1.0.0rc1) (21.0)\n",
            "Collecting huggingface-hub==0.0.8\n",
            "  Downloading huggingface_hub-0.0.8-py3-none-any.whl (34 kB)\n",
            "Collecting validators>=0.18.2\n",
            "  Downloading validators-0.18.2-py3-none-any.whl (19 kB)\n",
            "Requirement already satisfied: urllib3<2,>=1.21.1 in /usr/local/lib/python3.7/dist-packages (from elasticsearch<=7.10,>=7.7->farm-haystack==1.0.0rc1) (1.24.3)\n",
            "Requirement already satisfied: certifi in /usr/local/lib/python3.7/dist-packages (from elasticsearch<=7.10,>=7.7->farm-haystack==1.0.0rc1) (2021.5.30)\n",
            "Requirement already satisfied: six>=1.5.2 in /usr/local/lib/python3.7/dist-packages (from grpcio>=1.28.1->ray==1.5.0->farm-haystack==1.0.0rc1) (1.15.0)\n",
            "Collecting azure-storage-blob>=12.0.0\n",
            "  Downloading azure_storage_blob-12.9.0-py2.py3-none-any.whl (356 kB)\n",
            "\u001b[K     |████████████████████████████████| 356 kB 45.9 MB/s \n",
            "\u001b[?25hCollecting querystring-parser\n",
            "  Downloading querystring_parser-1.2.4-py2.py3-none-any.whl (7.9 kB)\n",
            "Collecting docker>=4.0.0\n",
            "  Downloading docker-5.0.3-py2.py3-none-any.whl (146 kB)\n",
            "\u001b[K     |████████████████████████████████| 146 kB 42.2 MB/s \n",
            "\u001b[?25hRequirement already satisfied: Flask in /usr/local/lib/python3.7/dist-packages (from mlflow<=1.13.1->farm-haystack==1.0.0rc1) (1.1.4)\n",
            "Requirement already satisfied: entrypoints in /usr/local/lib/python3.7/dist-packages (from mlflow<=1.13.1->farm-haystack==1.0.0rc1) (0.3)\n",
            "Collecting gitpython>=2.1.0\n",
            "  Downloading GitPython-3.1.24-py3-none-any.whl (180 kB)\n",
            "\u001b[K     |████████████████████████████████| 180 kB 45.6 MB/s \n",
            "\u001b[?25hCollecting prometheus-flask-exporter\n",
            "  Downloading prometheus_flask_exporter-0.18.3-py3-none-any.whl (17 kB)\n",
            "Requirement already satisfied: python-dateutil in /usr/local/lib/python3.7/dist-packages (from mlflow<=1.13.1->farm-haystack==1.0.0rc1) (2.8.2)\n",
            "Requirement already satisfied: cloudpickle in /usr/local/lib/python3.7/dist-packages (from mlflow<=1.13.1->farm-haystack==1.0.0rc1) (1.3.0)\n",
            "Collecting alembic<=1.4.1\n",
            "  Downloading alembic-1.4.1.tar.gz (1.1 MB)\n",
            "\u001b[K     |████████████████████████████████| 1.1 MB 36.3 MB/s \n",
            "\u001b[?25hRequirement already satisfied: sqlparse>=0.3.1 in /usr/local/lib/python3.7/dist-packages (from mlflow<=1.13.1->farm-haystack==1.0.0rc1) (0.4.2)\n",
            "Collecting databricks-cli>=0.8.7\n",
            "  Downloading databricks-cli-0.16.2.tar.gz (58 kB)\n",
            "\u001b[K     |████████████████████████████████| 58 kB 5.3 MB/s \n",
            "\u001b[?25hCollecting Mako\n",
            "  Downloading Mako-1.1.5-py2.py3-none-any.whl (75 kB)\n",
            "\u001b[K     |████████████████████████████████| 75 kB 4.0 MB/s \n",
            "\u001b[?25hCollecting python-editor>=0.3\n",
            "  Downloading python_editor-1.0.4-py3-none-any.whl (4.9 kB)\n",
            "Collecting msrest>=0.6.21\n",
            "  Downloading msrest-0.6.21-py2.py3-none-any.whl (85 kB)\n",
            "\u001b[K     |████████████████████████████████| 85 kB 3.6 MB/s \n",
            "\u001b[?25hCollecting azure-core<2.0.0,>=1.10.0\n",
            "  Downloading azure_core-1.19.0-py2.py3-none-any.whl (176 kB)\n",
            "\u001b[K     |████████████████████████████████| 176 kB 48.4 MB/s \n",
            "\u001b[?25hCollecting cryptography>=2.1.4\n",
            "  Downloading cryptography-35.0.0-cp36-abi3-manylinux_2_24_x86_64.whl (3.5 MB)\n",
            "\u001b[K     |████████████████████████████████| 3.5 MB 35.5 MB/s \n",
            "\u001b[?25hRequirement already satisfied: cffi>=1.12 in /usr/local/lib/python3.7/dist-packages (from cryptography>=2.1.4->azure-storage-blob>=12.0.0->mlflow<=1.13.1->farm-haystack==1.0.0rc1) (1.14.6)\n",
            "Requirement already satisfied: pycparser in /usr/local/lib/python3.7/dist-packages (from cffi>=1.12->cryptography>=2.1.4->azure-storage-blob>=12.0.0->mlflow<=1.13.1->farm-haystack==1.0.0rc1) (2.20)\n",
            "Requirement already satisfied: tabulate>=0.7.7 in /usr/local/lib/python3.7/dist-packages (from databricks-cli>=0.8.7->mlflow<=1.13.1->farm-haystack==1.0.0rc1) (0.8.9)\n",
            "Collecting websocket-client>=0.32.0\n",
            "  Downloading websocket_client-1.2.1-py2.py3-none-any.whl (52 kB)\n",
            "\u001b[K     |████████████████████████████████| 52 kB 1.2 MB/s \n",
            "\u001b[?25hCollecting gitdb<5,>=4.0.1\n",
            "  Downloading gitdb-4.0.7-py3-none-any.whl (63 kB)\n",
            "\u001b[K     |████████████████████████████████| 63 kB 1.6 MB/s \n",
            "\u001b[?25hRequirement already satisfied: typing-extensions>=3.7.4.3 in /usr/local/lib/python3.7/dist-packages (from gitpython>=2.1.0->mlflow<=1.13.1->farm-haystack==1.0.0rc1) (3.7.4.3)\n",
            "Collecting smmap<5,>=3.0.1\n",
            "  Downloading smmap-4.0.0-py2.py3-none-any.whl (24 kB)\n",
            "Requirement already satisfied: requests-oauthlib>=0.5.0 in /usr/local/lib/python3.7/dist-packages (from msrest>=0.6.21->azure-storage-blob>=12.0.0->mlflow<=1.13.1->farm-haystack==1.0.0rc1) (1.3.0)\n",
            "Collecting isodate>=0.6.0\n",
            "  Downloading isodate-0.6.0-py2.py3-none-any.whl (45 kB)\n",
            "\u001b[K     |████████████████████████████████| 45 kB 2.9 MB/s \n",
            "\u001b[?25hRequirement already satisfied: idna<3,>=2.5 in /usr/local/lib/python3.7/dist-packages (from requests->farm-haystack==1.0.0rc1) (2.10)\n",
            "Requirement already satisfied: chardet<4,>=3.0.2 in /usr/local/lib/python3.7/dist-packages (from requests->farm-haystack==1.0.0rc1) (3.0.4)\n",
            "Requirement already satisfied: oauthlib>=3.0.0 in /usr/local/lib/python3.7/dist-packages (from requests-oauthlib>=0.5.0->msrest>=0.6.21->azure-storage-blob>=12.0.0->mlflow<=1.13.1->farm-haystack==1.0.0rc1) (3.1.1)\n",
            "Requirement already satisfied: torchvision in /usr/local/lib/python3.7/dist-packages (from sentence-transformers>=0.4.0->farm-haystack==1.0.0rc1) (0.10.0+cu111)\n",
            "Requirement already satisfied: scikit-learn in /usr/local/lib/python3.7/dist-packages (from sentence-transformers>=0.4.0->farm-haystack==1.0.0rc1) (0.22.2.post1)\n",
            "Collecting sentencepiece\n",
            "  Downloading sentencepiece-0.1.96-cp37-cp37m-manylinux_2_17_x86_64.manylinux2014_x86_64.whl (1.2 MB)\n",
            "\u001b[K     |████████████████████████████████| 1.2 MB 33.5 MB/s \n",
            "\u001b[?25hRequirement already satisfied: greenlet!=0.4.17 in /usr/local/lib/python3.7/dist-packages (from sqlalchemy>=1.4.2->farm-haystack==1.0.0rc1) (1.1.2)\n",
            "Requirement already satisfied: decorator>=3.4.0 in /usr/local/lib/python3.7/dist-packages (from validators>=0.18.2->weaviate-client==2.5.0->farm-haystack==1.0.0rc1) (4.4.2)\n",
            "Collecting multidict<7.0,>=4.5\n",
            "  Downloading multidict-5.2.0-cp37-cp37m-manylinux_2_5_x86_64.manylinux1_x86_64.manylinux_2_12_x86_64.manylinux2010_x86_64.whl (160 kB)\n",
            "\u001b[K     |████████████████████████████████| 160 kB 46.5 MB/s \n",
            "\u001b[?25hCollecting async-timeout<4.0,>=3.0\n",
            "  Downloading async_timeout-3.0.1-py3-none-any.whl (8.2 kB)\n",
            "Collecting yarl<2.0,>=1.0\n",
            "  Downloading yarl-1.7.0-cp37-cp37m-manylinux_2_5_x86_64.manylinux1_x86_64.manylinux_2_12_x86_64.manylinux2010_x86_64.whl (271 kB)\n",
            "\u001b[K     |████████████████████████████████| 271 kB 47.8 MB/s \n",
            "\u001b[?25hRequirement already satisfied: attrs>=17.3.0 in /usr/local/lib/python3.7/dist-packages (from aiohttp->ray==1.5.0->farm-haystack==1.0.0rc1) (21.2.0)\n",
            "Collecting marshmallow-enum<2.0.0,>=1.5.1\n",
            "  Downloading marshmallow_enum-1.5.1-py2.py3-none-any.whl (4.2 kB)\n",
            "Collecting typing-inspect>=0.4.0\n",
            "  Downloading typing_inspect-0.7.1-py3-none-any.whl (8.4 kB)\n",
            "Collecting marshmallow<4.0.0,>=3.3.0\n",
            "  Downloading marshmallow-3.14.0-py3-none-any.whl (47 kB)\n",
            "\u001b[K     |████████████████████████████████| 47 kB 4.5 MB/s \n",
            "\u001b[?25hCollecting mypy-extensions>=0.3.0\n",
            "  Downloading mypy_extensions-0.4.3-py2.py3-none-any.whl (4.5 kB)\n",
            "Collecting starlette==0.16.0\n",
            "  Downloading starlette-0.16.0-py3-none-any.whl (61 kB)\n",
            "\u001b[K     |████████████████████████████████| 61 kB 260 kB/s \n",
            "\u001b[?25hCollecting anyio<4,>=3.0.0\n",
            "  Downloading anyio-3.3.4-py3-none-any.whl (78 kB)\n",
            "\u001b[K     |████████████████████████████████| 78 kB 315 kB/s \n",
            "\u001b[?25hCollecting sniffio>=1.1\n",
            "  Downloading sniffio-1.2.0-py3-none-any.whl (10 kB)\n",
            "Requirement already satisfied: Werkzeug<2.0,>=0.15 in /usr/local/lib/python3.7/dist-packages (from Flask->mlflow<=1.13.1->farm-haystack==1.0.0rc1) (1.0.1)\n",
            "Requirement already satisfied: itsdangerous<2.0,>=0.24 in /usr/local/lib/python3.7/dist-packages (from Flask->mlflow<=1.13.1->farm-haystack==1.0.0rc1) (1.1.0)\n",
            "Requirement already satisfied: Jinja2<3.0,>=2.10.1 in /usr/local/lib/python3.7/dist-packages (from Flask->mlflow<=1.13.1->farm-haystack==1.0.0rc1) (2.11.3)\n",
            "Requirement already satisfied: MarkupSafe>=0.23 in /usr/local/lib/python3.7/dist-packages (from Jinja2<3.0,>=2.10.1->Flask->mlflow<=1.13.1->farm-haystack==1.0.0rc1) (2.0.1)\n",
            "Requirement already satisfied: nvidia-ml-py3>=7.352.0 in /usr/local/lib/python3.7/dist-packages (from gpustat->ray==1.5.0->farm-haystack==1.0.0rc1) (7.352.0)\n",
            "Collecting blessings>=1.6\n",
            "  Downloading blessings-1.7-py3-none-any.whl (18 kB)\n",
            "Requirement already satisfied: zipp>=0.5 in /usr/local/lib/python3.7/dist-packages (from importlib-metadata->transformers==4.7.0->farm-haystack==1.0.0rc1) (3.6.0)\n",
            "Requirement already satisfied: google-api-core<3.0.0,>=1.0.0 in /usr/local/lib/python3.7/dist-packages (from opencensus->ray==1.5.0->farm-haystack==1.0.0rc1) (1.26.3)\n",
            "Collecting opencensus-context==0.1.2\n",
            "  Downloading opencensus_context-0.1.2-py2.py3-none-any.whl (4.4 kB)\n",
            "Requirement already satisfied: googleapis-common-protos<2.0dev,>=1.6.0 in /usr/local/lib/python3.7/dist-packages (from google-api-core<3.0.0,>=1.0.0->opencensus->ray==1.5.0->farm-haystack==1.0.0rc1) (1.53.0)\n",
            "Requirement already satisfied: pytz in /usr/local/lib/python3.7/dist-packages (from google-api-core<3.0.0,>=1.0.0->opencensus->ray==1.5.0->farm-haystack==1.0.0rc1) (2018.9)\n",
            "Requirement already satisfied: google-auth<2.0dev,>=1.21.1 in /usr/local/lib/python3.7/dist-packages (from google-api-core<3.0.0,>=1.0.0->opencensus->ray==1.5.0->farm-haystack==1.0.0rc1) (1.35.0)\n",
            "Requirement already satisfied: cachetools<5.0,>=2.0.0 in /usr/local/lib/python3.7/dist-packages (from google-auth<2.0dev,>=1.21.1->google-api-core<3.0.0,>=1.0.0->opencensus->ray==1.5.0->farm-haystack==1.0.0rc1) (4.2.4)\n",
            "Requirement already satisfied: pyasn1-modules>=0.2.1 in /usr/local/lib/python3.7/dist-packages (from google-auth<2.0dev,>=1.21.1->google-api-core<3.0.0,>=1.0.0->opencensus->ray==1.5.0->farm-haystack==1.0.0rc1) (0.2.8)\n",
            "Requirement already satisfied: rsa<5,>=3.1.4 in /usr/local/lib/python3.7/dist-packages (from google-auth<2.0dev,>=1.21.1->google-api-core<3.0.0,>=1.0.0->opencensus->ray==1.5.0->farm-haystack==1.0.0rc1) (4.7.2)\n",
            "Requirement already satisfied: pyparsing>=2.0.2 in /usr/local/lib/python3.7/dist-packages (from packaging->transformers==4.7.0->farm-haystack==1.0.0rc1) (2.4.7)\n",
            "Requirement already satisfied: pyasn1<0.5.0,>=0.4.6 in /usr/local/lib/python3.7/dist-packages (from pyasn1-modules>=0.2.1->google-auth<2.0dev,>=1.21.1->google-api-core<3.0.0,>=1.0.0->opencensus->ray==1.5.0->farm-haystack==1.0.0rc1) (0.4.8)\n",
            "Requirement already satisfied: grpcio-tools<1.38.0,>=1.22.0 in /usr/local/lib/python3.7/dist-packages (from pymilvus->farm-haystack==1.0.0rc1) (1.34.1)\n",
            "Collecting ujson>=2.0.0\n",
            "  Downloading ujson-4.2.0-cp37-cp37m-manylinux_2_17_x86_64.manylinux2014_x86_64.whl (214 kB)\n",
            "\u001b[K     |████████████████████████████████| 214 kB 45.0 MB/s \n",
            "\u001b[?25hCollecting grpcio>=1.28.1\n",
            "  Downloading grpcio-1.37.1-cp37-cp37m-manylinux2014_x86_64.whl (4.2 MB)\n",
            "\u001b[K     |████████████████████████████████| 4.2 MB 33.7 MB/s \n",
            "\u001b[?25hRequirement already satisfied: lxml>=2.3.2 in /usr/local/lib/python3.7/dist-packages (from python-docx->farm-haystack==1.0.0rc1) (4.2.6)\n",
            "Collecting num2words\n",
            "  Downloading num2words-0.5.10-py3-none-any.whl (101 kB)\n",
            "\u001b[K     |████████████████████████████████| 101 kB 10.9 MB/s \n",
            "\u001b[?25hRequirement already satisfied: inflect in /usr/local/lib/python3.7/dist-packages (from quantulum3->farm-haystack==1.0.0rc1) (2.1.0)\n",
            "Requirement already satisfied: docopt>=0.6.2 in /usr/local/lib/python3.7/dist-packages (from num2words->quantulum3->farm-haystack==1.0.0rc1) (0.6.2)\n",
            "Requirement already satisfied: joblib in /usr/local/lib/python3.7/dist-packages (from sacremoses->transformers==4.7.0->farm-haystack==1.0.0rc1) (1.0.1)\n",
            "Collecting rdflib>=4.0\n",
            "  Downloading rdflib-6.0.2-py3-none-any.whl (407 kB)\n",
            "\u001b[K     |████████████████████████████████| 407 kB 47.1 MB/s \n",
            "\u001b[?25hCollecting pluggy>=0.12.0\n",
            "  Downloading pluggy-1.0.0-py2.py3-none-any.whl (13 kB)\n",
            "Requirement already satisfied: toml>=0.9.4 in /usr/local/lib/python3.7/dist-packages (from tox->farm-haystack==1.0.0rc1) (0.10.2)\n",
            "Requirement already satisfied: py>=1.4.17 in /usr/local/lib/python3.7/dist-packages (from tox->farm-haystack==1.0.0rc1) (1.10.0)\n",
            "Collecting virtualenv!=20.0.0,!=20.0.1,!=20.0.2,!=20.0.3,!=20.0.4,!=20.0.5,!=20.0.6,!=20.0.7,>=16.0.0\n",
            "  Downloading virtualenv-20.8.1-py2.py3-none-any.whl (5.3 MB)\n",
            "\u001b[K     |████████████████████████████████| 5.3 MB 37.2 MB/s \n",
            "\u001b[?25hCollecting distlib<1,>=0.3.1\n",
            "  Downloading distlib-0.3.3-py2.py3-none-any.whl (496 kB)\n",
            "\u001b[K     |████████████████████████████████| 496 kB 37.4 MB/s \n",
            "\u001b[?25hCollecting backports.entry-points-selectable>=1.0.4\n",
            "  Downloading backports.entry_points_selectable-1.1.0-py2.py3-none-any.whl (6.2 kB)\n",
            "Collecting platformdirs<3,>=2\n",
            "  Downloading platformdirs-2.4.0-py3-none-any.whl (14 kB)\n",
            "Collecting h11>=0.8\n",
            "  Downloading h11-0.12.0-py3-none-any.whl (54 kB)\n",
            "\u001b[K     |████████████████████████████████| 54 kB 3.1 MB/s \n",
            "\u001b[?25hCollecting asgiref>=3.4.0\n",
            "  Downloading asgiref-3.4.1-py3-none-any.whl (25 kB)\n",
            "Building wheels for collected packages: farm-haystack, pytesseract, alembic, databricks-cli, sentence-transformers, gpustat, langdetect, python-docx, python-multipart, seqeval, tika\n",
            "  Building wheel for farm-haystack (setup.py) ... \u001b[?25l\u001b[?25hdone\n",
            "  Created wheel for farm-haystack: filename=farm_haystack-1.0.0rc1-py3-none-any.whl size=326911 sha256=dbdd93abf2149ad0c9537328d9cd06f9e77847c0fa22c04817db3c62985a850e\n",
            "  Stored in directory: /tmp/pip-ephem-wheel-cache-nsb243qu/wheels/a7/05/3b/9b33368d9af06a39f8e6af2e97fa2af876e893ade323cfc2c9\n",
            "  Building wheel for pytesseract (setup.py) ... \u001b[?25l\u001b[?25hdone\n",
            "  Created wheel for pytesseract: filename=pytesseract-0.3.7-py2.py3-none-any.whl size=13954 sha256=7fcb5fbc391ed7b3558e1a7ccf09e44580fca1e72957cd249889692b4ace2402\n",
            "  Stored in directory: /root/.cache/pip/wheels/67/71/6c/7a8c5ca2e699752506999ae7baeb692e2b4fc6488c2cddcb22\n",
            "  Building wheel for alembic (setup.py) ... \u001b[?25l\u001b[?25hdone\n",
            "  Created wheel for alembic: filename=alembic-1.4.1-py2.py3-none-any.whl size=158172 sha256=daff4bcce8122acddfb223f8d75ea17d09162ad0c47dd21ddeeda971eab760a4\n",
            "  Stored in directory: /root/.cache/pip/wheels/be/5d/0a/9e13f53f4f5dfb67cd8d245bb7cdffe12f135846f491a283e3\n",
            "  Building wheel for databricks-cli (setup.py) ... \u001b[?25l\u001b[?25hdone\n",
            "  Created wheel for databricks-cli: filename=databricks_cli-0.16.2-py3-none-any.whl size=106811 sha256=45c0fe12e8e613350916eff7223b81533ac50b8ebe22cc8739229faacffa27d8\n",
            "  Stored in directory: /root/.cache/pip/wheels/f4/5c/ed/e1ce20a53095f63b27b4964abbad03e59cf3472822addf7d29\n",
            "  Building wheel for sentence-transformers (setup.py) ... \u001b[?25l\u001b[?25hdone\n",
            "  Created wheel for sentence-transformers: filename=sentence_transformers-2.1.0-py3-none-any.whl size=121000 sha256=c2fced435b7e93b1bf35d43ad9204d3a18412b26dd9a68023c9392d398b0237b\n",
            "  Stored in directory: /root/.cache/pip/wheels/90/f0/bb/ed1add84da70092ea526466eadc2bfb197c4bcb8d4fa5f7bad\n",
            "  Building wheel for gpustat (setup.py) ... \u001b[?25l\u001b[?25hdone\n",
            "  Created wheel for gpustat: filename=gpustat-0.6.0-py3-none-any.whl size=12617 sha256=a866cab679265ec38c4b83e59b2415a35ad4444967b65b3fba9378cbe6f7b9be\n",
            "  Stored in directory: /root/.cache/pip/wheels/e6/67/af/f1ad15974b8fd95f59a63dbf854483ebe5c7a46a93930798b8\n",
            "  Building wheel for langdetect (setup.py) ... \u001b[?25l\u001b[?25hdone\n",
            "  Created wheel for langdetect: filename=langdetect-1.0.9-py3-none-any.whl size=993242 sha256=63f137dc3dbfc0c1ee46176f18ebf71c5daa36781ccdabcf5cfc5b3804aaa637\n",
            "  Stored in directory: /root/.cache/pip/wheels/c5/96/8a/f90c59ed25d75e50a8c10a1b1c2d4c402e4dacfa87f3aff36a\n",
            "  Building wheel for python-docx (setup.py) ... \u001b[?25l\u001b[?25hdone\n",
            "  Created wheel for python-docx: filename=python_docx-0.8.11-py3-none-any.whl size=184508 sha256=4013e08de876cef582348e794534d2e44d793ddb8fa9bf8aa062c91771e40f40\n",
            "  Stored in directory: /root/.cache/pip/wheels/f6/6f/b9/d798122a8b55b74ad30b5f52b01482169b445fbb84a11797a6\n",
            "  Building wheel for python-multipart (setup.py) ... \u001b[?25l\u001b[?25hdone\n",
            "  Created wheel for python-multipart: filename=python_multipart-0.0.5-py3-none-any.whl size=31678 sha256=670c9325d9250a02cb97a9898d00b9fbdc0ee903459de3862306cdc1562b7d2e\n",
            "  Stored in directory: /root/.cache/pip/wheels/2c/41/7c/bfd1c180534ffdcc0972f78c5758f89881602175d48a8bcd2c\n",
            "  Building wheel for seqeval (setup.py) ... \u001b[?25l\u001b[?25hdone\n",
            "  Created wheel for seqeval: filename=seqeval-1.2.2-py3-none-any.whl size=16181 sha256=e699f0017ba021984e16bc3b0f65cde5084e322cb0cf46f6098c196a5a2bf109\n",
            "  Stored in directory: /root/.cache/pip/wheels/05/96/ee/7cac4e74f3b19e3158dce26a20a1c86b3533c43ec72a549fd7\n",
            "  Building wheel for tika (setup.py) ... \u001b[?25l\u001b[?25hdone\n",
            "  Created wheel for tika: filename=tika-1.24-py3-none-any.whl size=32891 sha256=39712195c603f069e4d85feed91ece2f9e5715a86ea423871ae0698f46655f8e\n",
            "  Stored in directory: /root/.cache/pip/wheels/ec/2b/38/58ff05467a742e32f67f5d0de048fa046e764e2fbb25ac93f3\n",
            "Successfully built farm-haystack pytesseract alembic databricks-cli sentence-transformers gpustat langdetect python-docx python-multipart seqeval tika\n",
            "Installing collected packages: multidict, yarl, sniffio, smmap, isodate, async-timeout, websocket-client, tokenizers, sacremoses, python-editor, platformdirs, pillow, opencensus-context, mypy-extensions, msrest, marshmallow, Mako, huggingface-hub, grpcio, gitdb, distlib, cryptography, blessings, backports.entry-points-selectable, azure-core, anyio, aiohttp, virtualenv, validators, ujson, typing-inspect, transformers, starlette, sentencepiece, redis, rdflib, querystring-parser, pydantic, py-spy, prometheus-flask-exporter, pluggy, opencensus, num2words, marshmallow-enum, h11, gunicorn, gpustat, gitpython, docker, databricks-cli, colorama, azure-storage-blob, asgiref, alembic, aioredis, aiohttp-cors, weaviate-client, uvloop, uvicorn, tox, tika, sqlalchemy-utils, SPARQLWrapper, seqeval, sentence-transformers, ray, quantulum3, python-multipart, python-docx, pytesseract, pymilvus, psycopg2-binary, pdf2image, mmh3, mlflow, langdetect, httptools, fastapi, faiss-cpu, elasticsearch, elastic-apm, dataclasses-json, farm-haystack\n",
            "  Attempting uninstall: pillow\n",
            "    Found existing installation: Pillow 7.1.2\n",
            "    Uninstalling Pillow-7.1.2:\n",
            "      Successfully uninstalled Pillow-7.1.2\n",
            "  Attempting uninstall: grpcio\n",
            "    Found existing installation: grpcio 1.41.0\n",
            "    Uninstalling grpcio-1.41.0:\n",
            "      Successfully uninstalled grpcio-1.41.0\n",
            "  Attempting uninstall: pluggy\n",
            "    Found existing installation: pluggy 0.7.1\n",
            "    Uninstalling pluggy-0.7.1:\n",
            "      Successfully uninstalled pluggy-0.7.1\n",
            "\u001b[31mERROR: pip's dependency resolver does not currently take into account all the packages that are installed. This behaviour is the source of the following dependency conflicts.\n",
            "pytest 3.6.4 requires pluggy<0.8,>=0.5, but you have pluggy 1.0.0 which is incompatible.\n",
            "datascience 0.10.6 requires folium==0.2.1, but you have folium 0.8.3 which is incompatible.\n",
            "albumentations 0.1.12 requires imgaug<0.2.7,>=0.2.5, but you have imgaug 0.2.9 which is incompatible.\u001b[0m\n",
            "Successfully installed Mako-1.1.5 SPARQLWrapper-1.8.5 aiohttp-3.7.4.post0 aiohttp-cors-0.7.0 aioredis-2.0.0 alembic-1.4.1 anyio-3.3.4 asgiref-3.4.1 async-timeout-3.0.1 azure-core-1.19.0 azure-storage-blob-12.9.0 backports.entry-points-selectable-1.1.0 blessings-1.7 colorama-0.4.4 cryptography-35.0.0 databricks-cli-0.16.2 dataclasses-json-0.5.6 distlib-0.3.3 docker-5.0.3 elastic-apm-6.6.0 elasticsearch-7.10.0 faiss-cpu-1.7.1.post2 farm-haystack-1.0.0rc1 fastapi-0.70.0 gitdb-4.0.7 gitpython-3.1.24 gpustat-0.6.0 grpcio-1.37.1 gunicorn-20.1.0 h11-0.12.0 httptools-0.3.0 huggingface-hub-0.0.8 isodate-0.6.0 langdetect-1.0.9 marshmallow-3.14.0 marshmallow-enum-1.5.1 mlflow-1.13.1 mmh3-3.0.0 msrest-0.6.21 multidict-5.2.0 mypy-extensions-0.4.3 num2words-0.5.10 opencensus-0.8.0 opencensus-context-0.1.2 pdf2image-1.14.0 pillow-8.3.2 platformdirs-2.4.0 pluggy-1.0.0 prometheus-flask-exporter-0.18.3 psycopg2-binary-2.9.1 py-spy-0.3.10 pydantic-1.8.2 pymilvus-1.1.2 pytesseract-0.3.7 python-docx-0.8.11 python-editor-1.0.4 python-multipart-0.0.5 quantulum3-0.7.9 querystring-parser-1.2.4 ray-1.5.0 rdflib-6.0.2 redis-3.5.3 sacremoses-0.0.46 sentence-transformers-2.1.0 sentencepiece-0.1.96 seqeval-1.2.2 smmap-4.0.0 sniffio-1.2.0 sqlalchemy-utils-0.37.9 starlette-0.16.0 tika-1.24 tokenizers-0.10.3 tox-3.24.4 transformers-4.7.0 typing-inspect-0.7.1 ujson-4.2.0 uvicorn-0.15.0 uvloop-0.14.0 validators-0.18.2 virtualenv-20.8.1 weaviate-client-2.5.0 websocket-client-1.2.1 yarl-1.7.0\n"
          ]
        },
        {
          "output_type": "display_data",
          "data": {
            "application/vnd.colab-display-data+json": {
              "pip_warning": {
                "packages": [
                  "PIL"
                ]
              }
            }
          },
          "metadata": {}
        },
        {
          "output_type": "stream",
          "name": "stdout",
          "text": [
            "Reading package lists... Done\n",
            "Building dependency tree       \n",
            "Reading state information... Done\n",
            "The following NEW packages will be installed:\n",
            "  poppler-utils\n",
            "0 upgraded, 1 newly installed, 0 to remove and 37 not upgraded.\n",
            "Need to get 154 kB of archives.\n",
            "After this operation, 613 kB of additional disk space will be used.\n",
            "Get:1 http://archive.ubuntu.com/ubuntu bionic-updates/main amd64 poppler-utils amd64 0.62.0-2ubuntu2.12 [154 kB]\n",
            "Fetched 154 kB in 1s (251 kB/s)\n",
            "Selecting previously unselected package poppler-utils.\n",
            "(Reading database ... 155047 files and directories currently installed.)\n",
            "Preparing to unpack .../poppler-utils_0.62.0-2ubuntu2.12_amd64.deb ...\n",
            "Unpacking poppler-utils (0.62.0-2ubuntu2.12) ...\n",
            "Setting up poppler-utils (0.62.0-2ubuntu2.12) ...\n",
            "Processing triggers for man-db (2.8.3-2ubuntu0.1) ...\n"
          ]
        }
      ]
    },
    {
      "cell_type": "code",
      "metadata": {
        "colab": {
          "base_uri": "https://localhost:8080/"
        },
        "id": "j12h11UA76lz",
        "outputId": "1a5331eb-f36f-4331-e6a8-c37f1b903a3e"
      },
      "source": [
        "from haystack.preprocessor.cleaning import clean_wiki_text\n",
        "from haystack.preprocessor.utils import convert_files_to_dicts, fetch_archive_from_http\n",
        "from haystack.reader.farm import FARMReader\n",
        "from haystack.document_store.memory import InMemoryDocumentStore\n",
        "from haystack.reader.transformers import TransformersReader\n",
        "from haystack.utils import print_answers\n",
        "from haystack.preprocessor.preprocessor import PreProcessor\n",
        "from haystack.file_converter.pdf import PDFToTextConverter\n"
      ],
      "execution_count": null,
      "outputs": [
        {
          "output_type": "stream",
          "name": "stderr",
          "text": [
            "/usr/local/lib/python3.7/dist-packages/ray/autoscaler/_private/cli_logger.py:61: FutureWarning: Not all Ray CLI dependencies were found. In Ray 1.4+, the Ray CLI, autoscaler, and dashboard will only be usable via `pip install 'ray[default]'`. Please update your install command.\n",
            "  \"update your install command.\", FutureWarning)\n"
          ]
        }
      ]
    },
    {
      "cell_type": "markdown",
      "metadata": {
        "id": "3HwUAOvgc7hQ"
      },
      "source": [
        "# Initialise DocStore"
      ]
    },
    {
      "cell_type": "code",
      "metadata": {
        "id": "spnC3WHj7_hV"
      },
      "source": [
        "# from haystack.document_store import FAISSDocumentStore\n",
        "\n",
        "# document_store = FAISSDocumentStore(faiss_index_factory_str=\"Flat\")"
      ],
      "execution_count": null,
      "outputs": []
    },
    {
      "cell_type": "code",
      "metadata": {
        "id": "O0vsmOhwdKyT"
      },
      "source": [
        "# document_store = InMemoryDocumentStore()"
      ],
      "execution_count": null,
      "outputs": []
    },
    {
      "cell_type": "code",
      "metadata": {
        "id": "P_0yy_zLjX9-"
      },
      "source": [
        "# ####### for embeddingretrieval ###\n",
        "\n",
        "\n",
        "# document_store = InMemoryDocumentStore(similarity=\"cosine\",embedding_dim=4096)"
      ],
      "execution_count": null,
      "outputs": []
    },
    {
      "cell_type": "code",
      "metadata": {
        "id": "GeOCRWiej5ba"
      },
      "source": [
        "######## Clear doc store  #############\n",
        "InMemoryDocumentStore.delete_all_documents\n",
        "document_store = InMemoryDocumentStore(similarity=\"dot_product\")"
      ],
      "execution_count": null,
      "outputs": []
    },
    {
      "cell_type": "markdown",
      "metadata": {
        "id": "P96uhCR_c_Mz"
      },
      "source": [
        "# Storing in DocStore by clean_wiki_text\n"
      ]
    },
    {
      "cell_type": "code",
      "metadata": {
        "id": "QBy-t0z3_1SK"
      },
      "source": [
        "#########   METHOD 1 ############\n",
        "# Let's first get some files that we want to use\n",
        "doc_dir = \"/content/x\"\n",
        "dicts = convert_files_to_dicts(dir_path=doc_dir, clean_func=clean_wiki_text, split_paragraphs=True)\n",
        "\n",
        "# Now, let's write the dicts containing documents to our DB.\n",
        "document_store.write_documents(dicts)"
      ],
      "execution_count": null,
      "outputs": []
    },
    {
      "cell_type": "code",
      "metadata": {
        "id": "-YO3JTJt_200",
        "colab": {
          "base_uri": "https://localhost:8080/"
        },
        "outputId": "fe00ccb6-1de4-42f1-e95e-78eeadab1145"
      },
      "source": [
        "xx = len(dicts)\n",
        "print(dicts)"
      ],
      "execution_count": null,
      "outputs": [
        {
          "output_type": "stream",
          "name": "stdout",
          "text": [
            "[{'content': 'We wanted to find a way we could engage\\nwith our people and you to help bring our\\nThat\\'s why we created this short video\\nthat demonstrates how `People\\' create\\nvalue at the point of delivery.\\nwww.vimeo.com/417101268/b5b5a8faad\\nWe will deliver a step change in\\nlooked after across all corners\\nThis will ensure our people are\\nrespected, listened to, guided,\\nyou. We\\'ll keep up to date with\\nrewarding people for a good job,\\ninitiatives to recognise the team,\\nany barriers between silos, and\\nparty supplier feeling to a more\\n\\x0c6.4  Contract management structure\\nWe\\'ll introduce our People Programme to develop, respect and nurture our teams\\nWe know there is a good team currently in place\\nand, as the existing people will transfer to us, we will\\nembrace and celebrate the dedication and quality\\nof the team through the introduction of our People\\nOur People Programme covers all aspects of the\\nemployee lifecycle, from the initial workshop with you\\nto design the contract organisation structure, through\\nto all core stages of our programme and how our\\npeople feel about working for us. These include areas\\nsuch as resourcing, on-boarding, training, mentoring,\\ncoaching, appraisal, career development, reward,\\nrecognition and performance management.\\nWe\\'re passionate about the quality of our people and\\ncommitted to developing every colleague. It is our\\ncore principle that everyone must be given the right\\nsupport to carry out their duties to the highest of\\nstandards. This is an essential part of our proposal to\\nyou, the value we place on people development too,\\nwill maintain the quality of our service delivery.\\nOur dedicated Learning and Development team\\nwill constantly work closely with our subject matter\\nexperts to design and deliver effective training\\ninterventions for the people. Our on-going training\\napproach will ensure we stay ahead of changing\\nlegislation and the latest ways of working. We have\\na complete suite of e-Learning solutions which we\\nare continually developing and adding to. Our people\\naccess the training material at any time and our\\napproach allows us to reach teams in geographically\\nremote areas with training solutions when needed.\\nOur Learning Management System enables us to\\neffectively allocate, track and report all cascaded\\nDuring our collaboration session we discussed the\\nPeople Programme with you and discussed that\\nevery person working for our business receives an\\nappraisal, and we believe this is a differentiator, as\\nmost FM businesses will not do this for front line\\noperatives. Our firm belief is that everyone working on\\nyour contract must have the opportunity to sit down\\nwith their line Manager and discuss their progress\\nand development and to receive praise, support and\\nfeedback, away from the job. We of course appreciate\\nthat a scaled down version can be appropriate for\\npart time colleagues. In our experience, a more\\nrelaxed setting and slightly less formal approach for\\nOperatives generates the best results.\\nb. Match applications to agreed\\ncandidates, interviews, testing,\\nd. Electronic screening e-ploy.\\nb. Set clear tasks, objectives and\\nd. Support, advice and appraisals\\na. Joint welcome packs h. Short, medium and\\nd. Welcome to the team j. WorldHost customer\\nnow we want to do some things to\\nWe have listened to you when you told us\\nyou are very happy with the commitment\\nand hard work of the people working on\\nthe contract. We know that you have\\nbeen disappointed with the speed at\\nwhich benefits have been cascaded to the\\nteams. We strongly believe we need our\\npeople on board from the outset, and part\\nof that is their levels of engagement and\\nsatisfaction. It is much easier for us to\\nbring them along this journey when they\\nThat\\'s why we are proposing to provide\\nthem with an employee benefits reward\\nand recognition package. We want\\nto involve you in the creation of a\\ncompelling recognition programme, as we\\nunderstand this needs to be balanced in\\nline with your own people, and to support\\na one workplace team approach there are\\nseveral we need to consider, particularly\\nwhen agreeing a reward programme for\\noutstanding work and achievements.\\nAs a smaller FM provider we can agree\\nwith you and effect rewards, recognition\\nand benefits very quickly. We are\\nrecommending putting an annual budget\\naside every year to be used specifically to\\ndeliver rewards, recognition, awards and\\nprizes. From our collaboration meeting we\\nknow that this is something that is very\\nmuch of interest and we would suggest\\nagreeing in a workshop with you what the\\nbudget should be and the opportunities\\nWe also propose to tie rewards and\\nrecognition into the feedback we receive.\\nWe want to work with you to make sure\\neveryone working in your buildings knows\\nthat if they share positive feedback\\nabout a job well done, that something\\nmeaningful will happen with that\\nfeedback and for the members of the FM\\n The budget we propose is 25,000 per\\nannum, which will be finalised working\\ntogether with you upon contract\\naward, could be used as follows:\\n 10,000 incentives, awards, prizes and\\n- 5,000 in gift vouchers for work\\n- 5,000 in cash prizes based on\\nspecific quarterly incentives and\\n 10,000 performance bonuses based\\n 5,000 for an exclusive team benefits\\nThe team benefits package we have included is based\\non two main categories (the third  Recognition, will\\nbe developed together with you as detailed):\\n Employee savings  Provides discounts and\\nsavings to employees that\\'ll motivate our team\\nand enhance service delivery. This is a great way\\nto enhance disposable income and will work well\\n Health and Wellbeing  Supports employees\\' health\\nand wellbeing  helping to minimise employee\\nabsence and increase productivity.\\nNot only is adding these benefits to our proposal\\ncost-effective, we know it will increase happiness\\nand motivation levels among the account and\\ndelivery teams. This fits well into our plans for the\\ndevelopment of all employees, particularly cleaning.\\n\\x0cThese are one of the most popular sections,\\nas employees can enjoy discounts on everyday\\npurchases, holidays and entertainment  helping to\\nstretch their salaries further. All-in-all, they act as a\\nBenefit from a wide range of exclusive discounts\\nacross most consumer spend categories, including:\\nSo, no matter how small the purchase, our people\\ncan save on spur-of- the moment spending.\\nThese methods are also great for:\\n One-off, large purchases on electrical goods,\\nhome improvement items, white goods and fashion\\n For instance, a 1000 purchase at Curry\\'s using an\\ne-Voucher saves 8%  giving an 80 discount.\\nDiscounts are available in different redemption\\n Reloadable Gift Cards  Some retailers use this\\nmethod, in which a gift card is initially posted to\\nthe employee. For future-use, money can be\\nreloaded digitally and topped up on the card at\\n e-Vouchers  With roughly 70% of the discounts\\navailable via this method, it makes e-Vouchers the\\nmost commonly-used discount system. The main\\nbenefits of e-Vouchers are that they\\'re instant and can\\nbe accessed while on the go through the mobile app.\\n Health and Wellbeing program (gym discounts,\\ncycle to work, GP assist, health resources etc.)\\n Holidays and Experiences discounts\\nHow it all works  Employee Savings\\nThe Bidder is to describe the proposed operating model\\nand contract management structure, to include:\\nOrganisation chart showing clearly the structure for the\\n Job descriptions and typical CVs of key personnel\\ninvolved in the delivery and management of this type\\n Roles and responsibilities of key individuals involved\\nin a support, advisory or expert capacity for the\\n The % time these personnel will be allocated to the\\nThe Bidder is to provide details of the local office from\\nwhere this Contract will be managed, including address\\nand details of main functions located at this office.\\n\\x0cKalium, Salisbury electrical engineer\\nWe want to ensure that you have a full understanding\\nas to how our operating model works. In particular,\\nhow it wraps around our account management solution\\nand drives a high level of delivery standards that will\\nwow your people and visitors at each of your sites.\\nThat\\'s why the operating model detailed within\\nour response to Q6.8  Playbooks, Reporting and\\nManagement Information sets the blueprint for\\noperational delivery of each service. The model will be\\nadministered through our Dynamic Governance Model\\nas detailed in our response to Q6.7  Governance\\n& Assurance. The Playbook framework has been\\npresented to you and will be developed together with\\nyou upon contract award, to make sure we shape\\nthis in the right ways to achieve maximum service\\noutcomes at a service and site level.\\nYou will receive full transparency in detailing how we are\\nperforming and how this is measured against our agreed\\nSLA/KPI framework, which has been detailed in full within\\nour response to Q6.10  Performance Management.\\nJoining up all the dots  our account\\nmanagement team have the right technology,\\nsupport and operational framework to take the\\n\\x0c 1. People  giving you the right level of dedicated\\nmanagement that doesn\\'t have external\\ndistractions or other customers to support. We\\nalso provide additional regional and head office\\nsupport, including a strong commercial focus\\nto ensure we deliver against our promises and\\ncommitments. The account team will be able to\\nlean on our in-house experts such as:\\n-HR, to support people and leaders across the\\n-Learning & Development, to enhance the\\nskills of the people working on your contract\\n-Customer Service, which will be trained\\n-QSHE, to ensure we work within our ISO\\n(9001, 14001, 27001 and OHSAS 18001\\n(moving to ISO 45001 upon next renewal))\\n-Procurement, to support our supply chain\\n-Technology team, to continue to support\\nand develop our Maximo CAFM and other\\n 2. Transparency  our Maximo 7.6.0.9 CAFM system\\nwill be at the centre of our drive for technological\\nintegration and real-time reporting, presented the\\nway you want it. Our approach also ensures our\\naccount management team have the right data,\\neasily accessible and presented in a way which\\nenables them to make informed decisions about\\nwhat to do, how we communicate this with you and\\nhow we present this back to you in a transparent way\\n 3. Value  delivery of a pound for pound service\\nthrough benchmarking exercises, a SMART\\nHelpdesk approach, monitored through our\\nDynamic Governance Model, operated through\\nour Playbook blueprint and measured through\\n 4. Service  making sure we have the right people\\nin the right place at the right time. All the above\\ncoming together, fully orchestrated by the account\\nmanagement team, will make certain the service is\\ndelivered consistently, aligned to how you want it,\\nfor every discipline at each site.\\nOur solution will result in an end to end and well\\ndeveloped contract management structure\\nwhich focuses on driving benefits in four areas:\\nOur solution places our account\\nTrigonos, and they will regularly\\nYou will receive a dedicated account\\nmanagement team based at Trigonos.\\nThis was positively discussed within\\nour `Collaboration Session 2\\'. This\\nwill provide a strong foundation\\nadministration. We would have a\\npermanent presence on your largest\\nsite, providing real visibility of a joinedup, one-team workplace service with\\neasy access to your other buildings,\\nwhich will be visited on a weekly basis.\\nAs a national provider of facilities\\nservices, we also have additional\\nfunctions available that will support this\\ncontract across each of your site, which\\nare detailed over the next few pages.\\nThe right team, supported by the right\\ninfrastructure to ensure we elevate service\\nAndrew Lunt, Group Managing Director will be\\nour Executive Sponsor for this contract. Andrew\\nleads our business and has supported this\\nopportunity from inception and will continue to do\\nso, supported by the wider leadership team and\\nspecifically Adam Burden, Director of Operations.\\nOur flat and lean central management structure\\nenables a faster decision-making process and\\nwill deliver quicker solutions and results. It will\\nalso provide you with a simple escalation route\\nthrough our governance structure, with our\\nExecutive Sponsor available should you require.\\nWe will base the account management team\\nwithin your Trigonos facility, and this will enable\\nthe team to support a weekly visit to your other\\nbuildings. This will enhance the visibility of our\\nworkplace team and allow us to develop strong\\nrelationships with your people at each building.\\nThe structure is demonstrated in the below\\norganisation chart and includes all supporting\\nfunctions. Over the next few pages, we go into\\ndetail about the proposed people for these roles\\nand what expertise and experience they will bring\\nFigure 1 - Our flat structure provides\\nthe right support and governance to\\nallow our teams to deliver consistent\\nOur Account Manager will take ownership and responsibility for all services, and will be supported\\nby a great network of experts  whilst having the right systems and technology in place to\\nOur structure provides a dedicated full time Account\\nManager from a TFM background who will have day to\\nday operational responsibility for our service delivery.\\nThe Account Manager will be appointed by us but\\nsubject to your agreement and TUPE considerations.\\nThis collaboration will help support strong leadership\\nfor the operational structure and allow us to\\nimplement the `Salisbury way\\' of working, aligned to\\nyour specific requirements. We envisage the current\\nAccount Manager will be TUPE transferred to us and\\nwill then be trained and guided in the new contract\\nculture. However, we have a plan should they not\\nWe believe that our proposed account management\\nstructure will provide you with the following significant\\n Self-delivery of core services for improved\\nmanagement and removal of margin on margin\\n TFM ownership and technical support from people\\nwho understand your environments\\n Open access to all levels of Salisbury management\\n Defined roles and responsibilities with clear\\nvisibility of responsibility to RWE\\n Commitment to realising the potential of our\\nemployees through continuous training and\\n Industry awareness which supports our aim of `best\\n Determination to exceed service levels and deliver\\n Focus on `cost\\' analysis to deliver contract term\\n Transparent, honest and unbiased partnershipbased relationship.\\nWhat our Account Manager will do for you\\nOur dedicated RWE Account Manager will be based\\nat Trigonos during the working week and will lead the\\nteam and will hold operational responsibility. They\\nwill also be tasked to conduct weekly visits (either in\\nperson or delegated within the account management\\nteam (TSM, FM Soft Services or Projects Manager\\netc.) to ensure we continue to support each building\\nand recognise that all buildings require the same level\\nThe Account Manager will set agreed strategic and\\noperational objectives and manage our resources\\nacross the site base. They will assist in the successful\\nimplementation and enable development of future\\nThe Account Manager role is both a strategic and a\\ndelivery role, to centrally coordinate and own the delivery\\nof services and play a part in the following areas:\\n Team management, support and development\\n Events rostering and labour support coordination\\n Financial and budgetary control\\n Client management and communication\\n Quality customer service delivery\\n Asset strategy, lifecycle planning and energy\\n Compliance and risk management\\nThey will liaise at least weekly with your operational\\ninterface to keep them fully informed in advance of\\nall operational and technical activities that are taking\\nplace on site, supporting your core activities.\\nThe Account Manager will be highly responsive\\nto the operational and commercial needs of RWE\\nmanagement and customer needs. They will be\\nresourceful and swift in resolving any problems at site\\nlevel and provide a wide range of technical skills and\\nexperience to professionally support the site facilities.\\nRecruiting, training and developing the right staff will support\\nretention and make RWE a destination of career choice\\nAs a business that is judged by the\\nquality of its people, the recruitment,\\nselection and retention of personnel is\\nan important process. We aim to attract\\nand retain the best possible candidates\\nby being an employer of choice.\\nWhilst we anticipate the majority\\nof people to be welcomed into our\\nhave already held discussions with\\nyou regarding localised pay rates,\\nparticularly around the Trigonos\\nbuilding, and discussed strategies on\\nhow to compete with cleaning services\\nat Nationwide Building Society. We have\\nprovided you with a couple of pricing\\noptions around pay rates, and our\\nsolution has already factored in a lean\\napproach to staff numbers and how\\nShould the existing Account Manager not\\ntransfer to us, we will engage our Head of\\nRecruitment, Joe Cook, who will support\\nthe recruitment of any new people\\nneeded. Joe supported the research into\\nlocalised pay rates and is very familiar\\nand up to speed with this contract.\\nJoe will specifically support the\\nrecruitment process within our Eploy\\ncandidate tracking and onboarding\\n Identification of vacancies and\\nadvertisement of positions we need\\n Recruitment, vetting and screening\\nof all potentially new staff to fill\\nvacant positions and ensure fully\\n Ability to recruit, vet and screen new\\nrecruits to fill positions to maintain\\nOur overview of what each person, either directly\\ndeployed on the contract, or indirectly through\\nsupporting roles, gives you full transparency\\nOver the next few pages we provide detail about\\ndirect and indirect contract support. For brevity\\nand clarity, we have detailed the role, name, job\\ndescription, specific role on this contract, how\\nmuch time they will spend working with you, and if\\nappropriate, a personal profile.\\nYou will also notice we have used the term \"Proactive\\nand on demand\" when answering certain roles\\'\\npercentage of time allocated to the contract. We have\\ndone this to be transparent, as our approach is for\\npeople to spend as much time working with you as is\\nrequired  we see this as being fluid and all roles are\\nconsidered as part of our general overhead, and as\\nsuch are not costed within our pricing return.\\nSome of these roles will also be staggered and\\ncyclical. What we mean by this is that some roles will\\nhave a greater input at the mobilisation or early stage\\nof the contract, or be more visible during a cyclical\\nevent, such as H&S reviews or refresher training.\\n\\x0cRole: Group Managing Director and\\nwithin our governance structure,\\nproviding accountability at the very\\n% time of contract: Proactive and on\\nresponsibility for our performance and\\nreporting into the Board of Directors.\\nRole with RWE contract: Andrew has\\ntotal ownership for the RWE contract,\\nas given the strategic importance\\nthis contract has with our company,\\nAndrew requested to be the Executive\\nSponsor. He will hold daily calls with\\nAdam Burden to review performance\\ndashboard for the delivery of every\\nservice at each of your buildings. This\\nwill form part of the contract reviews\\nwith you. We think this will give you the\\nultimate assurance that delivery of\\nservice levels is always achieved.\\nAndrew will work closely with you to\\ndevelop a fully integrated partnership\\napproach, as detailed within our\\nresponse to proposed KPIs. He will\\nalso be the ultimate level of escalation\\nPersonal profile: Andrew has over 20\\nyears\\' experience of working in the\\nreal estate and FM sector. Specialising\\ninnovative FM solutions, Andrew has\\ndemonstrable experience of managing\\nnational portfolios occupied by a\\nmix of corporate and public sector\\noccupiers. Accountable for the entire\\noperational performance of Salisbury\\nGroup, including health and safety,\\noperations and account management,\\nrelationships with all clients, and\\nensures our services are delivered\\nto the required standards to over 11\\nmillion square feet of national office\\nDirect account management roles - Governance\\nJob Description: Takes responsibility and initiative in\\nthe smooth running of all business operations. Creates\\nour strategic plan complying with and enhancing our\\ncompany wide strategic plan and business plan. Provides\\neffective team and project management duties, including\\noverseeing project completion timelines, monitoring\\nproject costs, and ensuring customer needs are met.\\nContinuously reviewing department best practices to\\nprovide highest customer satisfaction. Liaising with other\\ndepartments, including finance to ensure operational\\nMaintains strong relationships with any third parties\\n(vendors, financial institutions, suppliers). Works with\\nprocurement team to ensure smooth procurement and\\ndelivery of products and services.\\nProviding outstanding leadership to team members,\\nincluding opportunities for coaching and development, to\\nmaximise work output and work quality.\\nIdentifying patterns and problem areas and implementing\\neffective solutions to increase efficiency whilst reporting\\nregularly to our Group Managing Director with completed\\non-budget and on-time projects and outcomes.\\nRole with RWE contract: Adam will have full internal\\naccountability for the delivery of all services for RWE\\nand will be a central figurehead for compliance,\\ngovernance and developing the contract. Adam will\\nalso lead the successful mobilisation of this contract.\\nAdam will work closely with you to develop a fully\\nintegrated partnership approach, as detailed within\\n% time of contract: Proactive and on demand\\nPersonal profile: Adam is a highly experienced and\\ndriven senior operational director with a strong record\\nof accomplishment in stabilising, transforming and\\nHe has a proven record of accomplishment of\\neffectively implementing change management\\nto improve operational performance, business\\ngrowth, customer and staff satisfaction, financial\\nperformance, KPI/SLA and commercial compliance.\\nAdam possesses financial and commercial acumen\\nwith detailed experience of managing business\\nturnover in excess of 50m including all the people,\\nlegal and commercial requirements that come with a\\nAdam\\'s background in business operational\\nanalysis and the ability to identify and resolve front\\nline issues from early stages and delivery effective\\nand sustainable change will be a real asset to lead\\nJob Description: Michelle is here as\\npart of the overarching governance to\\nensure that all services come together\\nto deliver the correct quality of our final\\nproduct in line with the Salisbury Group\\nway of delivering services and our\\ncontract commitments. By liaising and\\nunderstanding all aspects of service\\ndelivery, Michelle will oversee the\\nquality of outputs from a senior team,\\nMichelle is a conduit between different\\ndepartments providing important\\nfeedback and communication. In many\\ncases, she is responsible for ensuring\\nour service deliver meet strict quality\\nstandards detailed within our SLA/KPI\\nRole with RWE contract: Michelle will\\nprovide day to day governance for\\nthe account team. We are mindful we\\nneed to provide additional support\\nunderstand this shouldn\\'t be viewed\\nindependently from our other business\\n this contract is not an island. That\\'s\\nwhy Michelle will visit your buildings a\\nminimum of one day per week and more\\nif required. This way we will provide\\nincreased visibility to you, your people\\nand to our team by seeing senior\\nleadership take an active role in the\\n% time of contract: Proactive and on\\ndemand and a minimum one day per\\nPersonal profile: Michelle is responsible\\nfor the operational management of\\nmulti service key contracts in our\\ncorporate sector, whilst also heading up\\nHer role focuses on the collaborative\\nrelationships we establish with our\\ncustomers, understanding their needs\\nand purpose to strategically develop\\nShe has been in the FM industry for\\nover ten years in various roles including\\nOperational roles across the public\\nand private sector where she has\\nestablished a reputation for contract\\nMichelle has also spent time in\\nspecialist roles such as service\\nexcellence and project management.\\nRole: National Operations Manager\\nDirect account management roles  Swindon Contract Hub\\nName: Possible TUPE, recruitment or\\ntransfer from our existing business\\nJob Description: A senior, high profile\\nrole encompassing both the strategic\\ndevelopment and hands-on operational\\nsite management. Driving operational\\nimprovement to ensure first class\\nrelationships and the delivery of\\nexceptional customer service levels\\nare always achieved. To identify and\\nsupport the development of business\\nopportunities and the maintenance/\\ncontinuation of long-term relationships.\\nDevelop and deliver our service models\\nin line with our strategic organisational\\nobjectives  which are developed\\nCompliance  Ensure the contract\\nis compliant with all legislative and\\nHealth and safety  ensure company\\nFinancial  ensure the contract delivers\\nfinancial and commercial results in line\\nwith the contract\\'s strategic plans and\\nEnsure the effective management\\nand execution of our policies and\\nprocedures, including QSHE in the\\nContinually look for innovative ways in\\nwhich to develop the service delivery\\nwhich will add benefit to our customers.\\nOrganising the roll out of WorldHost\\ncustomer service training with Olivia\\nAbbott, Customer Services Director\\nSeek continuous improvement on the\\ndelivery of the service to the customer,\\nOperational Management  Support,\\nlead and mentor the account team to\\nensure compliance with the contract\\n- Continuous achievement of contract\\nand business objectives and targets\\n- Health, safety and environmental\\n- Financial performance of contract\\n- Client liaison and satisfaction\\n- Evaluation of workloads against\\n- Training needs of our engineering\\nteam, supported by our in-house\\nEngineering Department and Learning\\nEnsure the relevant supervision\\nlevels are maintained and that the\\nnecessary levels are empowered to\\nmake decisions to ensure prompt\\nsolutions for both our business and our\\noperational managers / supervisors to\\nensure they have a clear understanding\\nof the direction they require the\\nservice to be delivered to meet their\\nchanging environment and ensure\\nthat the company\\'s delivery is aligned\\n\\x0cSet and manage firm financial and delivery targets for the\\naccount team\\'s operational managers to meet established\\nobjectives, which will include the reporting of the financial\\nstatus to the Director of Operations.\\nTo engender a team ethos with all the site staff to ensure the\\nwhole team is working harmoniously and delivering to common\\nArrange and chair team briefs/meetings/workshops (to be\\nformally recorded) involving the account management team\\nto ensure all staff members are kept well informed of contract\\nCarry out staff appraisals for the account team / supervisors\\nwho are direct reports, setting out training and development\\nProduction and maintenance of a site succession plan,\\nensuring all training and development requirements to\\nmaintain the plan are implemented.\\nLiaison and control of project management/supervision, to\\nconfirm that they are complying with company policies and\\nprocedures, which include but are not limited to QSHE / British\\nStandards and UK codes of practice, and company commercial\\nH&S - To ensure all contract specific local procedures\\nare implemented, supported by our in-house QSHE team.\\nProcedures will include emergency and escalation processes,\\nas necessary in the delivery of the services. All staff are\\nrequired to fulfil their legal duty to take reasonable care for\\nthe health and safety of themselves and others who may be\\naffected by their acts and omissions, and to follow all guidance\\nand instructions given in this respect. Further details regarding\\nhealth and safety responsibilities are set out in the Health &\\nWorking relationships  Internal: Interface with all support\\nfunctions including but not limited to: QSHE, Engineering team,\\nQuality Assurance (QA), HR, Finance & Commercial, IT/CAFM.\\nExternal  Interface with client representatives, other service\\nproviders and supply chain partners.\\nRole with RWE contract: Taking full operational delivery and\\ndevelopment across all services at all sites.\\nReporting of the financial status (Contract Valuations) to the\\nDirector of Operations ensuring all areas of the contract are\\ndelivering to the agreed budgets.\\nRole: Technical Services Manager\\nJob Description: This role forms an\\nessential part of the Resilience Diary.\\nThey will provide suitable training\\nand processes to ensure we deliver\\ncontract compliance across various\\ndelivery streams at each site, with the\\nengineering support teams working on\\nthe contract. In addition, they will work\\nwith our operational management to\\nensure efficient, cost effective solutions\\nare achieved across all spheres. This\\nwill include working alongside the\\nProjects Manager in the delivery of any\\nFrom a technical perspective, they will\\nalso ensure full compliance with relevant\\nelectrical standards including NICEIC.\\nTheir main duties and responsibilities\\nday to day basis of our engineering\\npermit to work systems. His will\\ninclude reviewing and approving risk\\nand method statements submitted\\nelectrical procedures, including the\\nrequirements of NICEIC and ensuring\\n The appointment of \"Skilled and/\\nor Competent Persons\" as required,\\nyour authorisation. This includes\\nauditing the persons on a minimum\\nof a twice-yearly basis to ensure\\nwork is carried out to the quality\\n Ensuring, as far as is reasonably\\npracticable, that the electrical\\nrecords for all RWE sites remain\\n Carry out the training of relevant\\nRWE contract staff working within\\nour team to ensure understanding\\n Ensure qualification statuses of\\n Carry out a technical review of all\\nsubmitted documentation, selfdelivery and subcontractor, to\\nensure full closure within our Maximo\\nRole with RWE contract: This role\\nwill have a direct line management\\nresponsibility for the engineering team\\non the contract. They will be expected\\nto manage projects (with a Projects\\nManager as a direct report), ensure\\ncompliance, take a longer term view\\non asset management and protection.\\nThey will take ownership of the critical\\nensure resilience cover at all times, in\\naccordance with the different levels of\\ncriticality we have identified.\\nThey will have accountability for the\\ndelivery of maintenance services to\\nall sites, which means facilitating call\\nout checks/desktop audits of works\\ncarried out at the other sites, whether\\ndirectly or via our national structure of\\nRegional Technical Managers and their\\nsupporting teams. They are responsible\\nfor set up the alerts/alarms on any\\nremote monitoring and then triaging\\nJob Description: Responsibility for the operational\\ndelivery of a range of leading the soft services facilities\\nmanagement across each building within scope, ensuring\\nthat the estate is safe, fit for purpose, and fully operational\\nin accordance with your expectations, and also the high\\nstandards of service associated with our delivery model.\\nThe role involves managing the day to day operational\\nrelationships with key RWE representatives and Customer\\nbusiness units, including all supply chain providers.\\nThe role is also the focus for customer service issues and\\nthe initial escalation point within the delivery structure,\\ninterfacing & resolving issues with key suppliers from a\\nperformance management perspective in relation to all\\nRole with RWE contract: Direct reports of security, cleaning\\nand workplace services, this role deputises to the Account\\nManager when they are on planned and unplanned leave.\\nEnsuring day to day delivery of soft services is achieved.\\nThey will also support the Account Manger to develop the\\ncontract, support with soft services innovation, including\\ntrials. This includes how they align with the Finance &\\nCommercial Manager to undertake analysis and re-costing\\nRole: Business Services Manager\\nJob Description: This role will provide a\\ncommercial management service to all services\\nwithin scope including projects & life cycle,\\ncovering all operational expenditure. They\\nwill administer this contract and manages the\\nimpact of new requirements, capital projects\\nand contract variations for RWE.\\nThe focus on this strategic role covers:\\n Support the budgeting and forecasting\\nprocess for all Service lines and liaise\\nwith other team members as necessary to\\ninvestigate and provide full and transparent\\n Revising contract service schedules and\\nsetting service levels aligned to our agreed\\n Preparing specifications for service alteration\\n Document control to auditable levels\\nsupporting our financial and quality assured\\n Ensuring effective Quality Assurance and\\nVFM for all variation related matters\\n Establishment and maintenance of an FM\\ndata management system which tracks all\\nservice variations including client services\\ncontract amendments and contractual\\n Supporting supply chain in procuring new\\nsupply chain partners and on-boarding of\\nRole with RWE contract: Based at Trigonos,\\nthis role will work closely with both RWE and\\nour account team. They will also be required to\\nnetwork with RWE people at all other buildings.\\nThey will be aligned to our performance\\nmanagement approach through our Dynamic\\nGovernance model and will support the\\ncontinuous improvement approach through\\nanalysing new initiatives being trialled and how\\n Negotiating contract terms and conditions\\n Managing supplier and RWE invoicing and\\n Responsibility for the management and\\n Working with the account team to set the\\nannual operating budgets, undertaking\\nvariance analysis and corrective action plans\\nJob Description: Appointed lead on\\nproject specification scoping exercises\\nfocusing on self-delivered, end-toend project services risk management\\nservices and leading project finance\\n& budgets, working directly with the\\nFinance & Commercial Manager and\\nThey will also provide specialist services\\nfor large scale projects to include\\nconsultancy, design, construction,\\n Specification Writing and design\\ncompliance with client specifications\\n Liaising with building physicists and\\n Electrical Design calculations\\nRole with RWE contract: We see this\\nrole as being an instigator, developing\\nrelationships across all your buildings in\\nscope, and those we don\\'t currently look\\nafter. That\\'s why we see this as being\\nNational, whilst based with our Swindon\\naccount team Hub, they will visit all\\nsites across the week, and naturally\\nspend more time where it is needed on a\\n Concept design/feasibility planning\\nthrough all stages of design and\\nconstruction to commissioning and\\nJob Description: To operate the onsite\\nHelpdesk, based at Trigonos and\\nundertake administrative tasks to\\nenable organised and efficient delivery\\nTo manage the service provision in\\na proactive, SMART way to provide\\nquality control at the point of delivery.\\nThis will include our approach to\\nDynamic Scheduling of planned and\\nreactive tasks and stock control of\\nTo allocate reactive requests to the\\ncustomer delivery team, tracking\\nto closure. To ensure appropriate\\nTo log all help desk requests received\\nonto the Maximo system, from RWE,\\nwhere received by telephone or email.\\nTo be primary owner / liaison for\\ncommercial activities with Head Office\\ncommercial and Financial departments.\\nRead daily duty manager reports\\nand action as necessary. Close out\\ncompleted tasks and send to history on\\nMaximo. Deal with customer queries\\nproviding updates to call progress.\\nLiaise with in-house and external\\ncontractors regarding works to be\\ncarried out both in person and over\\nArrange external contractors and\\nspecialists to attend site when required\\nproviding Security with vehicle and\\nOwnership of CAFM including provision\\nFile all completed orders attaching\\nArrange calls outs and corresponding\\nrequisition/orders amending value\\nProvide email details of call out\\'s to\\nLiaise with customer staff in all\\nrespects of facilities functions giving\\nsupport and advice as required Raise,\\ntrack and chase payment of Client\\nDeliver quality accurate monthly\\ninformation to monitor the commercial\\nstatus and forecasted spend of the\\ncontract for both internal and client\\nSet-up and maintain Cost Tracker\\nLiaising with our finance dept to ensure\\nChase suppliers for invoices and credit\\nnotes as required  Follow up with our\\ninternal finance departments where\\nsuppliers have outstanding payments\\nMaintain commercial contract data\\nManagement. Raise invoices in the\\nformat specified in a timely manner.\\n\\x0cTo assist with the control of all financial and commercial\\naspects of the contracts in conjunction with Operations\\nAssist Management in the preparation of budgets and ongoing forecasting.\\nTo assist Operations Management in the preparation and\\ncollation of their internal monthly reporting. Build healthy\\nrelationships with the RWE team in order to build and\\nmaintain clear understanding of requirements.\\nTo undertake general office duties relating to the\\n- Updating of electronic records\\n- To attend site on a regular basis when necessary as\\n- Attending meetings to resolve problems\\n- Production of short-range plan information\\nRole with RWE contract: Dynamic scheduling, proactive and\\nreactive helpdesk approach and administrative support.\\nAll other sites in scope will be fully supported by the account team\\nbased at Trigonos. Our approach will see a senior member of the\\nAccount team visit each site each week, to increase visibility and forge\\nstrong relationships with the local RWE FM teams and people working\\nat your buildings. We will ensure the Projects Manager visits each site a\\nminimum of weekly, supported by further visits by additional members\\nof our account team, led by our Account Manager.\\nAll financial data is to be conducted in reference to us at\\nIndirect account management roles\\nJob Description: Arty has a broad reach across\\nengineering and operational delivery and\\nhas a deft touch to link up both  delivering\\nKPIs whilst ensuring operational excellence.\\nExcellence within the Built Environment is\\nonly achievable with sound partnerships and\\nArty has demonstrated an ability to coalesce\\ndisparate groups to achieve the desired\\nJob Description: Nigel is responsible\\nstrategy and operation, corporate\\nsecurity compliance, security risk\\nmanagement and security project\\nRole with RWE contract: Arty will ensure your\\nassets will receive the support they need, in\\norder to keep your buildings up and running\\nand so that they prolong their life expectancy,\\nto provide you with value for money. Arty\\nwill be a focal point of the hard services\\ndelivery, discussing alternative and innovative\\nmaintenance strategies, and will keep a daily\\neye on the performance of our engineering\\nservices. He will work very closely with John\\nRobins, who heads up our Procurement team,\\nto ensure the carefully selected supply chain\\npartners also keep up their commitment to\\nproviding assurance of service delivery.\\n% time of contract: Proactive and on demand\\nRole with RWE contract: Nigel will\\nto oversee the development of all\\nsoft services, paying particular\\nsecurity services and how he can\\nuse his skills to develop the teams,\\ndirection for tactical solutions is fully\\n% time of contract: Proactive and\\ncommercial direction to the Facilities\\nManagement, Projects / Life Cycle\\ncovering all operational expenditure.\\nThe Commercial team administers\\ncontracts and manages the impact of\\nnew requirements, capital projects and\\nThe Commercial team is responsible for\\n Our FM\\'s operational budget is\\nmonitored and forecast effectively\\nacceptable terms and conditions\\n New business is won on acceptable\\ndelivers the financial results agreed\\nRole with RWE contract: Leading the\\ncontract negotiations, Ben is ideally\\nplaced as his role during the tender\\nstage has been to support the solution\\nand design and develop the KPI metrics.\\nIn addition, he will conduct an analysis\\nof what your specification relates to\\nfrom a delivery position and what you\\nwere expecting from site level.\\nBen will continue to support the\\nperspective including the contract\\nThe support Ben will provide the\\nenhance their personal development by\\nmeans of the commercial experience he\\nwill provide as well as ensuring we are\\ndelivering the services in line with the\\n% time of contract: Proactive and on\\nRole: Customer Services Director\\nJob Description: Responsible for the\\nHelpdesk and Account Management\\nGroup, ensuring all client requests are\\nmanaged effectively, efficiently, on\\ntime and in budget. Also responsible\\nfor client feedback through surveys\\nand face to face meetings, adopting\\na `lessons learned\\' approach with the\\nfocus on continuous improvement.\\nCurrently delivering a WorldHost\\nCustomer Services training programme\\nthroughout the national workforce.\\nRole with RWE contract: World Host\\ncustomer service training will be\\nimplemented by Olivia to every one of\\nour people working on your contract.\\nThe dedicated helpdesk function will be\\noverseen by Olivia, including how this\\nis set-up and managed throughout the\\n% time of contract: Proactive and on\\nJob Description: Responsible for the\\ndelivery of all procurement and supply\\nchain functions, ensuring that best\\nvalue is maintained across the supply of\\nall materials and subcontracted tasks,\\nupholding the standards expected\\nby us through a vigorous PQQ and\\nonboarding process with a minimum\\nof a six monthly performance review\\nbenchmarking and ranking audits to\\nprovide assurance of price and quality.\\nJob Description: Managing Group IT,\\nresponsible for all aspects of strategic\\ninfrastructure and delivering business\\nJob Description: Responsible for\\nproviding strategic and technical\\nenvironmental guidance to the senior\\nmanagement team within our business,\\nwhilst leading and developing an\\nindustry leading team to support the\\nbusiness\\' operations. Success will be\\nachieved and exceed expectations\\nthrough individual progress, as well\\nas through a motivated and proactive\\nNational and Regional QSHE team\\nstructure, ensuring that all business\\nstreams and line management work in a\\nsafe and healthy working environment\\nand, through Occupational Health,\\nprovide `Wellbeing\\' initiatives to\\nRole with RWE contract: John will be\\nleading the procurement of all supply\\nchain partners including at tender stage\\nwith identifying which suppliers will\\nprovide the best fit (working together\\nwith RWE to retain any existing supply\\nchain partners), negotiating the tender\\npricing, supporting through negotiations\\nand supporting the implementation and\\non-going management past contract\\ncommencement of 01st December 2020.\\n% time of contract: Proactive and on\\nRole with RWE contract: Bob and his\\nruns through it, such as our Cognos\\nreporting suite. Bob has also developed\\ninnovative solutions such as Chat Bot,\\nan online mechanism by which your\\npeople can engage with us to discuss\\nBob will continue to support the\\ntechnical requirements perspective.\\n% time of contract: Proactive and on\\nDean monitors and reports on our\\ncompliance by managing an enhanced\\naudit system (covering internal,\\nexternal, supplier, sub-contractor and\\nemployee audits), an effective business\\nmanagement system, and a robust\\nmonthly and quarterly QSHE reporting\\nprocess. Participate, as part of the Senior\\nLeadership Team, on Group initiatives\\nand projects to ensure that we progress\\nand meet our corporate objectives.\\n\\x0cDevelopment, communication and implementation\\nof QSHE strategy in accordance with localised RWE\\nrequirements. Dean will also monitor, evaluate and analyse\\nthe performance of the QSHE strategies at each of your\\nbuildings and identify ways to mitigate risk to your business\\nIn addition, he will provide the account management team\\nwith advice and support on all QSHE issues to ensure\\nstatutory compliance and to promote best practice.\\nDean will also oversee the development and management\\nof the compliance audit process to provide the contract\\nwith an accurate and timely assessment of capability and\\ndelivery. He also reviews and updates our Maximo CAFM\\nsystem and internal intranet systems that the account\\nmanagement team utilise for their QSHE needs.\\nHe will also oversee the development of training and\\nawareness programmes for all people working on the\\nRWE contract on QSHE related initiatives and projects.\\nThis also encompasses how we support the investigation\\nand reporting of incidents, abnormal events and nonconformances whilst providing recommendations for\\ncorrective sand preventative actions.\\nDean will assist localised support regarding setting up initial\\n% time of contract: Proactive and on demand\\nRole: People & Organisational Development Director\\nJob Description: Responsible for development of people\\nthrough recruitment, learning and development, supportive\\ncareer progression as well as apprenticeship management.\\nRole with RWE contract: Jill will lead the initial induction\\nand onboarding of everyone transferring to us. She will\\nbe understanding how each team member operates, what\\nthey are good at and what areas we may want to support\\ndevelopment on. This is an important aspect, as we know\\nyou told us you think you have a great bunch of people\\nalready working on the contract.\\nAll learning and development requirements will be identified\\nby Jill, with a bespoke training programme designed and\\nimplemented in full collaboration with the Account Manager.\\nWe also think it is important that we recognise the hard\\nwork the team undertake. That\\'s why Jill will also look to roll\\nout a bespoke People Programme that we discussed with\\nyou at the Collaboration Session 2. Great initiatives like how\\nwe manage the performance of individuals through reviews\\nand management through to appraisals or how we manage\\ncareer opportunities and succession planning.\\nWe will work with you together, to create a bespoke platform\\nand Jill is looking forward to doing this if we get the green\\n% time of contract: Proactive and on demand\\nRole with RWE contract: Liaise with our Executive\\nManagement Team on QSHE Policy formulation and matrix\\nof responsibility during the mobilisation stage.\\nThe Bidder is to include an organisation chart\\nshowing clearly the structure for delivery of\\nthe Services including self-performed and subcontracted services.\\n The Bidder is to provide details of the\\nresponsibilities for any key roles (see 6.4 above)\\n The Bidder is to include detailed labour profiles for\\nThe Bidder is to describe how its Services Personnel\\nand any sub-contracted Services Personnel are\\nmotivated to deliver customer satisfaction and\\nare committed to collaborate to the dynamic and\\nproblem-solving working environment. Please provide\\nan example from an existing contract.\\nThe Bidder is to describe the training and\\ndevelopment programmes that would be provided\\nto its personnel and any sub-contractor personnel\\ndelivering the Services. Please provide an example\\n\\x0cWe know how important it is getting the resources\\nand levels of competence right to ensure we deliver\\na consistent standard for every service at each site.\\nThat\\'s why we have studied the information included\\nwithin your documentation to support us in shaping\\nThe videos you released in late April were a great idea\\nand have helped us to do so. That said, we see this\\nprocess as one of working with you, where together\\nwe workshop our proposals and develop them\\nalongside you to ensure we get the best outcome for\\nyou, your buildings and your people.\\nDetailing the responsibilities of all key roles so\\nyou know exactly what each person is going to\\nWe have detailed all key roles within our response to\\nQ6.5  Contract Management, and for brevity haven\\'t\\nreplicated this here. Our approach in answering your\\nquestions concerning resource is to detail the solution\\nfor the day to day operatives, at all levels on a site basis.\\nWe are pleased to cover this next for you.\\nOur detailed labour profiles give you assurance\\nwe have the right number of people to deliver\\nthe services to you, whilst our outline job\\ndescriptions show you we know what levels of\\ncompetency we need to carry out our duties\\nWe have detailed labour profiles below for each\\ndiscipline provided to you. We also provide detail of\\nthese roles within our response to Q6.2  Detailed\\nOur labour profiles commence with a description of\\nthe job summary and are concluded with principle\\nGetting the right amount of resource with the\\nright competencies will enable us to deliver\\neverything you want from this contract\\n Ensure all staff have a safe working environment\\nand comply with the Health & Safety plan\\n To provide an area level interface between\\nSalisbury Engineering & Compliance and RWE\\n To directly supervise the engineering team at each\\nsite, that will deliver across the range of service in a\\ncoordinated, supportive and effective way\\n Manage an effective and efficient service position\\nthat delivers contract compliance across various\\n Deliver technical PPM and reactive maintenance on\\nyour own responsible buildings, whilst ensuring the\\nrest of your team are delivering theirs across the\\n Advise, train and supervise your engineering team,\\nensuring any given KPI\\'s are met, utilising the\\nCompany procedures and disciplinary processes\\n Ensure engineering and personal standards are\\n Provide effective communication and support to\\nthe wider Engineering and Compliance Business\\n Working with the account team to ensure efficient,\\ncost effective solutions are achieved across all\\n Manage effective recruitment processes at team\\nlevel to ensure minimum staff turnover and that\\nskills within the team allow for the self-delivery\\nPrinciple Duties and Responsibilities\\nQualifications, certifications & training\\n Ensure Group Health & Safety Policy is embedded\\nin day to day area operations and bad behaviours\\n NVQ Level 3 in given trades - Essential\\n Conduct and record toolbox talks with engineers\\n Identify team training requirements and arrange to\\nimplementation with support from L&D team\\n Training must be relevant and business or Health &\\n Fully time served apprenticeship in given trades \\n ILM 2 Award in Leadership and Management \\n IPAF & PASMA (site dependant)  Desirable\\n Relevant IOSH/NEBOSH Qualification  Essential\\nPart of the engineering team, efficient\\ndelivery of the PPM and reactive\\nmaintenance function to deliver on\\nOur multi-skilled engineers will be\\ncompetent and qualified to deliver\\nhigh quality maintenance and reactive\\nrepairs across multiple disciplines.\\nMulti-skilled in terms of being qualified\\nwithin a specific trade and highly\\ncompetent in delivering other trades\\ncommonly found and required within\\nPrinciple Duties and Responsibilities\\n Ensure the highest standards and\\nour competencies are delivered and\\n eliver Portfolio M&E PPM and minor\\nteam are `kept in the loop\\' through\\n Contribute to the delivery of a quality\\nservice, aiming for 100% customer\\n rovide technical support, advice\\n nsure best value for money to RWE\\nby checking resource and materials\\nare suitable to effectively deliver the\\n nsure safe delivery of all Salisbury\\nworks, including those of our service\\nmaterials required for any minor\\nsupporting the Projects Manager\\nand Finance & Commercial Manager\\n iaise with the entire account team\\nand our supply chain partners to\\ndeliver work to the highest standard\\n Build and foster relationships with\\n nsure Maximo system is constantly\\nupdated via your issued tablet and\\nthat all time is accounted for on the\\ndelivering exceptional service to\\n over all call out responsibilities out\\nQualifications, certifications &\\n VQ Level 3 in an M&E discipline\\n(gas, electrical, AC, plumbing,\\ndisciplines (gas, electrical, AC,\\nplumbing, carpentry)  Desirable\\n IOSH Working Safely - Desirable.\\nTerry, Salisbury electrical engineer\\nPart of the RWE engineering team,\\nefficient delivery of the PPM and\\nreactive maintenance function to\\ndeliver on statutory and contract SLA\\'s.\\nPrinciple Duties and Responsibilities\\n Ensure the highest standards and\\nSalisbury competencies are delivered\\n Deliver Portfolio Fabric PPM and\\nteam are `kept in the loop\\' through\\n Contribute to the delivery of a quality\\nservice, aiming for 100% customer\\n Provide technical support, advice\\n Ensure best value for money to RWE\\nby ensuring accuracy within the\\naccount team by checking resource\\neffectively deliver the service\\n Report on performance to the Lead\\n Ensure safe delivery of all our\\nworks, including those of our service\\nmaterials required for any minor\\n Liaise with our account team and\\nsupply chain partners deliver work to\\nthe highest standard within SLAs\\n Build and foster relationships with\\n Ensure Maximo system is constantly\\nupdated via your issued tablet and\\nthat all time is accounted for on the\\ndelivering exceptional service to RWE\\n Cover all call out responsibilities out\\nQualifications, certifications &\\n Qualified Fabric Engineer in given\\n Fully time served apprenticeship in\\nEffective delivery of workplace support services to\\nthe standards expected, ensuring that all work is\\ncarried out safely and in accordance with the FM\\nSpecification and other documented procedures.\\nPrinciple Duties and Responsibilities\\nDeliver a wide range of workplace support services\\nand maintain the highest standard of delivery by the\\nteam, services to including (but not limited to):\\n Postal duties and porterage (collection,\\ndistribution, delivery all types of item, 2 daily mail\\nrounds, pallet movement organised)\\n Secure service for outbound recorded/tracked with\\ndelivery/signature confirmed to originator\\n X-ray scanning with stringent suspect package\\n Franking machine management, including fix/\\n Reprographic service including printing and\\n Library management and support\\n Multi-functional Device (MFD) Management\\n Management of confidential waste\\n Agile workstation management and support\\n Delivery and installation of consumables\\n Space and hot-desk management, minor moves\\n Updating information on notice boards\\n Room management; preparation, daily checks\\nof meetings rooms and break out areas, setting\\nfurniture, cleaning and repairing and replenishing\\nof white boards, setting & checking phone/AV/IT\\n Servicing of executive offices\\n Other workplace support services required by the\\n Maintain the highest professional standards,\\nensuring focus on a quality approach towards\\nRWE. Manage time effectively, co-operate with all\\nrequests for service and carry out all reasonable\\n Lead the team meeting their expectations and\\ndemonstrating fairness, equality and consistency\\nalways. Ensure all contractual and personnel\\ntraining and development needs are addressed,\\nstaff comply with site rules, and project a\\nprofessional image always particularly the\\nwearing of our co-branded workplace uniform and\\n Ensure site-based inductions and toolbox talks\\nare completed for all new and transferred in staff.\\nStaff are to receive toolbox talks on a regular basis\\nto maintain knowledge and skills. Work to increase\\nthe level of cross skilling between Workplace\\nSupport roles to ensure maximum resilience and\\nbroaden development opportunities amongst team\\n Maintain the highest professional standards,\\nensuring focus on a quality approach towards\\nRWE. Manage time effectively, co-operate with all\\nrequests for service and carry out all reasonable\\nClient and Customer Relationships\\n Working in the best interests of RWE and building\\nusers always. Forming positive relationships based\\nupon trust, openness and honesty\\n Promote a professional, corporate and positive\\nimage, be helpful and courteous always.\\n Operate within agreed operational and/or\\n Working within the limits of our Corporate\\n Freedom to escalate any H&S issues to us level in\\nthe event of serious concerns and to liaise with our\\nWorking as a dedicated Receptionist, the requirement\\nis to handle visitor and client facing duties which\\nincludes welcoming and greeting guests to the\\nbuilding. Working alongside security to ensure\\neveryone attending the building should be. Responsible\\nfor the overall visitor management process, which\\nincludes using the RWE system to correctly book\\nvisitors in, provide visitors badges and ensuring\\nhosts are appropriately notified and collect their\\nvisitors in a timely way using escalation process\\nas required. Ensuring that visitors are comfortable\\nand appropriately looked while waiting, providing\\nconcierge services as required. We want guests to\\nfind a friendly, smiling face and a helping hand at\\nall times. Working in accordance with documented\\nWorkplace Standards Manual and agreed reception\\n Greet and welcome guests as soon as they arrive at\\n You will be acting as brand custodian for RWE and\\nensure the standards set out in the Workplace\\nStandards Manual are effectively delivered and\\nmaintained. This includes the highest standards of\\npersonal and professional presentation\\n Book in guests and offer concierge services\\n Direct guests to seating areas and provide\\n Direct visitors to the appropriate host\\n Monitor visitor access and maintain security\\n After agreed interval, follow up with host and notify\\n After agreed interval, ensure Workplace Team are\\nnotified a guest has not been collected\\n Ensure reception area is tidy and presentable, with\\nall necessary stationery and material (e.g. pens,\\n Provide basic and accurate information\\n Maintain security by following safety procedures\\nand controlling access via the reception desk\\n(monitor logbook, issue visitor badges)\\n Manage front office supplies and consumables\\n Arrange travel and accommodations, and prepare\\n Perform other clerical receptionist administrative\\n Answer reception telephone take and relay\\n You should always display a pleasant personality\\nas this is also a customer service role. You will\\nbe trained to WorldHost standards on an ongoing basis. You should also be able to deal with\\nemergencies in a timely and effective manner, while\\nliaising with Security Team as appropriate.\\n Maintain the highest professional standards,\\nensuring focus on a quality approach towards\\nRWE. Manage time effectively, co-operate with all\\nrequests for service and carry out all reasonable\\nClient and Customer Relationships\\n Working in the best interests of RWE and always.\\nForming positive relationships based upon trust,\\n Promote a professional, corporate and positive\\nimage, be helpful and courteous always.\\nPrinciple Duties and Responsibilities\\nAs Switchboard Operator you are responsible\\nfor operating the telephone switchboards at\\nRWE. You receive incoming calls from outside\\nthe company and answer them promptly and\\nin a professional, friendly and polite manner.\\nSwitchboard operators answer incoming\\ncalls and direct them to the right person\\nor department in order to relay interoffice,\\noutgoing or incoming calls as may be required.\\nWhen answering the telephone, switchboard\\noperators must quickly evaluate and identify\\nthe nature of the call, provide any requested\\ninformation and direct the call to the\\nrequested person or appropriate department.\\nIf it is not immediately clear who the call\\nshould be forwarded to, an operator should\\nask the caller for further information in order\\nto establish the most appropriate recipient of\\nthe call. For example, if a customer is enquiring\\nabout a service or issue, the operator will\\ndecide whether to transfer the call to the\\nCustomer Service department or another\\nIf it is not possible, for whatever reason, to\\ntransfer a call (e.g. the requested person is absent\\nor not available), you may take down a brief\\nmessage - e.g. noting the caller\\'s name, surname\\nand telephone number and the reason they are\\ncalling - and pass this information on to the\\nappropriate department or person.\\nYou will typically be the first person a caller will\\nspeak with, so you have a key responsibility\\nto provide callers with a great and productive\\nexperience of RWE and its brand. You should\\nbe capable of communicating information\\neffectively about the business and correctly\\nfollowing all agreed procedures and policies\\nfor call handling, including filtering suspicious\\nOther key tasks of a switchboard operator\\ninclude keeping a system log of calls received\\nand made during the day and updating the\\ncompany\\'s internal telephone directory to\\nensure it contains the correct numbers for the\\nvarious departments and employees.\\nOur switchboard operators should have\\na basic understanding of troubleshooting\\ntelecommunication systems. In the event\\nsomething breaks down, the operator must be\\nable to perform basic maintenance to attempt\\nto get it back up and running in liaison with IT\\nhelpdesk support procedures provided.\\n Using the correct and agreed scripts for\\nYou will be acting as brand custodian for\\nRWE and ensure the standards set out in the\\nWorkplace Standards Manual are effectively\\ndelivered and maintained. This includes the\\nhighest standards of professionalism at all\\ntimes. Calls should be answered with a smile.\\n Operating switchboards and answering and\\nforwarding incoming telephone calls\\n Answer all incoming calls within agreed\\ntimescales, provide pertinent information\\nto the caller and transfer the call to the\\nappropriate source if requested\\n Ensuring callers are not placed on hold\\nlonger than policy. Ensure callers are keep\\ninformed and updated while on hold\\n Announcing calls to the recipient prior to\\ntransfer and dealing with any declined calls\\nas set out in the policy documents\\n Taking down and passing on messages\\nwhere necessary. Relay voicemails and\\nother messages to the proper location\\n Perform various administrative\\n Updating the company\\'s internal telephone\\n Working with front desk personnel as may\\nYou should always display a pleasant\\npersonality as this is also a customer\\nservice role. You will be trained to WorldHost\\nstandards on an on-going basis. You\\nshould also be able to deal quickly with\\nany emergencies in a timely and effective\\nmanner, while liaising with Security Team as\\nMaintain the highest professional standards,\\nensuring focus on a quality approach. Manage\\ntime effectively, co-operate with all requests\\nfor service and carry out all reasonable\\nClient and Customer Relationships\\n Working in the best interests of RWE and\\nalways. Forming positive relationships\\nbased upon trust, openness and honesty\\n Promote a professional, corporate and\\npositive image, be helpful and courteous\\nPrinciple Duties and Responsibilities\\nEffective delivery and supervision of\\nsite-based cleaning operations to the\\nstandards expected by us and RWE,\\nensuring that all work is carried out\\nsafely and in accordance with the Site\\n Mopping of all hard floor surfaces\\nPrinciple Duties and Responsibilities\\nMaintain a high standard of cleanliness\\nin all areas of site including (but not\\n Dusting/cleaning of all office\\n Dusting/cleaning of all reception\\n Cleaning of the office kitchen area\\n The washing of all crockery and\\nutensils including the filling and\\n Spot cleaning of any stains on the\\n Ensuring that the cleaning cupboard\\n Ensure all members of the onsite cleaning team work safely in\\naccordance with QSHE guidelines\\n Ensure all members of the on-site\\ncleaning team carry out their tasks in\\naccordance with their daily job cards\\ninforming contract Admin of any\\nproducts/equipment that requires\\nreplenishing/replacing via Maximo\\n Inform FM  Soft Services of any\\n Ensure that all work is carried safely\\n Observe all RWE, building specific\\n Accompany account team and RWE\\non Monthly Cleaning Audits to ensure\\n\\x0cClient and Customer Relationships\\nfairness, equality and consistency\\ndevelopment needs are addressed,\\nstaff comply with site rules, and\\nproject a professional image always\\nparticularly the wearing of our cobranded workplace uniform and\\nengagement with RWE building users\\n Working in the best interests of RWE\\nand building users always. Forming\\npositive relationships based upon\\n Maintain the highest professional\\nco-operate with all requests for\\nservice and carry out all reasonable\\n Ensure site-based inductions and\\ntoolbox talks are completed for all\\nnew and transferred in staff. Staff\\nare to receive toolbox talks on a\\nregular basis to maintain knowledge\\n Promote a professional, corporate\\nand positive image, be helpful and\\n Operate within agreed operational\\n Working within the limits of our\\n Freedom to escalate any H&S issues\\nto us level in the event of serious\\nconcerns and to liaise with our QSHE\\nEffective delivery of site-based cleaning operations to the standards\\nexpected by us and RWE, ensuring that all work is carried out safely\\nand in accordance with the Site Cleaning Manuals.\\nPrinciple Duties and Responsibilities\\nMaintain a high standard of cleanliness in all areas of site including\\n Dusting/cleaning of all office surfaces\\n Dusting/cleaning of all reception areas and meeting rooms\\n Cleaning of the office kitchen area\\n Mopping of all hard floor surfaces\\n The washing of all crockery and utensils including the filling and\\n Spot cleaning of any stains on the carpet\\n Ensuring that the cleaning cupboard remains clean and tidy\\n Handle substances in accordance with QSHE guidelines and\\n Monitor stock of products and condition of equipment informing\\nour FM Soft Services of any products/equipment that requires\\n Inform your Line Manager/Supervisor of any defects noticed on site.\\n Conduct work safely in accordance with Company and\\n Observe all RWE and company statutory fire and health and\\n Maintain the highest professional standards, ensuring focus on\\na quality approach towards RWE. Manage time effectively, cooperate with all requests for service and carry out all reasonable\\nClient and Customer Relationships\\n Working in the best interests of RWE and always. Forming\\npositive relationships based upon trust, openness and honesty\\n Promote a professional, corporate and positive image, be helpful\\n Operate within agreed operational and/or management\\n Working within the limits of our Corporate Governance\\n Freedom to escalate any H&S issues to us in the event of serious\\nconcerns and to liaise with our QSHE Director.\\nEffective delivery of Housekeeping service\\nto the standards expected by us and\\nRWE, ensuring that all work is carried\\nout safely and in accordance with Site\\nHousekeeping and Cleaning Manuals.\\nPrinciple Duties and Responsibilities\\nMaintain a high standard of tidiness and\\ncleanliness of all areas including kitchens,\\nbreakout areas, toilets and meeting\\nrooms including (but not limited to):\\n The washing of all crockery and\\nutensils including the filling and\\n Replenishment of consumables (soap,\\n Maintain level of cleanliness in these\\nareas by conducting regular spot\\n Collection of glasses/cups from\\nmeeting rooms that are no longer in\\n Tidying meeting rooms in preparation\\n Disposal of any rubbish found around\\n Spot cleaning of any stains on the\\n Ensuring that the cleaning cupboard\\n Reactive cleaning to spillages\\n Setting up of conference and meeting\\nrooms, ensuring enough stationery/flip\\ncharts as per meeting requirements,\\nreplenishing cups, glasses, water, and\\n Handle substances in accordance with\\nQSHE guidelines and COSHH policy.\\ncondition of equipment informing Line\\nManager/Supervisor of any products/\\nequipment that requires replenishing/\\n Report any defects noticed on site to\\n Conduct work safely in accordance\\nwith Company and Client policy.\\n Observe all Client and company\\nstatutory fire and health and safety\\n Respond to reasonable customer\\nrequirements as soon as possible,\\nreporting unreasonable requests to\\n Maintain the highest professional\\nstandards, ensuring focus on a quality\\napproach towards RWE. Manage time\\neffectively, co-operate with all requests\\nfor service and carry out all reasonable\\nClient and Customer Relationships\\n Working in the best interests of RWE\\nalways. Forming positive relationships\\n Promote a professional, corporate\\nand positive image, be helpful and\\n Operate within agreed operational\\n Working within the limits of the\\nSalisbury Corporate Governance.\\n Freedom to escalate any H&S issues to\\nus in the event of serious concerns and\\nto liaise with our QSHE Director.\\nEffective supervision of site-based\\nsecurity operations acting in the best\\ninterests of RWE and customers always.\\nEnsure all contracted hours are fulfilled\\nby accredited and competent security\\nofficers, emergency procedures are\\nrobust, and service levels, particularly\\nfront of house reception services meet\\nPrinciple Duties and Responsibilities\\nenvironments protecting people,\\nregular risk reviews of site to identify\\nthreat and vulnerability taking\\nappropriate action to mitigate risk.\\nDrive a positive security culture to\\nensure staff always remain focused\\nparticularly access control procedures\\n Ensure site-based staff are competent\\nto carry out their duties effectively,\\nconstantly monitor that standards\\nare maintained and improved. Drive\\na positive safety culture ensuring all\\nactivities meet company and client\\n Ensure staff conduct their duties in\\naccordance with the Site Assignment\\nInstructions and Standard Operating\\n Ensure that emergency procedures\\nare effective robust, tried and tested.\\nProvide regular refresher training\\nand drills to maintain individual skills,\\n Supervise site staff to ensure a\\nproportionate balance between service\\n Carry out daily audit of keys and key\\nClient and Customer Relationships\\nfairness, equality and consistency\\ndevelopment needs are addressed,\\nstaff comply with site rules, and\\nproject a professional image always\\nparticularly the wearing of uniform\\n Record Key Performance Information\\n(KPI) and address non-conformance\\nas a matter of urgency. Protect all\\n`protectively marked material\\' or\\nsensitive information in accordance\\nwith Salisbury and RWE policies\\n Working in the best interests of the\\nRWE at all times. Forming relationships\\nbased upon trust, openness, and\\n Ensure site-based inductions and\\ntoolbox talks are completed for all\\nnew and transferred in staff. Staff\\nare to receive toolbox talks on a\\nregular basis to maintain knowledge\\n Maintain discipline and manage\\n Regularly review the development\\nneeds of all staff and identify\\nsuccession. Ensure annual staff\\nmeaningful with achievable objectives.\\nincident reports, patrol monitoring\\nreports & other available information\\nto measure performance and ensure\\nthe effective use of resources to\\ndeliver security and other related\\n Maintain the highest professional\\nstandards, ensuring focus on a total\\nquality approach towards Clients,\\ncustomers and colleagues. Manage\\ntime effectively, co-operate with all\\nrequests for service and carry out all\\n Represent security at RWE meetings\\nas required by the account team.\\nPresent statistical information\\nrequired. Ensure regular engagement\\nwith the Site Facilities Manager and\\nLine Manager on all matters affecting\\n Operate within agreed operational\\n Working within the limits of our\\n Freedom to organise, direct and\\nprioritise a team of staff and appointed\\nconsultants where applicable to deliver\\n Freedom to operate and further\\ndelegate within the confines of our\\ncorporate governance and financial\\n Freedom to prohibit work within our\\nresponsibility that poses an imminent\\ndanger to staff or other persons/\\n Freedom to escalate any H&S issues to\\nus in the event of serious concerns and\\nto liaise with our QSHE Director.\\nEffective delivery of site-based security operations\\nacting in the best interests of our clients and\\ncustomers always, ensuring that all work is carried\\nout safely and in accordance with the assignment\\ninstructions, to the standards agreed with RWE.\\nPrinciple Duties and Responsibilities\\nOperations  Maintaining quality of service to Clients\\n Maintain safe and secure environments protecting\\npeople, property and assets. Identify threat and\\nvulnerability, taking appropriate action to mitigate risk\\n Ensure effective control of access/egress\\nprocedures including the robust checking of passes\\nand on-site parking permits. Book in and issue\\npasses to visitors and contractors, ensuring local\\nprocedures are complied with and, fire registers\\nand notifications to hosts and sponsors\\n Always promote a positive security culture\\n Maintain Daily Occurrence Book (DOB) and\\nensure Incidents are promptly reported to Control\\nand Supervision. Ensure Incident Reports are\\nsubmitted as soon as practicable including detailed\\n Report all customer complaints to supervision as\\n Observe all Client and company statutory fire and\\nhealth and safety regulations. Promote a positive\\n Ensure person and vehicle searches are conducted\\nin accordance with Assignment Instructions (AI\\'s)\\nand Standard Operating Procedures (SOP\\'s). Ensure\\nthe dignity of the individual is respected\\n Conduct all duties in accordance with AI\\'s and\\nSOP\\'s, and all relevant company policies and\\n Ensure all significant occurrences are recorded in\\nthe DOB including time on/off duty. Information\\nmust be accurate, concise and legible\\n Protect all `protectively marked material\\' or\\nsensitive information in accordance with our and\\n Carry out daily audit of key registers and keys\\n\\x0c Maintain the highest professional standards,\\nensuring focus on a quality approach towards RWE\\nand colleagues. Manage your time effectively, cooperate with all requests for service and carry out\\nall reasonable management requests.\\nClient and Customer Relationships\\n Working in the best interests of RWE always.\\nForming positive relationships based upon trust,\\n Promote a professional, corporate and positive\\nimage, be helpful and courteous always.\\n Operate within agreed operational and/or\\n Working within the limits of our Corporate\\n Freedom to escalate any H&S issues to us in the\\nevent of serious concerns and to liaise with our\\nThe Bidder is to describe how its Services\\nPersonnel and any sub-contracted\\nServices Personnel are motivated\\nto deliver customer satisfaction and\\nare committed to collaborate to the\\ndynamic and problem-solving working\\nenvironment. Please provide an example\\nWe are proposing to introduce our WorldHost\\nCustomer Experience model alongside our People\\nProgramme. Both these initiatives are designed to\\ndrive up customer satisfaction and capture feedback\\nIn 2016 we took over the supply of TFM services to the\\nPage Group, who operate premium offices across the\\nUK. Before we took over the contract, the perception\\nof the services was poor and staff engagement and\\nmorale was low, there was high absenteeism and\\nThrough 2016 and 2017 we introduced WorldHost for\\nall team members and a put in a measured People\\nProgramme, all designed to make measureable\\nimprovements over time which included a significant\\nBy 2018 the team members were winning Salisbury\\nSalisbury Group in mid2017 they have been a\\noffer an effective and collaborative partnership\\napproach to FM services. They have brought\\nforward a number of innovative ideas and\\nconstantly look at their offering to ensure it\\naligns with my aspirations and strategy.\\nWhen taking over the contract there was a\\nsignificant amount of non-compliance and\\nSalisbury worked quickly to drive this up to\\nacceptable levels - we now sustain around 98%\\ncompliance. The improvements made to the\\ncleaning regime have been gradual throughout\\nthe contract term, and we have seen a significant\\ndelivering the Services. Please\\nIndeed, the feedback from the operatives who\\nmoved across to them was very positive. I have\\nseen benefits since Salisbury rolled out their\\npeople development programme, such as the\\nimplementation of WorldHost improving the skills\\nof our teams and making a real positive impact to\\nSalisbury work with us in partnership to\\nproactively adapt the service and systems to\\nalign with our business to achieve customer\\nsatisfaction and enhanced service delivery whilst\\nproviding cost efficiencies. Account meetings\\nare thorough and transparent, and issues are\\nnormally addressed swiftly and fully.\"\\nI am grateful to the team at Salisbury Group and\\nI hope we can continue our partnership for many\\nWe will deliver our training and development modules\\nfrom the outset of the contract during the induction\\nprocess, instilling a new improved service culture\\nwithin the team. We have a comprehensive in-service\\ntraining programme for all staff. This training covers\\nnot only relevant skills, but also subjects relating to\\nquality and personal development.\\nThe wishes and needs of staff are identified and\\ntraining programmes are tailored accordingly.\\nwas over 84%. Client perception\\npromoted to a national cleaning\\nrole. Two electricians had been\\nThe Bidder shall provide details,\\nwhere appropriate, of all proposed\\nsub-contractors. Details shall include,\\n Summary of why and how the subcontractor will be used in the delivery\\nrelationships with the proposed\\nThe Bidder is to provide details of its\\nsupplier management process to deliver\\nongoing competitiveness, service\\nThe Bidder is to detail any assumptions\\nand caveats in support of the proposed\\ncharging model. Any exclusion to the\\ncharging model shall be clearly stated.\\nThe Bidder is to describe how it will\\noperate the open book commercial\\narrangement providing transparency\\nof all costs including supply chain,\\nincluding details of any tools and\\n\\x0cBy engaging with us, where most services are selfdelivered, and by us only engaging Tier 2 providers,\\nwe ensure compliance with service requirements,\\nrather than exposing you to unnecessary risk of having\\na complex and multi-tiered, supply chain structure.\\nThat\\'s why we have undertaken a thorough review of\\nservices with a view to delivering as many as possible\\nto you directly. Where we propose to engage with\\nsuitable specialist partners, we have suggested in the\\ntables below our top tier supply chain partners, who\\nwe would suggest as suitable, however we welcome\\nthe opportunity to review and revised these with you\\nat a later stage of this tender process.\\nThe selection of supply chain partners for\\nthis contract has the potential to have a\\nunique benefit, in terms of providing you with\\na high quality and value for money service\\nwhich also may help meet some of your CSR\\nobjectives concerning localised partners and\\nWe also note you may wish to retain certain\\nincumbent supply chain partners and that\\'s why\\ntogether, we will work through the solution to this and\\nensure we fully support any existing supplier through\\nour vetting and onboarding process.\\nWe will conduct a supplier day during the first 3\\nmonths of the contract. This will involve all supply\\nchain partners, potential partners and any of\\nyour existing preferred contractors. This will be\\nan engagement session where we set the tone for\\nexpectations, and to understand the buildings and\\ninvestigate alternative ways of delivery. We suggest\\nthis is something you may want to be involved with\\nIn doing so, we will ensure you have continuity of\\nservice with your preferred supply chain, and we get\\nto welcome great new partners to work with.\\nThey provide modern, high-quality refreshment solutions\\nfor a broad range of clients, from big corporations to\\nOperating from their Milton Keynes offices, they deliver\\na rapid response service that is second to none in our\\nTheir personal and flexible approach enables them to\\noffer competitively priced solutions that are tailored to\\nthe specific needs of this contract.\\nBeen used on Salisbury sites, as well as the\\nwider client portfolio for many years.\\nThey are experts in waste management and always\\nensure that they deliver a cost-effective solution with\\nhigh standard balers and waste compactors, alongside\\noutstanding customer service. They provide leading\\ncompactor solutions to clients in hospitality, retail,\\naviation, events and food processing.\\nHave been an approved supply chain partner\\nRentokil have been providing services for over 60 years\\nto properties across the UK. Each staff member\\nunderstands the importance of the quality of their work\\nand holds the knowledge to service your property to the\\nhighest standard through numerous hours of training\\nBrought into the supply chain in the last 6\\nmonths to replace one that was failing and\\nhave had nothing but positive feedback from\\nNational coverage using their nine sites nationwide,\\nmeaning they\\'re on-hand to offer quick response times\\nSelf-deliver all services in house , no subcontractors used.\\nIn the last 15 months they have become our\\nTier 1 cleaning provider through providing an\\nThe safest way is the only way. Their skilled, highly\\nqualified staff work to the strictest standards, and a\\nculture of safety and transparency is built into everything\\nStrong work ethic and ability to deliver a diverse range\\nof services to multiple locations. They are proud of their\\ndynamic, flexible, and eco-conscious approach to work,\\nmaking sure that each and every site receives a bespoke\\nservice as regularly or as infrequently as possible.\\nAn award winning waste management company providing\\nlocal and national waste collection, recycling and disposal\\nservices. With a team of over 200 employees and over 65 A tier 1 preferred subcontractor for Salisbury\\nyears experience, They are dedicated to\\nsupporting you and to meet your needs with\\nenvironmental and operational targets.\\nAs the world leader in information security, Shred-it offer\\nNot previously used at Salisbury but have\\nan integrated suite of services designed to protect your\\nbeen used by the procurement team at\\nprivate information including Paper Shredding, Hard Drive\\nother companies over many years.\\nDestruction, and Workplace Privacy Policies.\\nA tier 1 preferred subcontractor for Salisbury\\nfor the last 15 months, having worked for\\nDepth of knowledge ability to source spares at short\\nAs a manufacturer they are used only when\\ntheir equipment is installed on site but have\\nused by the procurement team at Salisbury\\nand previous companies for 7 years.\\nVast experience with their field of services. They have\\npartnered with a number of manufacturers.\\nA tier 1 preferred subcontractor for Salisbury\\nfor many years and has been used by the\\nprocurement team with previous companies\\nTheir engineers have controls experience and a strong\\nregional presence enables all-year round support. They\\nmanage some of the biggest BEMS installations in the\\ncountry and are continually recognised within the controls\\nA tier 1 preferred subcontractor for Salisbury\\nover the last 15 months and have been used\\nby the procurement team with previous\\nComprehensive reporting systems together with a\\nprofessional team with a wealth of experience.\\nA tier 1 preferred subcontractor for Salisbury\\nover the last 15 months and have been used\\nby the procurement team with previous\\nThey know water. Inside and out. Like the back of their\\nhand. You have to love it to want to make it your life and,\\nfor them, that\\'s exactly what it is. Water is their passion.\\nA tier 1 preferred subcontractor working with\\nWith their extensive knowledge of fire, life safety and\\nsecurity systems, they have tailored the solution to meet\\nThey source, supply and install products from their trusted\\npartners, all of whom have been robustly evaluated.\\nMoving forward they will provide a full customer aftercare\\nservice ranging from traditional maintenance through to\\nensuring full legislative compliance.\\nThe UK\\'s leading provider of lightning protection services\\nand electrical compliance services.\\nThe quality of workmanship they provide, delivered from\\n29 UK centres of operation Group-wide.\\nA tier 1 preferred subcontractor for Salisbury\\nfor the last 15 months, having worked for\\nSalisbury for several years and been used\\nby the procurement team with previous\\nA tier 1 preferred subcontractor for Salisbury\\nfor the last 15 months, having worked for\\nSalisbury for several years and been used\\nby the procurement team with previous\\nOne of the largest independent plumbing and drainage\\nservice providers in the UK. Undertaking planned and\\nemergency work throughout the UK, providing a single\\npoint solution for all drainage and waste water plumbing\\nrequirements. Accredited to work at safety/security\\nA tier 1 preferred subcontractor for Salisbury\\nfor the last 15 months, having worked for\\nSalisbury for several years and been used\\nby the procurement team with previous\\nWith their passion and commitment for quality\\nmaintenance and customer care, they keep pace with\\nthe increasing availability challenges in data centers and\\nother mission-critical applications. Their competitive\\nadvantage relies on an open minded, direct managerial\\nstyle, as well as a lean organizational structure, and quick\\nA tier 1 preferred subcontractor for Salisbury\\nover the last 15 months and have been used\\nby the procurement team with previous\\nVast experience with their field of services. They have\\npartnered with a number of manufacturers.\\nA tier 1 preferred subcontractor for Salisbury\\nfor the last 15 months, having worked for\\nSalisbury for several years and been used\\nby the procurement team with previous\\nThey maintain all HV and LV equipment, including ABB,\\nSchneider and all other manufacturers. They work on\\nAll their staff are fully trained and accredited, both\\ninternally and externally. Their engineers are fully SAP\\ntrained and are competent to switch on any private\\nnetwork with site authorisation.\\nA tier 1 preferred subcontractor for Salisbury\\nfor the last 15 months, having worked for\\nSalisbury for several years and been used\\nby the procurement team with previous\\nNational coverage with on/off-shore maintenance reach\\nRegular Management Inwealth of experience. They have the\\nability to service all types of generator units and systems.\\nInformation (MI) with true maintenance reporting\\nAccurate real-time reporting via the Dale Field Data Capture\\nApp, professionally serviced and maintained in accordance\\nA tier 1 preferred subcontractor for Salisbury\\nover the last 15 months and have been used\\nby the procurement team with previous\\nThey offer a fresh face to the lift industry by providing a\\ntruly customer focussed, value for money service which\\nis successfully based on coupling experience with new\\nA tier 1 preferred subcontractor for Salisbury\\nover the last 15 months and have been used\\nby the procurement team with previous\\nThey offer a wide range of services to help improve the\\nquality of indoor air within your buildings.\\nOriginally came to Salisbury as a client\\nnominated subcontarctor have done\\nEstablished for over 30 years, Omega has built up a\\nreputation for delivering high quality services in the field\\nA tier 1 preferred subcontractor for Salisbury\\nover the last 15 months and have been used\\nby the procurement team with previous\\nDepth of knowledge ability to source spares at short\\nAs a manufacturer they are used only when\\ntheir equipment is installed on site but have\\nused by the procurement team at Salisbury\\nand previous companies for 7 years.\\nSpecialise in the assessment, detection, treatment and\\nprevention of legionella throughout commercial and\\ndomestic water systems. They work with a wide variety of\\norganisations ensuring that all regulations are met and that\\nlegal responsibilities are fulfilled, providing peace of mind.\\nA tier 1 preferred subcontractor for Salisbury\\nover the last 15 months and have been used\\nby the procurement team with previous\\nThe Green Air team are well qualified with expertise in\\noccupational hygiene, M&E engineering, HVAC systems\\nand water hygiene. They produce clear, comprehensive\\nreports, giving you all the information you require, without\\nunnecessary technical detail, to allow you to make\\ninformed decisions. Green Air Monitoring is also one of\\nthe members of the AIRLOG consortium  an EU project to\\nestablish a European platform of indoor air quality. They\\nwork across the UK, in all types of working environments\\nfrom corporate offices, secure environments, hospitals,\\nlaboratories, factories and manufacturing facilities for\\nclients such as DLA Piper, London City Airport, Shell,\\nThomson Reuters and Havering College.\\nNo previous relationship but will ensure that\\nthey pass our PQQ process and sign up to\\nour SLA, Ethical Procurement Policy, GDPR\\nAvon Armour have been allowed for in our tender as\\nrequested by yourselves. Their knowledge has been built\\nup over decades and enables them to specify the products\\nthat best suit your requirements.\\nThey have the ability to fit reliable, quality access systems.\\nThey are also experts in the electric locking that they\\ncontrol, unlike many of their competitors we recognise that\\nthe strength of the locking is vital and this is where their\\nobjective advice counts after many years of experience.\\nNo previous relationship but will ensure that\\nthey pass our PQQ process and sign up to\\nour SLA, Ethical Procurement Policy, GDPR\\n\\x0cAnnie, Salisbury Operations Manager\\n\\x0cWe know that effective delivery with consistent cost and quality control\\nthroughout our supply chain, will enable you to receive long-term asset uptime,\\nand enhance your user experience through buildings that are both safe and clean\\nevery time, whilst providing value for money to you.\\nThe deployment of a world class, pre-vetted supply chain enables us to\\nThere is an opportunity to not only self-deliver most services, apart from a few\\nspecialist items, such as Grounds or Lifts maintenance, but also provide a safe\\nand compliant environment. We will do so through our network of multi-skilled\\nengineers, where we have the experience and proven track record of delivering a\\nhigh-quality service to our current customers. We will utilise our well-established\\nsupply chain partners to deliver services requiring specialist knowledge, skill sets,\\nand where scale permits them to deliver at a more economic level.\\nTo enable us to deliver these promises to you, we need the best support from\\nsuppliers and our approach to selecting a world class supply chain that is prevetted, ready and waiting will benefit you from the outset of the contract.\\nWe are ready to deploy such a specialist supply chain, which has both\\ngeographical strength in depth within the geographies in scope, and specific,\\nmarket-leading capabilities. A supply chain that is adaptable and scalable. We\\nwill integrate this supply chain with industry-leading procedures and processes\\nensuring we provide the appropriate levels of management and support to all our\\nOur approach to supplier management processes will deliver ongoing\\ncompetitiveness, service quality and innovation\\nYou will benefit from our approach to working with a proven\\nThat\\'s why our approach to supply chain selection is focused on\\ngetting you the right supplier aligned to your estate strategy, be that\\nsupporting SMEs, providing value for money, or creating consistency\\nacross all services delivered at every location.\\nWe have listened to you and understand your objectives and drivers\\nto have a best in class supplier across your estate. Our approach is to\\nboth engage and on-board any existing suppliers you wish to retain\\nand use our pre-qualified and vetted supply chain to select the most\\nappropriate supplier of choice in each category. For example, this will\\ncreate a solution for you that provides local expertise supported by our\\nnational capabilities for specialist services.\\nThis means you can be confident in receiving a consistent high-quality\\nservice at every building within your estate.\\nSupporting the generation of a `one team\\' ethos\\nWe will use a supply chain which reflects and embodies your values\\nand vision. We have an extensive vetting procedure for our supply\\nchain partners and have sourced them specifically for both their\\nfit of your locations and building needs and because they have the\\ncapacity and ambition to raise the standard of the estate in line with\\nthe operational requirements of each building.\\nWe take this approach with all our customers, which has enabled\\nus to create relationships with suppliers that will bring benefits\\nboth to us and you. Using a combination of large organisations and\\nSMEs, we also have ready access to both highly skilled specialists\\nable to diagnose and propose value-for-money solutions, and the\\neconomies of scale larger enterprises can deliver.\\nThis means that you can be confident that we will provide a supply\\nchain that will enable us all to create world-class facilities in\\npartnership, achieving the aims of contract objectives and delivering\\na safe and compliant environment, whilst enhancing the life\\n\\x0cWe only work with supply chain partners\\nwhere we understand their key skills and\\ndeliverables and how they align to our\\npartner process that operates on two\\nlevels: an external service provider,\\nPrime, which is well respected and\\ncomprehensive; and a PQQ process\\nfor smaller contractors and for urgent\\nappointments which requires the\\n Services offered, geographical\\ncoverage and subcontracted works\\n Financial strength and compliance\\n Compliance with legislation including\\nDiscrimination Act 1975, Equal Pay\\nAct 1970, Disability Discrimination\\nAct 1995, Equality Act 2006, Modern\\nSlavery Act 2015, environmental\\nregulations and Salisbury policies\\n Quality systems, ISO9001, ISO14001\\nAll supply chain partner returns are\\nreviewed by procurement, commercial,\\nfinance and QSHE personnel, who score\\nthe PQQ results in three outcomes:\\nmore information required, fail or pass.\\nIf the contractor passes the PQQ then\\nour procurement team determines if\\nthe supplier should be at preferred tier\\n1 status or at supplementary partner\\ntier 2. The details are then entered onto\\nour supply chain database, Maximo and\\nour finance systems. The contractor\\nis then provided details of their\\nSalisbury account, invoice address and\\nensure we fully align with agreed\\nAs the contractor with ultimate\\naccountability, we will ensure that all\\nKPIs and SLAs that you issue us under\\nthe contract are reflected in back-toback contracts with all our supply chain\\npartners. This means all stakeholders\\nare invested in the contract to drive\\ngreat performance and compliance\\nconsistently at every building within\\nSelection of the right contractor\\nis crucial for us to supply a highquality service\\nTaking command and control of risk to fully mitigate building level issues\\nIn the graphic below we identify risks and their mitigations. We will enhance this detail with you\\nduring the RFP stage and further into mobilisation, should we be successful.\\n\\x0cand staff vetting procedures to ensure they are robust\\nenough to complement our service.\\nHow we will security clear and onboard our\\nWe regularly review our suppliers\\' suitability with an\\nannual re-evaluation to understand if there have been\\nany changes. Working in partnership, our supply chain\\nis required to proactively inform us of any critical\\nchanges so we can re-assess their suitability.\\nWe know that the security vetting and induction of\\nsupply chain partners in your buildings is important\\nfor your security procedures and the consistency of\\nstandards and we will put in place processes and\\nprocedures to ensure we get this right from the outset\\nWe will do this by introducing a robust onboarding\\nprocess for all suppliers, tailored to your specific\\nneeds. We will use our tried and tested pre-qualifying\\nquestionnaire to ensure that all suppliers are\\nappropriate for the building-specific environments\\nRigorous selection of supply chain partners\\nAs a supplier to the UK Government we require\\nall of our supply partners to meet a stringent\\nvetting process. Our procurement team requires all\\npotential suppliers to pass a pre-qualifying process\\nwhich includes a full business screening and any\\nspecial clearances through clearance agencies as\\nappropriate for the assignment. When vetting a\\nsupplier, we carefully review their security processes\\nSecurity Clearance & induction driving\\nWorking with clearance agencies and our supply\\nchain partners, ensures all suppliers have appropriate\\nclearance for the buildings where they are engaged.\\nWhen vetting a supplier, we will review the security\\nprocesses they use for staff vetting procedures, to ensure\\nthey are robust enough to keep your building secure.\\nOnce engaged, every supplier undergoes a\\nbuilding-specific induction before any works start.\\nOur induction process covers building-specific\\nconsiderations such as health and safety, legal\\ncompliance, building hierarchies, building-specific\\nKPIs and SLAs, security concerns and any other\\nbuilding specific issues. As part of the inductions we\\nalso review suppliers\\' risk assessments and method\\nstatements to ensure they are appropriate for the\\nbuilding before any works begin.\\nOn-site protocols ensuring building safety for\\nOur approach allows you to focus on your\\nWe will not allow any supply chain employee unescorted\\naccess to your building or to perform any task without\\nfirst completing the building induction procedures, and\\nbuilding specific this will be agreed with you during\\nmobilisation stages. Before induction the vendor must\\nalso obtain the appropriate security clearance for\\nthe building where they will work. Even for escorted\\naccess, all supply chain partners will have at least\\ngained baseline clearance. Our induction process will\\ncover building-specific considerations such as health\\nand safety, legal compliance, site hierarchies, buildingspecific KPIs and SLAs, security concerns and any other\\nBy using these processes on your contract, we will\\nensure we have caused zero breaches of security\\nor supplier chain protocol. It also means we have\\nestablished supply chain partners with appropriate\\nsecurity processes already in place and who are\\nexperienced in operating in similar environments.\\nAs part of the inductions we will also review suppliers\\'\\ngeneric risk assessments and method statements\\n(RAMS) to ensure they are appropriate for the building.\\nEvery job will refer to these generic RAMS, with any\\njob-specific RAMS, where required, agreed before any\\nThis means that you will encounter maximum uptime\\nfrom security or non-compliance breaches due to our\\nsupply chain. You can focus all your time on your own\\npriorities, confident that all personnel engaged at your\\nbuilding will have an appropriate site induction and\\n\\x0cOur standardised approach provides you with\\nWe deploy our service SLAs and building rules\\napproach across our entire business. Because we\\nhave standardised our approach our customers\\nhave been able to clearly understand what we\\nare delivering and associated standards, even as\\ncoverage areas change, evolve and grow.\\nDemonstrating how all contractual\\nrequirements will be met by our supply chain\\nWe recognise the potential benefits of standardising\\nour supply chain approach to ensure that contractual\\nrequirements are passed on to all suppliers.\\nThat\\'s why we will roll out our standardised SLAs for\\neach specialist discipline and put in place building\\nrules every supply chain partner is required to follow.\\nThis means your buildings will receive the same high\\n level service, delivered in a manner consistent with\\nlegislative, regulatory and contractual obligations no\\nmatter where they are based across your estate.\\nSetting the standard with SLAs aligned to your contract\\nWe issue each supply chain partner with a service level agreement (SLA) which will be both\\nspecific to their task and designed to achieve the same service levels as all suppliers of\\nthe same discipline within your building. The SLA will ensure standards and contractual\\nrequirements are aligned with those of the main contract.\\nThe main elements of the SLA are:\\nOur quality systems implemented\\nmeasuring and controlling quality to\\nimprove standards on your buildings.\\nThat\\'s why we will roll out our policy of\\ncontinuous feedback, which enables\\nus to act promptly when problems\\narise. This continuous feedback\\napproach will enable you to evolve\\nour service delivery over time so\\nthat your buildings can develop a full\\nasset performance approach with\\ntotal compliance against legislative\\nA proven system that will evolve\\nservices to match your changing\\nWe will ensure quality is measured\\nsupply chain. You require a consistent\\nstandard of work at least in line with\\nyour expectations, and which can be\\ncontinuously improved, reducing the\\namount of work needed in future.\\nWe see an opportunity to implement\\nquality systems ensuring the required\\nlevels of quality from the outset, and\\nopportunity to communicate their\\nthoughts about how services are\\ndelivered, tell us what they like and\\ndon\\'t like, and to gather ideas that\\ncould make your lives easier we will look\\nto introduce simple ways to capture\\nfeedback on the services delivered.\\nWe will offer a questionnaire to all\\nstakeholders and share the results, so\\nit is possible to review the satisfaction\\nwith our supply chain partners.\\nWe can amend its content as necessary\\nyou and will use it to highlight our\\ntop performers and identify where\\nimprovements are needed to achieve\\nour ambition of world-class service\\ndelivery. Items we can cover include:\\nWe will score all our suppliers in relation to the questionnaire and\\nproduce league tables for review and action. Where a supply chain\\npartner is not making the grade, we will agree improvement plans\\nwith them. Where a supplier continues to fail to meet performance\\nstandards, we will replace them with an alternative provider.\\nUsing our industry experience to\\nfeedback on all our contracts that\\nenables us to adapt our delivery\\nmodel specifically to changing local\\nenvironments and changing needs.\\nOn our national Total Facilities\\ngaining feedback has led to service\\nimprovements including; extending\\noperating hours in response to changes\\nin building usage, expanding the scope\\nof the contract for various properties.\\nBy taking advantage of our continuous\\nfeedback system, you will be able\\nto benefit from evolving our service\\ndelivery over time, so that your\\nbuildings can develop as per your\\nThe supply chain we will create for you\\nwill provide a high-quality service and\\nDelivering industry leading service satisfaction\\nThis means that you will benefit from:\\n proven supply chain  in place from\\n 1 00% supply chain compliance  to\\ncontract requirements, industry\\nstandards, CPD, required insurances\\n Data driven approach to continuous\\nThis approach has defined in our\\nindustry leading performance  we have\\nnever lost or failed to renew a contract.\\n\\x0cWe think that having an open book commercial arrangement will support our\\nefforts to create a partnership model with you.\\nThat\\'s why we have detailed in the table below, some metrics we think can support\\nhow this will happen and perhaps more importantly, what it will achieve for you.\\nenhance user experience Data assessed to aid\\ne. Our approach to operating an open book commercial\\narrangement will provide you with transparency of all costs\\nFinancial and nonfinancial data\\nWe recently mobilised our contract\\nwith the University of London where we\\nprovide all services on a full open book\\nbasis. Our approach to the commercial\\ndeep dive was deemed as `outstanding\\'\\nby our customer and we would like to\\nshare this with you as we go through\\nWe will provide all information\\nplanned, reactive and project works\\ndelivered directly by us or with our\\nchosen supply chain partners on an\\nThis is fully automated through our\\nCAFM system, Maximo. Full information\\nwill be visible in real-time with\\nuploaded supply chain invoices held for\\nyou to view within the system. We will\\nalso provide full visibility for auditing\\npurposes for all staff that are directly\\nemployed providing reconciliation\\nwith the rates of pay suggested at\\ntender stage, negotiation stage and\\nthroughout the contract. This will also\\ninclude any RPI rises that are enacted\\nThis means you have clarity for:\\nFull declaration through our paid\\ninvoices for goods and materials\\nAnalysis of time spent on site by us and\\nany supply chain member for all planned,\\nreactive and project works undertaken. Any\\nreactive and project works will be fully\\nreconciled against either quoted works or rate\\ncards and adjusted if required prior to us\\ninvoicing you. We will provide you with an\\napplication for payment for authorisation prior\\nto submitting a final invoice on a monthly basis\\nDeclared margin with our return\\ndeviate from this margin and can\\nprovide full auditing against this\\nreactive rates and project works\\nWe wanted to find a way we could engage\\nwith our customers and you to help bring\\nThat\\'s why we created this short video\\nthat demonstrates how `People\\' create\\nvalue at the point of delivery from the\\nDeclared margin with our return\\ndeviate from this margin and can\\nprovide full auditing against this\\nwww.vimeo.com/417110246/c7a8df6e98', 'meta': {'name': '2. People - Salisbury Group.pdf'}}]\n"
          ]
        }
      ]
    },
    {
      "cell_type": "markdown",
      "metadata": {
        "id": "gewWO213szVa"
      },
      "source": [
        "# Storing in DocStore by Converter method"
      ]
    },
    {
      "cell_type": "code",
      "metadata": {
        "colab": {
          "base_uri": "https://localhost:8080/"
        },
        "id": "OexMnxdg8Hw5",
        "outputId": "755b23bb-a8da-4944-f3e8-e8e39361db21"
      },
      "source": [
        "######### METHOD 2 ########\n",
        "####### text to doc ######\n",
        "#########\n",
        "u = '/content/2. People - Salisbury Group.pdf'\n",
        "converter = PDFToTextConverter(remove_numeric_tables=True, valid_languages=[\"en\"])\n",
        "doc_pdf = converter.convert(file_path=u)\n",
        "\n",
        "\n",
        "#document_store = InMemoryDocumentStore()\n",
        "pp = PreProcessor(\n",
        "    clean_empty_lines=True,\n",
        "    clean_whitespace=True,\n",
        "    clean_header_footer=True,\n",
        "    split_by=\"word\",\n",
        "    split_length=100,\n",
        "    split_respect_sentence_boundary=True,\n",
        "    split_overlap=3\n",
        ")\n",
        "docs = pp.process(doc_pdf)\n",
        "\n",
        "\n",
        "document_store.write_documents(docs)"
      ],
      "execution_count": null,
      "outputs": [
        {
          "output_type": "stream",
          "name": "stdout",
          "text": [
            "[nltk_data] Downloading package punkt to /root/nltk_data...\n",
            "[nltk_data]   Unzipping tokenizers/punkt.zip.\n"
          ]
        },
        {
          "output_type": "stream",
          "name": "stderr",
          "text": [
            "One or more sentence found with word count higher than the split length.\n"
          ]
        }
      ]
    },
    {
      "cell_type": "code",
      "metadata": {
        "colab": {
          "base_uri": "https://localhost:8080/"
        },
        "id": "WksdZERUYncs",
        "outputId": "4584f66a-8152-446e-f582-67feb59d2ade"
      },
      "source": [
        "import os\n",
        "#document_store.write_documents(docs)\n",
        "directory = '/content'\n",
        "for filename in os.listdir(directory):\n",
        "    if filename.endswith(\".pdf\") or filename.endswith(\".doc\"):\n",
        "        converter = PDFToTextConverter(remove_numeric_tables=True, valid_languages=[\"en\"])\n",
        "        doc_pdf = converter.convert(directory+'/'+filename)\n",
        "\n",
        "\n",
        "        #document_store = InMemoryDocumentStore()\n",
        "        pp = PreProcessor(\n",
        "            clean_empty_lines=True,\n",
        "            clean_whitespace=True,\n",
        "            clean_header_footer=True,\n",
        "            split_by=\"word\",\n",
        "            split_length=100,\n",
        "            split_respect_sentence_boundary=True,\n",
        "            split_overlap=3\n",
        "        )\n",
        "        docs = pp.process(doc_pdf)\n",
        "        document_store.write_documents(docs)\n",
        "    else:\n",
        "        print(\"Exit\")\n"
      ],
      "execution_count": null,
      "outputs": [
        {
          "output_type": "stream",
          "name": "stdout",
          "text": [
            "Exit\n"
          ]
        },
        {
          "output_type": "stream",
          "name": "stderr",
          "text": [
            "One or more sentence found with word count higher than the split length.\n",
            "One or more sentence found with word count higher than the split length.\n"
          ]
        },
        {
          "output_type": "stream",
          "name": "stdout",
          "text": [
            "Exit\n"
          ]
        }
      ]
    },
    {
      "cell_type": "markdown",
      "metadata": {
        "id": "bVK82Mqba1xx"
      },
      "source": [
        "# Sentence-Based Splitting"
      ]
    },
    {
      "cell_type": "code",
      "metadata": {
        "id": "R3jw31kd6wrL"
      },
      "source": [
        "######### METHOD 3 ########\n",
        "####### text to doc ######\n",
        "#########\n",
        "\n",
        "converter = PDFToTextConverter(remove_numeric_tables=True, valid_languages=[\"en\"])\n",
        "doc_pdf = converter.convert(file_path=\"/content/x/2. People - Salisbury Group.pdf\")\n",
        "\n",
        "\n",
        "#document_store = InMemoryDocumentStore()\n",
        "pp1 = PreProcessor(\n",
        "    clean_empty_lines=True,\n",
        "    clean_whitespace=True,\n",
        "    clean_header_footer=True,\n",
        "    split_by=\"sentence\",\n",
        "    split_length=10,\n",
        "    split_respect_sentence_boundary=False,\n",
        "    split_overlap=3\n",
        ")\n",
        "docs = pp1.process(doc_pdf)\n",
        "\n",
        "\n",
        "document_store.write_documents(docs)"
      ],
      "execution_count": null,
      "outputs": []
    },
    {
      "cell_type": "markdown",
      "metadata": {
        "id": "RKfUTjoAdstn"
      },
      "source": [
        "# Retriever"
      ]
    },
    {
      "cell_type": "code",
      "metadata": {
        "colab": {
          "base_uri": "https://localhost:8080/",
          "height": 52,
          "referenced_widgets": [
            "c8d2acec06e14563accb23774e2066e1",
            "acd84a6183ee4e26a764021e93753160",
            "45320c1939fb4768b070cdca32415d6e",
            "2908a3fa16434aeebd34f7b9e274147e",
            "31429da8c0114d0ebab457afc1139327",
            "8be5157b799b4d34ba7332d280f2b955",
            "cecb9cdb6730446097e9944fca0879fd",
            "7271d3506d7644798dc71ff25e652cb7",
            "1caa5711228b4a6b80c7639a25beedb0",
            "95a6e626e14741edac6330c3fb4251d8",
            "71cc4ff92118452ea185914733b45112"
          ]
        },
        "id": "9-FIIDHT8sf7",
        "outputId": "bb53885b-308f-4974-921a-593eb83214ac"
      },
      "source": [
        "######### DPR #########\n",
        "from haystack.retriever.dense import DensePassageRetriever\n",
        "retriever_DPR = DensePassageRetriever(document_store=document_store,\n",
        "                                  query_embedding_model=\"facebook/dpr-question_encoder-single-nq-base\",\n",
        "                                  passage_embedding_model=\"facebook/dpr-ctx_encoder-single-nq-base\",\n",
        "                                  max_seq_len_query=64,\n",
        "                                  max_seq_len_passage=256,\n",
        "                                  batch_size=16,\n",
        "                                  use_gpu=True,\n",
        "                                  embed_title=True,\n",
        "                                  use_fast_tokenizers=True)\n",
        "# Important: \n",
        "# Now that after we have the DPR initialized, we need to call update_embeddings() to iterate over all\n",
        "# previously indexed documents and update their embedding representation. \n",
        "# While this can be a time consuming operation (depending on corpus size), it only needs to be done once. \n",
        "# At query time, we only need to embed the query and compare it the existing doc embeddings which is very fast.\n",
        "document_store.update_embeddings(retriever_DPR)"
      ],
      "execution_count": null,
      "outputs": [
        {
          "output_type": "stream",
          "name": "stderr",
          "text": [
            "\rUpdating Embedding:   0%|          | 0/38 [00:00<?, ? docs/s]"
          ]
        },
        {
          "output_type": "display_data",
          "data": {
            "application/vnd.jupyter.widget-view+json": {
              "model_id": "c8d2acec06e14563accb23774e2066e1",
              "version_minor": 0,
              "version_major": 2
            },
            "text/plain": [
              "Create embeddings:   0%|          | 0/48 [00:00<?, ? Docs/s]"
            ]
          },
          "metadata": {}
        },
        {
          "output_type": "stream",
          "name": "stderr",
          "text": [
            "Documents Processed: 10000 docs [00:01, 6851.53 docs/s]\n"
          ]
        }
      ]
    },
    {
      "cell_type": "code",
      "metadata": {
        "id": "dTDqDzTnFnMQ"
      },
      "source": [
        "#########  TFIDF  ###########\n",
        "# An in-memory TfidfRetriever based on Pandas dataframes\n",
        "\n",
        "from haystack.retriever.sparse import TfidfRetriever\n",
        "retriever_TF = TfidfRetriever(document_store=document_store)"
      ],
      "execution_count": null,
      "outputs": []
    },
    {
      "cell_type": "code",
      "metadata": {
        "colab": {
          "base_uri": "https://localhost:8080/"
        },
        "id": "TrqvreAoi3oI",
        "outputId": "9ce0e8bc-e573-4730-aeea-cabbf9878908"
      },
      "source": [
        "########## EmbeddingRetriever #########\n",
        "from haystack.retriever import EmbeddingRetriever\n",
        "retriever_emb = EmbeddingRetriever(document_store=document_store,\n",
        "                               embedding_model=\"ahotrod/albert_xxlargev1_squad2_512\")\n",
        "document_store.update_embeddings(retriever_emb)"
      ],
      "execution_count": null,
      "outputs": [
        {
          "output_type": "stream",
          "name": "stderr",
          "text": [
            "Some weights of the model checkpoint at ahotrod/albert_xxlargev1_squad2_512 were not used when initializing AlbertModel: ['qa_outputs.bias', 'qa_outputs.weight']\n",
            "- This IS expected if you are initializing AlbertModel from the checkpoint of a model trained on another task or with another architecture (e.g. initializing a BertForSequenceClassification model from a BertForPreTraining model).\n",
            "- This IS NOT expected if you are initializing AlbertModel from the checkpoint of a model that you expect to be exactly identical (initializing a BertForSequenceClassification model from a BertForSequenceClassification model).\n",
            "Currently no support in Processor for returning problematic ids\n",
            "ML Logging is turned off. No parameters, metrics or artifacts will be logged to MLFlow.\n",
            "Updating Embedding:   0%|          | 0/1 [00:00<?, ? docs/s]\n",
            "Inferencing Samples:   0%|          | 0/1 [00:00<?, ? Batches/s]\u001b[A\n",
            "Inferencing Samples: 100%|██████████| 1/1 [00:01<00:00,  1.53s/ Batches]\n",
            "Documents Processed: 10000 docs [00:02, 4075.38 docs/s]\n"
          ]
        }
      ]
    },
    {
      "cell_type": "markdown",
      "metadata": {
        "id": "m7_xsIoZicxP"
      },
      "source": [
        "# Reader"
      ]
    },
    {
      "cell_type": "code",
      "metadata": {
        "colab": {
          "base_uri": "https://localhost:8080/",
          "height": 264,
          "referenced_widgets": [
            "da19e69331d44ba19795ab6722b0936a",
            "88e6f8e2b985450d9dcd688b751b349a",
            "359b3af5b8ae4cd499d0a38eea1c73e8",
            "76cdbca99bcf4869b2537d2a092efa15",
            "2579baaacece46b8895cdd3829ba9f55",
            "7abf4c309e7e479bb502255018e95137",
            "7d9f8ef13e45470089c6c08f0175adfe",
            "95f5c1609531492ea98b69bdea39aa99",
            "5b27befceac7406ab0b36fb6f5724cea",
            "7c6b357108c1418bbb9d45bc97bfa1bc",
            "92401f06eb8241cfbdce9bd7fb4aa674",
            "f490b726309945c593a90e9cc71af745",
            "960064aae0014b708fc36d06b73eb119",
            "08d6d6b98e8d47e4a06170be80c457b1",
            "18c159d0a75148dd892d8992e5bc57c0",
            "cfd73ea6a72941c4a66655124784f000",
            "4fb2e79b8dfb465fa332e245244891fc",
            "dc9c95225fba4e7c95e53b70776d5cf6",
            "62eb854fa07a424fb9f9f3022375a54d",
            "4f7efbdfb5d14effa1031ab8f682f51a",
            "add50f9bdc5e446f91b4e4c8b1cb6fa6",
            "c1b11f7c36f341988e1a273836ea0fae",
            "d8199a40fa4245bfb8a917d58f13d340",
            "67f03f524fd24d9283e6924fff8740cb",
            "40fa718e20214e9cb3df0ea1a26a2e03",
            "d39e0750623a465d97a07caa21594b12",
            "d54c7d0e962048c5b3e1dcb1379ffef2",
            "1ca8796d0ddc48d18e929208d358de7d",
            "244f37ed459f4609976251cff4b0ce6d",
            "e18f3c16ec274983b335c393c28d3bea",
            "2eaa5d0d5c5e45c7a1955691513a7445",
            "f4aaa90057f14618b6419a6a79535be7",
            "7c50e731606948488f1133ea740f48b5",
            "207c741bd6c34196ba4d6042de1d8d0e",
            "d9d8a99fbc01430381a1e5e8ae9f06ee",
            "8d18ded188874ec7b39f14de109fe1fb",
            "08b2ab3fe78c45d48be16a1f3d3537a8",
            "a84ec693b1a6437aaa11268bf818df22",
            "9477fc4868124b5eb3c50d18e771fb54",
            "17615c2223f14586ae635af50211a329",
            "ff1a318ea24a463da3569cbaba1a525a",
            "437a21ddcdb444fca4f0c4b13d19a46c",
            "3e70d506c1514815a445081d9a890a82",
            "88c19eb425e24428836a1312b3c463f7",
            "874e1b06060145b68ac4496ce64f2ec9",
            "0299064465744b8084bd23daaec20c66",
            "9f6c33d65dee4dd29af3d4037e8ea730",
            "a97f5f2341cc40f181850780643baa1c",
            "5574bb96a99b4f4480210a16e513b0ea",
            "61bb80b9fa1c411b9bd70746ebf0e282",
            "37860a7f062647678eb4ff19ad2ce6bd",
            "466b076a65964a19a7c9e8d8e06acc0d",
            "e39405dae81943c4a5915a992fd67917",
            "b3baed184a5b45139e66e3bacac773b0",
            "17fd542d230b47ad874eef92b08b4c8a"
          ]
        },
        "id": "TTZ2UDMJ84oS",
        "outputId": "31331aee-52d1-46e3-86db-7775022f9f97"
      },
      "source": [
        "# Load a  local model or any of the QA models on\n",
        "# Hugging Face's model hub (https://huggingface.co/models)\n",
        "\n",
        "#reader = FARMReader(model_name_or_path=\"deepset/roberta-large-squad2\", use_gpu=True)\n",
        "reader = FARMReader(model_name_or_path=\"ahotrod/albert_xxlargev1_squad2_512\", use_gpu=True) #######  best in accuracy\n",
        "#reader1 = TransformersReader(model_name_or_path=\"ahotrod/albert_xxlargev1_squad2_512\")\n",
        "#reader = FARMReader(model_name_or_path=\"deepset/bert-large-uncased-whole-word-masking-squad2\", use_gpu=True)\n",
        "#reader = FARMReader(model_name_or_path=\"flozi00/albert-base-v2-squad_v2\", use_gpu=True)\n"
      ],
      "execution_count": null,
      "outputs": [
        {
          "output_type": "display_data",
          "data": {
            "application/vnd.jupyter.widget-view+json": {
              "model_id": "da19e69331d44ba19795ab6722b0936a",
              "version_minor": 0,
              "version_major": 2
            },
            "text/plain": [
              "Downloading:   0%|          | 0.00/715 [00:00<?, ?B/s]"
            ]
          },
          "metadata": {}
        },
        {
          "output_type": "display_data",
          "data": {
            "application/vnd.jupyter.widget-view+json": {
              "model_id": "f490b726309945c593a90e9cc71af745",
              "version_minor": 0,
              "version_major": 2
            },
            "text/plain": [
              "Downloading:   0%|          | 0.00/890M [00:00<?, ?B/s]"
            ]
          },
          "metadata": {}
        },
        {
          "output_type": "stream",
          "name": "stderr",
          "text": [
            "Some weights of the model checkpoint at ahotrod/albert_xxlargev1_squad2_512 were not used when initializing AlbertModel: ['qa_outputs.weight', 'qa_outputs.bias']\n",
            "- This IS expected if you are initializing AlbertModel from the checkpoint of a model trained on another task or with another architecture (e.g. initializing a BertForSequenceClassification model from a BertForPreTraining model).\n",
            "- This IS NOT expected if you are initializing AlbertModel from the checkpoint of a model that you expect to be exactly identical (initializing a BertForSequenceClassification model from a BertForSequenceClassification model).\n"
          ]
        },
        {
          "output_type": "display_data",
          "data": {
            "application/vnd.jupyter.widget-view+json": {
              "model_id": "d8199a40fa4245bfb8a917d58f13d340",
              "version_minor": 0,
              "version_major": 2
            },
            "text/plain": [
              "Downloading:   0%|          | 0.00/760k [00:00<?, ?B/s]"
            ]
          },
          "metadata": {}
        },
        {
          "output_type": "display_data",
          "data": {
            "application/vnd.jupyter.widget-view+json": {
              "model_id": "207c741bd6c34196ba4d6042de1d8d0e",
              "version_minor": 0,
              "version_major": 2
            },
            "text/plain": [
              "Downloading:   0%|          | 0.00/156 [00:00<?, ?B/s]"
            ]
          },
          "metadata": {}
        },
        {
          "output_type": "display_data",
          "data": {
            "application/vnd.jupyter.widget-view+json": {
              "model_id": "874e1b06060145b68ac4496ce64f2ec9",
              "version_minor": 0,
              "version_major": 2
            },
            "text/plain": [
              "Downloading:   0%|          | 0.00/48.0 [00:00<?, ?B/s]"
            ]
          },
          "metadata": {}
        },
        {
          "output_type": "stream",
          "name": "stderr",
          "text": [
            "ML Logging is turned off. No parameters, metrics or artifacts will be logged to MLFlow.\n"
          ]
        }
      ]
    },
    {
      "cell_type": "code",
      "metadata": {
        "id": "NjhmcqAQCI1r"
      },
      "source": [
        "# reader2 = FARMReader(model_name_or_path=\"ahotrod/albert_xxlargev1_squad2_512\", \n",
        "#               context_window_size=50, no_ans_boost=0, batch_size=200,\n",
        "#               use_gpu=True)"
      ],
      "execution_count": null,
      "outputs": []
    },
    {
      "cell_type": "code",
      "metadata": {
        "id": "5ugSJ-UPF2Gl"
      },
      "source": [
        "# #del reader2\n",
        "# torch.cuda.empty_cache()"
      ],
      "execution_count": null,
      "outputs": []
    },
    {
      "cell_type": "markdown",
      "metadata": {
        "id": "_2kOUtb4tJPg"
      },
      "source": [
        "# Pipeline"
      ]
    },
    {
      "cell_type": "code",
      "metadata": {
        "id": "KEFjser78641"
      },
      "source": [
        "from haystack.pipeline import ExtractiveQAPipeline\n",
        "pipe = ExtractiveQAPipeline(reader, retriever_TF)"
      ],
      "execution_count": null,
      "outputs": []
    },
    {
      "cell_type": "markdown",
      "metadata": {
        "id": "2w58SztZtNnr"
      },
      "source": [
        "# Query"
      ]
    },
    {
      "cell_type": "code",
      "metadata": {
        "colab": {
          "base_uri": "https://localhost:8080/"
        },
        "id": "gTHWyD5t87UP",
        "outputId": "7ad6791d-40e1-4d9a-b7ce-7079d5935081"
      },
      "source": [
        "# You can configure how many candidates the reader and retriever shall return\n",
        "# The higher top_k for retriever, the better (but also the slower) your answers.\n",
        "\n",
        "#How are you different than other FM companies?\n",
        "#How do you handle challenges?\n",
        "#How do you innovate?\n",
        "#How do you manage performance?\n",
        "\n",
        "#Describe people programme\n",
        "#What are the responsibilities of security officer?\n",
        "#how will you improve our flow?\n",
        "#Will your Account Manager will take ownership and responsibility for all services?\n",
        "\n",
        "#How do you automate production of reports?\n",
        "#How do you produce reports?\n",
        "#Employee savings\n",
        "\n",
        "\n",
        "prediction = pipe.run(\n",
        "    query=\"How are you different than other FM companies?\", params={\"Retriever\": {\"top_k\": 10}, \"Reader\": {\"top_k\": 5}}\n",
        ")"
      ],
      "execution_count": null,
      "outputs": [
        {
          "output_type": "stream",
          "name": "stderr",
          "text": [
            "Inferencing Samples:   0%|          | 0/1 [00:00<?, ? Batches/s]/usr/local/lib/python3.7/dist-packages/torch/_tensor.py:575: UserWarning: floor_divide is deprecated, and will be removed in a future version of pytorch. It currently rounds toward 0 (like the 'trunc' function NOT 'floor'). This results in incorrect rounding for negative values.\n",
            "To keep the current behavior, use torch.div(a, b, rounding_mode='trunc'), or for actual floor division, use torch.div(a, b, rounding_mode='floor'). (Triggered internally at  /pytorch/aten/src/ATen/native/BinaryOps.cpp:467.)\n",
            "  return torch.floor_divide(self, other)\n",
            "Inferencing Samples: 100%|██████████| 1/1 [00:01<00:00,  1.16s/ Batches]\n",
            "Inferencing Samples: 100%|██████████| 1/1 [00:00<00:00,  1.18 Batches/s]\n",
            "Inferencing Samples: 100%|██████████| 1/1 [00:00<00:00,  1.21 Batches/s]\n",
            "Inferencing Samples: 100%|██████████| 1/1 [00:00<00:00,  1.22 Batches/s]\n",
            "Inferencing Samples: 100%|██████████| 1/1 [00:00<00:00,  1.25 Batches/s]\n",
            "Inferencing Samples: 100%|██████████| 1/1 [00:00<00:00,  1.22 Batches/s]\n",
            "Inferencing Samples: 100%|██████████| 1/1 [00:00<00:00,  1.23 Batches/s]\n",
            "Inferencing Samples: 100%|██████████| 1/1 [00:00<00:00,  1.23 Batches/s]\n",
            "Inferencing Samples: 100%|██████████| 1/1 [00:00<00:00,  1.24 Batches/s]\n",
            "Inferencing Samples: 100%|██████████| 1/1 [00:00<00:00,  1.23 Batches/s]\n"
          ]
        }
      ]
    },
    {
      "cell_type": "code",
      "metadata": {
        "id": "iwLEN1w_99pY",
        "colab": {
          "base_uri": "https://localhost:8080/"
        },
        "outputId": "e6fb5601-0915-4b24-ab45-58cbf7fd272a"
      },
      "source": [
        "prediction = pipe.run(\n",
        "    query=\"What are the responsibilities of security officer?\", params={\"Retriever\": {\"top_k\": 10}, \"Reader\": {\"top_k\": 5}}\n",
        ")"
      ],
      "execution_count": null,
      "outputs": [
        {
          "output_type": "stream",
          "name": "stderr",
          "text": [
            "Inferencing Samples: 100%|██████████| 1/1 [00:00<00:00,  1.06 Batches/s]\n",
            "Inferencing Samples: 100%|██████████| 1/1 [00:00<00:00,  1.13 Batches/s]\n",
            "Inferencing Samples: 100%|██████████| 1/1 [00:00<00:00,  1.14 Batches/s]\n",
            "Inferencing Samples: 100%|██████████| 1/1 [00:00<00:00,  1.13 Batches/s]\n",
            "Inferencing Samples: 100%|██████████| 1/1 [00:00<00:00,  1.12 Batches/s]\n",
            "Inferencing Samples: 100%|██████████| 1/1 [00:00<00:00,  1.12 Batches/s]\n",
            "Inferencing Samples: 100%|██████████| 1/1 [00:00<00:00,  1.12 Batches/s]\n",
            "Inferencing Samples: 100%|██████████| 1/1 [00:00<00:00,  1.12 Batches/s]\n",
            "Inferencing Samples: 100%|██████████| 1/1 [00:00<00:00,  1.12 Batches/s]\n",
            "Inferencing Samples: 100%|██████████| 1/1 [00:00<00:00,  1.13 Batches/s]\n"
          ]
        }
      ]
    },
    {
      "cell_type": "code",
      "metadata": {
        "colab": {
          "base_uri": "https://localhost:8080/"
        },
        "id": "gR866U8LHnP6",
        "outputId": "d5f144b8-d0b8-4db6-c0ab-52b49f82dfc4"
      },
      "source": [
        "prediction = pipe.run(\n",
        "    query=\"How are you different than other FM companies?\", params={\"Retriever\": {\"top_k\": 10}, \"Reader\": {\"top_k\": 5}}\n",
        ")"
      ],
      "execution_count": null,
      "outputs": [
        {
          "output_type": "stream",
          "name": "stderr",
          "text": [
            "Inferencing Samples: 100%|██████████| 1/1 [00:00<00:00,  1.15 Batches/s]\n",
            "Inferencing Samples: 100%|██████████| 1/1 [00:00<00:00,  1.15 Batches/s]\n",
            "Inferencing Samples: 100%|██████████| 1/1 [00:00<00:00,  1.14 Batches/s]\n",
            "Inferencing Samples: 100%|██████████| 1/1 [00:00<00:00,  1.13 Batches/s]\n",
            "Inferencing Samples: 100%|██████████| 1/1 [00:00<00:00,  1.13 Batches/s]\n",
            "Inferencing Samples: 100%|██████████| 1/1 [00:00<00:00,  1.14 Batches/s]\n",
            "Inferencing Samples: 100%|██████████| 1/1 [00:00<00:00,  1.13 Batches/s]\n",
            "Inferencing Samples: 100%|██████████| 1/1 [00:00<00:00,  1.13 Batches/s]\n",
            "Inferencing Samples: 100%|██████████| 1/1 [00:00<00:00,  1.14 Batches/s]\n",
            "Inferencing Samples: 100%|██████████| 1/1 [00:00<00:00,  1.14 Batches/s]\n"
          ]
        }
      ]
    },
    {
      "cell_type": "markdown",
      "metadata": {
        "id": "hbff3EBGtQ9d"
      },
      "source": [
        "# Result"
      ]
    },
    {
      "cell_type": "code",
      "metadata": {
        "colab": {
          "base_uri": "https://localhost:8080/"
        },
        "id": "YYOAMjha887E",
        "outputId": "e6c2001c-4917-4126-fd00-cba070df0986"
      },
      "source": [
        "print_answers(prediction)"
      ],
      "execution_count": null,
      "outputs": [
        {
          "output_type": "stream",
          "name": "stdout",
          "text": [
            "{   'answers': [   Answer(answer='delivery of site-based security operations', type='extractive', score=0.4398578852415085, context='Security Officer\\nJob Profile\\nEffective delivery of site-based security operations\\nacting in the best interests of our clients and\\ncustomers always, en', offsets_in_document=[Span(start=38, end=80)], offsets_in_context=[Span(start=38, end=80)], document_id='a73008dd01d0701ef94614162380e6ec', meta={'_split_id': 180}),\n",
            "                   Answer(answer='Reception Didcot x 1', type='extractive', score=0.09290205128490925, context='Security Officer/\\nReception Didcot x 1', offsets_in_document=[Span(start=17, end=37)], offsets_in_context=[Span(start=17, end=37)], document_id='bdee782941f657019e5d156bdfec756', meta={'_split_id': 129}),\n",
            "                   Answer(answer='Reception Didcot x 1', type='extractive', score=0.09290205128490925, context='Security Officer/\\nReception Didcot x 1', offsets_in_document=[Span(start=17, end=37)], offsets_in_context=[Span(start=17, end=37)], document_id='58350d0d736732a30e5cb45f8ac9df19', meta={'_split_id': 130}),\n",
            "                   Answer(answer='supervision of site-based\\nsecurity operations', type='extractive', score=0.04128533508628607, context='Security services\\nSecurity Lead\\nJob Profile\\nEffective supervision of site-based\\nsecurity operations acting in the best\\ninterests of RWE and customers ', offsets_in_document=[Span(start=53, end=98)], offsets_in_context=[Span(start=53, end=98)], document_id='996213236eb24502886e5b79b7bec747', meta={'_split_id': 172}),\n",
            "                   Answer(answer='Security Services', type='extractive', score=0.01249297708272934, context='Security Services', offsets_in_document=[Span(start=0, end=17)], offsets_in_context=[Span(start=0, end=17)], document_id='bdee782941f657019e5d156bdfec756', meta={'_split_id': 129})],\n",
            "    'documents': [   {'content': 'Security Officer/\\nReception Didcot x 1', 'content_type': 'text', 'score': None, 'meta': {'_split_id': 129}, 'embedding': None, 'id': 'bdee782941f657019e5d156bdfec756'},\n",
            "                     {'content': 'Security Officer/\\nReception Didcot x 1', 'content_type': 'text', 'score': None, 'meta': {'_split_id': 130}, 'embedding': None, 'id': '58350d0d736732a30e5cb45f8ac9df19'},\n",
            "                     {'content': 'Security Officer\\nJob Profile\\nEffective delivery of site-based security operations\\nacting in the best interests of our clients and\\ncustomers always, ensuring that all work is carried\\nout safely and in accordance with the assignment\\ninstructions, to the standards agreed with RWE. Principle Duties and Responsibilities\\nOperations  Maintaining quality of service to Clients\\nand customers', 'content_type': 'text', 'score': None, 'meta': {'_split_id': 180}, 'embedding': None, 'id': 'a73008dd01d0701ef94614162380e6ec'},\n",
            "                     {'content': 'Director of\\nSecurity', 'content_type': 'text', 'score': None, 'meta': {'_split_id': 39}, 'embedding': None, 'id': '38162e4f2123e7def7774fa479ebfd13'},\n",
            "                     {'content': 'Director of\\nSecurity', 'content_type': 'text', 'score': None, 'meta': {'_split_id': 40}, 'embedding': None, 'id': '60756d1c1a77fb75201756a4293978c9'},\n",
            "                     {'content': 'Security Services', 'content_type': 'text', 'score': None, 'meta': {'_split_id': 129}, 'embedding': None, 'id': 'bdee782941f657019e5d156bdfec756'},\n",
            "                     {'content': 'Security Services', 'content_type': 'text', 'score': None, 'meta': {'_split_id': 130}, 'embedding': None, 'id': '58350d0d736732a30e5cb45f8ac9df19'},\n",
            "                     {'content': 'Security services\\nSecurity Lead\\nJob Profile\\nEffective supervision of site-based\\nsecurity operations acting in the best\\ninterests of RWE and customers always.', 'content_type': 'text', 'score': None, 'meta': {'_split_id': 172}, 'embedding': None, 'id': '996213236eb24502886e5b79b7bec747'},\n",
            "                     {'content': 'Security\\nTeams', 'content_type': 'text', 'score': None, 'meta': {'_split_id': 39}, 'embedding': None, 'id': '38162e4f2123e7def7774fa479ebfd13'},\n",
            "                     {'content': 'Security\\nTeams', 'content_type': 'text', 'score': None, 'meta': {'_split_id': 40}, 'embedding': None, 'id': '60756d1c1a77fb75201756a4293978c9'}],\n",
            "    'no_ans_gap': 6.806945085525513,\n",
            "    'node_id': 'Reader',\n",
            "    'params': {'Reader': {'top_k': 5}, 'Retriever': {'top_k': 10}},\n",
            "    'query': 'What are the responsibilities of security officer?',\n",
            "    'root_node': 'Query'}\n"
          ]
        }
      ]
    },
    {
      "cell_type": "markdown",
      "metadata": {
        "id": "oCs6cVYxeBgJ"
      },
      "source": [
        "# Extras"
      ]
    },
    {
      "cell_type": "code",
      "metadata": {
        "colab": {
          "base_uri": "https://localhost:8080/",
          "height": 452
        },
        "id": "p5J51CHEeDR8",
        "outputId": "f79f8b56-619f-4a4f-e23d-dbb14d9d36bb"
      },
      "source": [
        "import tensorflow as tf\n",
        "import tensorflow_hub as hub\n",
        "from transformers import BertTokenizer\n",
        "\n",
        "model = hub.load(\"https://tfhub.dev/see--/bert-uncased-tf2-qa/1\")\n",
        "tokenizer = BertTokenizer.from_pretrained('tokenizer_tf2_qa')\n",
        "\n",
        "questions = ['How are you different than other FM companies?',\n",
        "             'How do you handle challenges?',\n",
        "             'How do you innovate?',\n",
        "             'How do you manage performance?']\n",
        "paragraph = dicts[0]\n",
        "\n",
        "for question in questions:\n",
        "  question_tokens = tokenizer.tokenize(question)\n",
        "  paragraph_tokens = tokenizer.tokenize(paragraph)\n",
        "  tokens = ['[CLS]'] + question_tokens + ['[SEP]'] + paragraph_tokens + ['[SEP]']\n",
        "  input_word_ids = tokenizer.convert_tokens_to_ids(tokens)\n",
        "  input_mask = [1] * len(input_word_ids)\n",
        "  input_type_ids = [0] * (1 + len(question_tokens) + 1) + [1] * (len(paragraph_tokens) + 1)\n",
        "  input_word_ids, input_mask, input_type_ids = map(lambda t: tf.expand_dims(\n",
        "      tf.convert_to_tensor(t, dtype=tf.int32), 0), (input_word_ids, input_mask, input_type_ids))\n",
        "  outputs = model([input_word_ids, input_mask, input_type_ids])\n",
        "  short_start = tf.argmax(outputs[0][0][1:]) + 1\n",
        "  short_end = tf.argmax(outputs[1][0][1:]) + 1\n",
        "  answer_tokens = tokens[short_start: short_end + 1]\n",
        "  answer = tokenizer.convert_tokens_to_string(answer_tokens)\n",
        "  print(f'Question: {question}')\n",
        "  print(f'Answer: {answer}')\n",
        "\n"
      ],
      "execution_count": null,
      "outputs": [
        {
          "output_type": "error",
          "ename": "OSError",
          "evalue": "ignored",
          "traceback": [
            "\u001b[0;31m---------------------------------------------------------------------------\u001b[0m",
            "\u001b[0;31mOSError\u001b[0m                                   Traceback (most recent call last)",
            "\u001b[0;32m<ipython-input-25-ea0e576ac4cc>\u001b[0m in \u001b[0;36m<module>\u001b[0;34m()\u001b[0m\n\u001b[1;32m      4\u001b[0m \u001b[0;34m\u001b[0m\u001b[0m\n\u001b[1;32m      5\u001b[0m \u001b[0mmodel\u001b[0m \u001b[0;34m=\u001b[0m \u001b[0mhub\u001b[0m\u001b[0;34m.\u001b[0m\u001b[0mload\u001b[0m\u001b[0;34m(\u001b[0m\u001b[0;34m\"https://tfhub.dev/see--/bert-uncased-tf2-qa/1\"\u001b[0m\u001b[0;34m)\u001b[0m\u001b[0;34m\u001b[0m\u001b[0;34m\u001b[0m\u001b[0m\n\u001b[0;32m----> 6\u001b[0;31m \u001b[0mtokenizer\u001b[0m \u001b[0;34m=\u001b[0m \u001b[0mBertTokenizer\u001b[0m\u001b[0;34m.\u001b[0m\u001b[0mfrom_pretrained\u001b[0m\u001b[0;34m(\u001b[0m\u001b[0;34m'tokenizer_tf2_qa'\u001b[0m\u001b[0;34m)\u001b[0m\u001b[0;34m\u001b[0m\u001b[0;34m\u001b[0m\u001b[0m\n\u001b[0m\u001b[1;32m      7\u001b[0m \u001b[0;34m\u001b[0m\u001b[0m\n\u001b[1;32m      8\u001b[0m questions = ['How are you different than other FM companies?',\n",
            "\u001b[0;32m/usr/local/lib/python3.7/dist-packages/transformers/tokenization_utils_base.py\u001b[0m in \u001b[0;36mfrom_pretrained\u001b[0;34m(cls, pretrained_model_name_or_path, *init_inputs, **kwargs)\u001b[0m\n\u001b[1;32m   1706\u001b[0m                 \u001b[0;34mf\"- or '{pretrained_model_name_or_path}' is the correct path to a directory containing relevant tokenizer files\\n\\n\"\u001b[0m\u001b[0;34m\u001b[0m\u001b[0;34m\u001b[0m\u001b[0m\n\u001b[1;32m   1707\u001b[0m             )\n\u001b[0;32m-> 1708\u001b[0;31m             \u001b[0;32mraise\u001b[0m \u001b[0mEnvironmentError\u001b[0m\u001b[0;34m(\u001b[0m\u001b[0mmsg\u001b[0m\u001b[0;34m)\u001b[0m\u001b[0;34m\u001b[0m\u001b[0;34m\u001b[0m\u001b[0m\n\u001b[0m\u001b[1;32m   1709\u001b[0m \u001b[0;34m\u001b[0m\u001b[0m\n\u001b[1;32m   1710\u001b[0m         \u001b[0;32mfor\u001b[0m \u001b[0mfile_id\u001b[0m\u001b[0;34m,\u001b[0m \u001b[0mfile_path\u001b[0m \u001b[0;32min\u001b[0m \u001b[0mvocab_files\u001b[0m\u001b[0;34m.\u001b[0m\u001b[0mitems\u001b[0m\u001b[0;34m(\u001b[0m\u001b[0;34m)\u001b[0m\u001b[0;34m:\u001b[0m\u001b[0;34m\u001b[0m\u001b[0;34m\u001b[0m\u001b[0m\n",
            "\u001b[0;31mOSError\u001b[0m: Can't load tokenizer for 'tokenizer_tf2_qa'. Make sure that:\n\n- 'tokenizer_tf2_qa' is a correct model identifier listed on 'https://huggingface.co/models'\n\n- or 'tokenizer_tf2_qa' is the correct path to a directory containing relevant tokenizer files\n\n"
          ]
        }
      ]
    },
    {
      "cell_type": "code",
      "metadata": {
        "id": "afMIDBaekoTw"
      },
      "source": [
        "from haystack.preprocessor.cleaning import clean_wiki_text\n",
        "from haystack.preprocessor.utils import convert_files_to_dicts, fetch_archive_from_http\n",
        "from haystack.generator.transformers import Seq2SeqGenerator"
      ],
      "execution_count": null,
      "outputs": []
    },
    {
      "cell_type": "code",
      "metadata": {
        "id": "lSaACNflkyP7"
      },
      "source": [
        "from haystack.document_store.faiss import FAISSDocumentStore\n",
        "\n",
        "document_store = FAISSDocumentStore(vector_dim=128, faiss_index_factory_str=\"Flat\")"
      ],
      "execution_count": null,
      "outputs": []
    },
    {
      "cell_type": "code",
      "metadata": {
        "id": "DJXCoBc3k0uq"
      },
      "source": [
        "doc_dir = \"/content/x\"\n",
        "dicts = convert_files_to_dicts(dir_path=doc_dir, clean_func=clean_wiki_text, split_paragraphs=True)\n",
        "document_store.write_documents(dicts)"
      ],
      "execution_count": null,
      "outputs": []
    },
    {
      "cell_type": "code",
      "metadata": {
        "colab": {
          "base_uri": "https://localhost:8080/"
        },
        "id": "qkBujAQzlETn",
        "outputId": "8edd98ec-4737-4f92-c553-de1dc1172abd"
      },
      "source": [
        "from haystack.retriever.dense import EmbeddingRetriever\n",
        "\n",
        "retriever = EmbeddingRetriever(document_store=document_store,\n",
        "                               embedding_model=\"yjernite/retribert-base-uncased\",\n",
        "                               model_format=\"retribert\")\n",
        "\n",
        "document_store.update_embeddings(retriever)"
      ],
      "execution_count": null,
      "outputs": [
        {
          "output_type": "stream",
          "name": "stderr",
          "text": [
            "Some weights of RetriBertModel were not initialized from the model checkpoint at yjernite/retribert-base-uncased and are newly initialized: ['bert_query.embeddings.position_ids']\n",
            "You should probably TRAIN this model on a down-stream task to be able to use it for predictions and inference.\n",
            "Documents Processed: 10000 docs [00:00, 96686.17 docs/s]\n"
          ]
        }
      ]
    },
    {
      "cell_type": "code",
      "metadata": {
        "colab": {
          "base_uri": "https://localhost:8080/",
          "height": 177,
          "referenced_widgets": [
            "2a1efc2c5bf7433687bc9068293a885a",
            "6752c68658634c7f826aa57849a6e76b",
            "6ea7d69a946f4f36bec718d526abdbbe",
            "48118608d3ca4361bf7efee2d114ad13",
            "0a3aba3fe6754b038cf833a02ed0d626",
            "d10fb4cd0ee04b71ab875d2aa8ac9a69",
            "2f9f65277e444523815f7b74ba2087d5",
            "9309a2c5565649438231df95eba5f24a",
            "80979d7c2d80426e894cd73e726a8433",
            "812f7837b41940f6b7b5c24817f39754",
            "c941e7b008aa420b9236efb6ac192f05",
            "64e5087c31634df5b0dc4565c2cd4460",
            "8a89644fe9604c4cb3f7cd3e1aa487dd",
            "7d281e8eadd04ecc80d0b7d41af12480",
            "aad2fb898ba9428aba88250251ea1ece"
          ]
        },
        "id": "u6Xu9TRIlEtZ",
        "outputId": "2f520979-16a9-4917-821f-3e03fffed785"
      },
      "source": [
        "generator = Seq2SeqGenerator(model_name_or_path=\"yjernite/bart_eli5\")"
      ],
      "execution_count": null,
      "outputs": [
        {
          "output_type": "display_data",
          "data": {
            "application/vnd.jupyter.widget-view+json": {
              "model_id": "2a1efc2c5bf7433687bc9068293a885a",
              "version_minor": 0,
              "version_major": 2
            },
            "text/plain": [
              "Downloading:   0%|          | 0.00/1.32k [00:00<?, ?B/s]"
            ]
          },
          "metadata": {}
        },
        {
          "output_type": "display_data",
          "data": {
            "application/vnd.jupyter.widget-view+json": {
              "model_id": "64e5087c31634df5b0dc4565c2cd4460",
              "version_minor": 0,
              "version_major": 2
            },
            "text/plain": [
              "Downloading:   0%|          | 0.00/899k [00:00<?, ?B/s]"
            ]
          },
          "metadata": {}
        },
        {
          "output_type": "display_data",
          "data": {
            "application/vnd.jupyter.widget-view+json": {
              "model_id": "8a89644fe9604c4cb3f7cd3e1aa487dd",
              "version_minor": 0,
              "version_major": 2
            },
            "text/plain": [
              "Downloading:   0%|          | 0.00/456k [00:00<?, ?B/s]"
            ]
          },
          "metadata": {}
        },
        {
          "output_type": "display_data",
          "data": {
            "application/vnd.jupyter.widget-view+json": {
              "model_id": "7d281e8eadd04ecc80d0b7d41af12480",
              "version_minor": 0,
              "version_major": 2
            },
            "text/plain": [
              "Downloading:   0%|          | 0.00/1.36M [00:00<?, ?B/s]"
            ]
          },
          "metadata": {}
        },
        {
          "output_type": "display_data",
          "data": {
            "application/vnd.jupyter.widget-view+json": {
              "model_id": "aad2fb898ba9428aba88250251ea1ece",
              "version_minor": 0,
              "version_major": 2
            },
            "text/plain": [
              "Downloading:   0%|          | 0.00/1.63G [00:00<?, ?B/s]"
            ]
          },
          "metadata": {}
        }
      ]
    },
    {
      "cell_type": "code",
      "metadata": {
        "id": "0SR8Oa-qlJNs"
      },
      "source": [
        "from haystack.pipeline import GenerativeQAPipeline\n",
        "pipe = GenerativeQAPipeline(generator, retriever)"
      ],
      "execution_count": null,
      "outputs": []
    },
    {
      "cell_type": "code",
      "metadata": {
        "colab": {
          "base_uri": "https://localhost:8080/"
        },
        "id": "mTJAyJ-DlMUV",
        "outputId": "2444d9aa-c755-474b-8d5f-ca75aedc561a"
      },
      "source": [
        "prediction = pipe.run(\n",
        "    query=\"How are you different than other FM companies?\", params={\"Retriever\": {\"top_k\": 5}}\n",
        ")\n",
        "print_answers(prediction)"
      ],
      "execution_count": null,
      "outputs": [
        {
          "output_type": "stream",
          "name": "stdout",
          "text": [
            "{   'answers': [   ' You are different from other FM companies in the same way '\n",
            "                   'that you are different than other Fortune 500 companies.'],\n",
            "    'documents': [   {'text': \"Services for a sustainable life\\nWe are pleased to submit our proposal\\nfor this exciting opportunity. All of us\\nat Salisbury have all been enthused\\nby your team's plans and approach\\nand we believe that a true alignment\\nexists between both our organisations'\\ncommitments to people and a quality\\nWe understand that you are trying to shape an FM\\nsolution that supports RWE's goals and builds upon\\nthe investment in your business and estate. You are\\nlooking for a partner that lives and breathes this\\ncommitment and can work with you to improve service\\ndelivery in a sustainable way over the long term.\\nPartnership relationships are in our DNA: we were\\nlaunched following a client insourcing process in 2012\\nand because of this, we understand what it takes to\\nalign interests, provide transparency, motivate and\\nengage people, and deliver continuous value and\\nservice improvement. We take it personally.\\n We will give you a dedicated team that is supported\\nevery day by senior colleagues (including me) to\\nensure that your aspirations are delivered\\n We will motivate our people, develop them and\\nmanage their performance effectively  not from afar\\n We recognise that failing to reward staff with the\\nappropriate pay and benefits is a false economy\\n instead, we will reward people who give you an\\n We will equally develop and support all staff who\\n We are not an FM contractor cast in the traditional\\nstyle: we do not want to profit through short cuts\\nand under resourcing. We profit through open and\\ncollaborative working  being a trusted advisor\\n We are open and transparent and we will share with\\nyou as much information as you would like to see\\n We are here to deliver the services that support\\nyour business  we recognise that our risks can be\\nyour risks, so we will provide data and insight that\\nsupports mutual risk management\\n We are different to all other FM companies: our\\nhistory, openness, attention to detail (while never\\nforgetting the direction of travel) and executive\\naccessibility helps us achieve outstanding results\\n Improving service in the FM industry is the reason\\nwe launched Salisbury  we couldn't find an FM\\nbusiness we trusted, so we launched our own\\n We always approach challenges with diligence,\\nclear thinking, and a strong desire to succeed.\\nWe use our natural curiosity to understand issues\\nand then prepare robust plans to improve things\\n We don't pluck savings from the air, as they usually\\nhave an impact on your business. Instead, we will\\ndeliver long-term sustainable value and savings\\nbased on a thorough assessment of opportunities\\nand risks, in full agreement with you\\n We take service delivery personally. FM is delivered\\nmuch more effectively when the people who do it\\n Every Salisbury employee is in the business of great\\ncustomer service  that's why all our staff receive\\nWorldHost customer service training to ensure that\\n We are not too big to admit we can learn things,\\nso we always start by listening. We accept that\\nsometimes we can get things wrong but we always\\nlook to learn from our mistakes and move on\\nI hope that you enjoy reading our proposal as much\\nas we enjoyed creating it. This has been a great\\nprocurement process delivered in a very challenging\\nenvironment and we genuinely hope that we can work\\nwith you on delivering a mutual vision for the services to\\nyour estate. We have provided some ideas on how this\\nwill work within the graphic on the page below.\\nThank you for the opportunity to take part.\\n This is better than I expected\\n FM people now part of our team\\n My innovative idea is now reality\\n We've made the right choice of FM\\n Understand the new shared vision\\n No longer having to chase  they're on my\\n First time I can see timely performance data\\n Solution feels like it has been designed for us\\n I do have a future and they care\\nEstate strategy inform FM planning\\n I've had my first PDR and feel engaged\\n I feel recognised and rewarded\\n New approaches are the exception\\n Keen to see better hands on management\\n Want to feel provider understands us\\n Will I see anybody or meet anyone from Salisbury Group\\n\\x0c\\x0cYou want to work collaboratively with someone who can:\\ncommunications, you informed us\\nyou wanted your preferred partner to\\nmeet a number of core objectives.\\nThat's why we have set-up an innovation forum that is detailed in our response to Q6.7 \\nThat's why have developed communication tools at the point of delivery within our response to\\nQ6.13  Differentiating Factors & Adding Value\\nThat's why we have a dedicated team, co-located in Swindon that will work within the\\nFramework of our Playbook to enhance service quality, improvement and innovation. This is\\ndetailed in our response to Q8  Playbooks, Reporting & Management Information\\nThat's why we have proposed a robust, relevant and comprehensive KPI framework, where\\ntogether we agree the metrics and work out what's important to you. This is detailed in our\\nresponse to Q10  Performance Management\\nThat's why all our systems run through our CAFM solution, Maximo which we have invested\\nover 2.5m in developing to truly be market leading. Our approach to openness is captured\\nreally well throughout our submission, and particularly in the second short video from the MD\\nThat's why we empower our teams to be supported in the decisions they make. Having the\\nteam co-located in Trigonos allows us to be fast in our response, and we have made any\\nescalation points to our Board really simple for you. That is detailed in our response to Q6.4 \\nWe set up our company to change what we see as a failing industry and remove the\\nunnecessary complexity. We are a lean overhead business that puts more emphasis on\\nmanagement, supervision and expert support to our customers and we keep things simple. We\\nare also introducing a process engineering solution to all services which are detailed within our\\nresponse to Q6.13  Differentiating Factors & Adding Value. We believe you can clearly see what\\nwe want to do with this contract, how we are going to do it and when it will be done\\nWe have some great people who are real experts in transitioning people into our company\\nin a transparent, compliant and sensitive way. That's why we have not only a proven, great\\nmobilisation process but also a really engaging on-boarding, induction and integration pack.\\nAll this is detailed in our response to Q6.11  Mobilisation.\\nOur solution puts people at the\\nWe know you want to work with a partner that will\\nrespect, value and develop the people working hard\\nat your buildings delivering the services. You shared\\nwith us that they're great people who bring expertise,\\npassion and commitment in their roles. We share with\\nyou a common commitment to the people and really\\nalign with your desire to care for every team member\\nas this underpins our whole business culture. That's\\nwhy we will introduce a tailored People Programme\\nwhich at its core is all about respecting people\\nand treating them with dignity and consideration.\\nOur solution will introduce staff appraisals and\\ndevelopment for the team, with succession planning\\nbeing a key part of the programme. We promote an\\nopen and accountable culture where people can share\\nfeedback safe in the knowledge they are listened to.\\nWe see the re-design of the service as an opportunity\\nfor us both to do something really special for those\\nworking day in, day out, to support your business.\\nThere is an opportunity to improve remuneration\\nfrom the outset and to introduce exciting initiatives,\\nfocussing on reward, recognition and training that\\nwill amount to making working at your sites very\\ndesirable. It's for this reason we will continually\\nresearch local rates and bring local intelligence to\\nthe table as part of the future collaboration.\\nWe'll deliver a co-selected, co-located\\nteam with a vastly improved network\\nYou told us the current IFM model isn't working\\ncorrectly with questions whether structure is right\\nfor you following the Npower split. The services are\\nmanaged from the North and you have needed to\\nspend your own time looking after the teams. That's\\nwhy we have developed a bespoke management\\nsolution with the main objective to strive for service\\nquality, improvement and innovation. The Account\\nManager and their entire team will be dedicated to\\nthe contract based at Trigonos and located within a\\nThere is an opportunity to get these new key\\nplacements right from the very beginning which is\\nwhy we have committed to your participation in the\\nselection process. Through our analysis of local pay\\nwe have established an attractive package to ensure\\nwe get the best people to deliver the greatest results.\\n\\x0cWe know there are question marks surrounding the\\ncurrent performance management systems. This\\nhas led to doubts about the integrity of the reports\\nprovided which indicate green scores, but perception\\ndoesn't reflect this. You told us you want to move\\naway from green score cards and red faces. For this\\nreason, we will completely replace the performance\\nmanagement tools available, installing the latest\\nCAFM system Maximo 7.6 with dashboard reporting in\\nreal time, based on actual performance that is open,\\nYou advised us you would like your new provider to\\nmaintain transparent cost and budgeting structures.\\nFor this reason, we have created the position of\\nBusiness Services Manager. The new role will be\\nbased at Trigonos and one of their main functions\\nwill be to deliver fully open book financial\\nmanagement with clear and transparent access\\nto cost and budget performance.\\nWe will deliver transparent pricing as\\nYou told us you are looking for a truly meaningful\\nperformance management process. Our transparent\\nsystems enable us to measure every corner of the\\nservice which produces extensive metrics. This\\npresents an opportunity to design a performance\\nmanagement system with an SLA and KPI's that\\nreflect your exact expectations. We will deliver\\ndashboard reporting customised to each individual\\nuser experience and what's important to them,\\nshowing our true performance in real time in an easy\\nWe recognise at this stage in the tender process you\\nhave shared a significant amount of information with\\nus to develop our pricing proposal which we have built\\non a greenfield basis. In some cases, we have drawn\\non benchmarks to develop budgets and we have\\nindicated clearly in our submission. We know there\\nwill be additional surveys, information and workshops\\nto follow, such as TUPE, and we look forward to\\ndeveloping and refining these proposals with you to\\nmeet your expectations and budgets.\\nA transparency-based approach to\\nYou told us that you would like to\\nexplore continuous innovation solutions\\nthat can enhance the delivery based on\\nfeedback. That's why we will introduce\\nan Innovation Board which is designed\\nto capture ideas to innovate from\\neveryone connected to the service. We\\nwill provide recognition, incentive and\\nreward for those who bring forward\\nideas and present these to you on a\\nregular basis for consideration. At the\\nvery heart of our service is working\\nin partnership with you to continually\\ncapture what people want from the\\nservice through focus groups, survey\\nand feedback and use this to redesign\\nthe service allowing for continual\\nWe have brought forward several\\nkey innovations that we believe are\\ndifferentiators and the graphic on page\\nxx shows our vision for the contract\\nand the timelines we envisage to meet\\nWe are offering you a WorldHost\\ncertified service designed to transform\\nthe services into a great experience\\nperfectly aligned to meet and exceed\\nyour needs while continually adapting\\nas they change. Our proposal is\\ndesigned to put the customer at the\\nheart of everything we do for you,\\nwith a service that is more supportive,\\nYou told us throughout that you want\\nto ensure value is constantly delivered\\nat the point of delivery. Not only will\\nthe introduction of our Maximo system\\nshed a true light on the service, we\\nwill also capture feedback throughout\\nthe delivery. This includes exciting\\nand innovative ways to stimulate\\nfeedback at the point of delivery.\\nFeedback good or bad, will be used\\nto improve the service. We will work\\nwith you to encourage your teams to\\nshare feedback in the knowledge that\\nwhen a good job has been reported,\\nthe member of our team receives a\\nrecognition for it. We will move you away\\nfrom red faces, to handing out prizes.\\nWe know that as part of your CSR\\nobjectives you would like to see more\\nlocal suppliers being brought on board\\nto support the contract. We fully\\nsubscribe to this approach and in the\\nfirst instance we can offer you a fully\\nflexible model so that any existing local\\nsuppliers you favour can be novated to\\nthe supply chain. Secondly, although\\nwe carry out extensive vetting and\\ndue diligence on all of our approved\\nsuppliers, we are very agile which\\nis free to work with our Supply Chain\\nManager to explore any opportunities\\nto bring local suppliers on board that\\nYou advised us the technical leads are\\noverburdened which has a knock-on\\neffect to the team morale and the work\\nthat can realistically be achieved. We\\nbelieve this may be partly due to those\\nindividuals not having the correct level\\nof support from the centre. This is\\nsomething we will quickly address with\\na new dedicated management team\\nof Excellence and senior team who will\\nattend site on a regular basis and at\\nThe issue with overburdening has led us\\nto fully review the resourcing levels to\\nensure there is sufficient time allocated\\nfor the work. We understand some of\\nthe sites are grouped together with\\nTrigonos, which means that some of the\\nteam are absorbing work by travelling\\nto sites over an hour away. This is\\nsomething we will review in practice\\nas a better way maybe for one of our\\nmobile engineers to be assigned.\", 'score': 0.5380883213248235, 'question': None, 'meta': {'name': '1. Foreword & Executive Summary - Salisbury Group.pdf', 'vector_id': '0'}, 'embedding': None, 'id': 'a03c0e4a4cf94d526060b1341013715e'}],\n",
            "    'node_id': 'Generator',\n",
            "    'params': {'Retriever': {'top_k': 5}},\n",
            "    'query': 'How are you different than other FM companies?',\n",
            "    'root_node': 'Query'}\n"
          ]
        }
      ]
    }
  ]
}